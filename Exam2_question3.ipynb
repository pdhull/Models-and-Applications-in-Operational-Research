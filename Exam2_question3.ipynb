{
 "cells": [
  {
   "cell_type": "code",
   "execution_count": 23,
   "metadata": {},
   "outputs": [],
   "source": [
    "from gurobipy import GRB\n",
    "import gurobipy as gb\n",
    "import pandas as pd\n",
    "import numpy as np"
   ]
  },
  {
   "cell_type": "code",
   "execution_count": 24,
   "metadata": {},
   "outputs": [],
   "source": [
    "# Create the optimization model\n",
    "model = gb.Model(\"Question 3: Transportation\")"
   ]
  },
  {
   "cell_type": "code",
   "execution_count": 25,
   "metadata": {},
   "outputs": [],
   "source": [
    "cost = [0, 20, 0, 0, 25, 0, 0, \n",
    "        0, 0, 0, 0, 30, 0, 45,\n",
    "        20, 0, 0, 0, 0, 35, 0,\n",
    "        0, 30, 0, 0, 0, 0, 0,\n",
    "        0, 0, 25, 15, 0, 28, 0,\n",
    "        0, 0, 0, 0, 0, 0, 12,\n",
    "        0, 0, 0, 27, 0, 0, 0]"
   ]
  },
  {
   "cell_type": "code",
   "execution_count": 26,
   "metadata": {},
   "outputs": [],
   "source": [
    "cost = np.array(cost).reshape(7, -1)"
   ]
  },
  {
   "cell_type": "code",
   "execution_count": 27,
   "metadata": {},
   "outputs": [
    {
     "data": {
      "text/plain": [
       "array([[ 0, 20,  0,  0, 25,  0,  0],\n",
       "       [ 0,  0,  0,  0, 30,  0, 45],\n",
       "       [20,  0,  0,  0,  0, 35,  0],\n",
       "       [ 0, 30,  0,  0,  0,  0,  0],\n",
       "       [ 0,  0, 25, 15,  0, 28,  0],\n",
       "       [ 0,  0,  0,  0,  0,  0, 12],\n",
       "       [ 0,  0,  0, 27,  0,  0,  0]])"
      ]
     },
     "execution_count": 27,
     "metadata": {},
     "output_type": "execute_result"
    }
   ],
   "source": [
    "cost"
   ]
  },
  {
   "cell_type": "code",
   "execution_count": 28,
   "metadata": {},
   "outputs": [],
   "source": [
    "# From = {7 sites} and To = {7 sites}.\n",
    "x = model.addVars(7, 7, lb=0, vtype=GRB.CONTINUOUS, name=\"Transportation Between Hubs\")"
   ]
  },
  {
   "cell_type": "code",
   "execution_count": 29,
   "metadata": {},
   "outputs": [],
   "source": [
    "objective = gb.quicksum(cost[i,j] * x[i,j] for i in range(7) for j in range (7))\n",
    "model.setObjective(objective, GRB.MINIMIZE)"
   ]
  },
  {
   "cell_type": "code",
   "execution_count": 30,
   "metadata": {},
   "outputs": [
    {
     "data": {
      "text/plain": [
       "<gurobi.Constr *Awaiting Model Update*>"
      ]
     },
     "execution_count": 30,
     "metadata": {},
     "output_type": "execute_result"
    }
   ],
   "source": [
    "model.addConstr(x[0,1] + x[0,4] - x[2,0] == -0.08 * 1400, name=\"Hub 1 constraint\")\n",
    "model.addConstr(x[1,4] + x[1,6] - x[0,1] - x[3,1] == 0.05 * 1400, name=\"Hub 2 constraint\")\n",
    "model.addConstr(x[2,0] + x[2,5] - x[4,2] == 0.03 * 1400, name=\"Hub 3 constraint\")\n",
    "model.addConstr(x[3,1] - x[4,3] - x[6,3] == -0.03 * 1400, name=\"Hub 4 constraint\")\n",
    "model.addConstr(x[4,2] + x[4,3] + x[4,5] - x[0,4] - x[1,4] == 0.02 * 1400, name=\"Hub 5 constraint\")\n",
    "model.addConstr(x[5,6] - x[2,5] - x[4,5] == -0.05 * 1400, name=\"Hub 6 constraint\")\n",
    "model.addConstr(x[6,3] - x[1,6] - x[5,6] == 0.06 * 1400, name=\"Hub 7 constraint\")"
   ]
  },
  {
   "cell_type": "code",
   "execution_count": 31,
   "metadata": {},
   "outputs": [
    {
     "data": {
      "text/plain": [
       "<gurobi.Constr *Awaiting Model Update*>"
      ]
     },
     "execution_count": 31,
     "metadata": {},
     "output_type": "execute_result"
    }
   ],
   "source": [
    "model.addConstr(x[1,4] + x[1,6] + x[2,1] + x[2,5] <= 2*(x[3,1] + x[4,2] + x[4,3] + x[4,5]), name=\"First Logical Constraint\")"
   ]
  },
  {
   "cell_type": "code",
   "execution_count": 32,
   "metadata": {},
   "outputs": [
    {
     "data": {
      "text/plain": [
       "<gurobi.Constr *Awaiting Model Update*>"
      ]
     },
     "execution_count": 32,
     "metadata": {},
     "output_type": "execute_result"
    }
   ],
   "source": [
    "model.addConstr(gb.quicksum(x[i,j] for i in range (5) for j in range (7)) >= 0.05 * 1400, name=\"Second Logical Constraint Part 1\")\n",
    "model.addConstr(gb.quicksum(x[i,j] for i in range (5) for j in range (7)) <= 0.50 * 1400, name=\"Second Logical Constraint Part 2\")"
   ]
  },
  {
   "cell_type": "code",
   "execution_count": 33,
   "metadata": {},
   "outputs": [
    {
     "name": "stdout",
     "output_type": "stream",
     "text": [
      "Gurobi Optimizer version 11.0.0 build v11.0.0rc2 (win64 - Windows 11+.0 (22631.2))\n",
      "\n",
      "CPU model: Intel(R) Core(TM) i7-8750H CPU @ 2.20GHz, instruction set [SSE2|AVX|AVX2]\n",
      "Thread count: 6 physical cores, 12 logical processors, using up to 12 threads\n",
      "\n",
      "Optimize a model with 10 rows, 49 columns and 102 nonzeros\n",
      "Model fingerprint: 0x4ffa3e70\n",
      "Coefficient statistics:\n",
      "  Matrix range     [1e+00, 2e+00]\n",
      "  Objective range  [1e+01, 5e+01]\n",
      "  Bounds range     [0e+00, 0e+00]\n",
      "  RHS range        [3e+01, 7e+02]\n",
      "Presolve removed 8 rows and 46 columns\n",
      "Presolve time: 0.00s\n",
      "Presolved: 2 rows, 3 columns, 6 nonzeros\n",
      "\n",
      "Iteration    Objective       Primal Inf.    Dual Inf.      Time\n",
      "       0    1.0878000e+04   8.750000e+00   0.000000e+00      0s\n",
      "       1    1.2838000e+04   0.000000e+00   0.000000e+00      0s\n",
      "\n",
      "Solved in 1 iterations and 0.01 seconds (0.00 work units)\n",
      "Optimal objective  1.283800000e+04\n"
     ]
    }
   ],
   "source": [
    "# Optimally solve the problem\n",
    "model.optimize()"
   ]
  },
  {
   "cell_type": "code",
   "execution_count": 34,
   "metadata": {},
   "outputs": [
    {
     "name": "stdout",
     "output_type": "stream",
     "text": [
      "\n",
      "    Variable            X \n",
      "-------------------------\n",
      "Transportation Between Hubs[0,0]          294 \n",
      "Transportation Between Hubs[1,4]          112 \n",
      "Transportation Between Hubs[2,0]          112 \n",
      "Transportation Between Hubs[3,1]           42 \n",
      "Transportation Between Hubs[4,2]           70 \n",
      "Transportation Between Hubs[4,5]           70 \n",
      "Transportation Between Hubs[6,3]           84 \n",
      "None\n"
     ]
    }
   ],
   "source": [
    "# Print the decision variables\n",
    "print(model.printAttr('X'))"
   ]
  },
  {
   "cell_type": "code",
   "execution_count": 35,
   "metadata": {},
   "outputs": [
    {
     "name": "stdout",
     "output_type": "stream",
     "text": [
      "Total Transportation cost:  12838.0\n"
     ]
    }
   ],
   "source": [
    "# Value of the objective function\n",
    "print(\"Total Transportation cost: \", round(model.objVal, 2))"
   ]
  },
  {
   "cell_type": "code",
   "execution_count": null,
   "metadata": {},
   "outputs": [],
   "source": []
  }
 ],
 "metadata": {
  "kernelspec": {
   "display_name": "Python 3",
   "language": "python",
   "name": "python3"
  },
  "language_info": {
   "codemirror_mode": {
    "name": "ipython",
    "version": 3
   },
   "file_extension": ".py",
   "mimetype": "text/x-python",
   "name": "python",
   "nbconvert_exporter": "python",
   "pygments_lexer": "ipython3",
   "version": "3.11.3"
  }
 },
 "nbformat": 4,
 "nbformat_minor": 2
}
