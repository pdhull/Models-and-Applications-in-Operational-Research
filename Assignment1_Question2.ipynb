{
 "cells": [
  {
   "cell_type": "code",
   "execution_count": 1,
   "metadata": {},
   "outputs": [],
   "source": [
    "from gurobipy import GRB\n",
    "import gurobipy as gb"
   ]
  },
  {
   "cell_type": "code",
   "execution_count": 3,
   "metadata": {},
   "outputs": [
    {
     "name": "stdout",
     "output_type": "stream",
     "text": [
      "Gurobi Optimizer version 11.0.0 build v11.0.0rc2 (mac64[arm] - Darwin 23.3.0 23D56)\n",
      "\n",
      "CPU model: Apple M2\n",
      "Thread count: 8 physical cores, 8 logical processors, using up to 8 threads\n",
      "\n",
      "Optimize a model with 8 rows, 12 columns and 48 nonzeros\n",
      "Model fingerprint: 0x006e2a8b\n",
      "Coefficient statistics:\n",
      "  Matrix range     [3e-01, 1e+00]\n",
      "  Objective range  [1e+00, 1e+00]\n",
      "  Bounds range     [0e+00, 0e+00]\n",
      "  RHS range        [4e+04, 4e+05]\n",
      "Presolve removed 7 rows and 10 columns\n",
      "Presolve time: 0.00s\n",
      "Presolved: 1 rows, 2 columns, 2 nonzeros\n",
      "\n",
      "Iteration    Objective       Primal Inf.    Dual Inf.      Time\n",
      "       0    0.0000000e+00   5.250000e+03   0.000000e+00      0s\n",
      "       1    4.2735000e+04   0.000000e+00   0.000000e+00      0s\n",
      "\n",
      "Solved in 1 iterations and 0.01 seconds (0.00 work units)\n",
      "Optimal objective  4.273500000e+04\n",
      "Optimal Solution:\n",
      "('May', 1): 0.0\n",
      "('May', 2): 0.0\n",
      "('May', 3): 0.0\n",
      "('June', 1): 0.0\n",
      "('June', 2): 0.0\n",
      "('June', 3): 0.0\n",
      "('July', 1): 42000.0\n",
      "('July', 2): 0.0\n",
      "('July', 3): 0.0\n",
      "('August', 1): 0.0\n",
      "('August', 2): 0.0\n",
      "('August', 3): 0.0\n",
      "Optimal Objective Value:\n",
      "Total Repayment: 42735.0\n"
     ]
    }
   ],
   "source": [
    "import gurobipy as gb\n",
    "\n",
    "# Create a new optimization model\n",
    "model = gb.Model(\"Sunnyshore Bay Linear Program\")\n",
    "\n",
    "# Decision Variables\n",
    "X = {}\n",
    "months = ['May', 'June', 'July', 'August']\n",
    "term_structures = [1, 2, 3]\n",
    "\n",
    "for month in months:\n",
    "    for term in term_structures:\n",
    "        X[month, term] = model.addVar(lb=0, vtype=gb.GRB.CONTINUOUS, name=f\"X_{month}_{term}\")\n",
    "\n",
    "\n",
    "# Objective Function: Minimize the total amount repaid to the bank\n",
    "model.setObjective(\n",
    "    gb.quicksum((X[month, term] + X[month, term] * interest_rate) for month in months for term, interest_rate in zip(term_structures, [0.0175, 0.0225, 0.0275])),\n",
    "    gb.GRB.MINIMIZE\n",
    ")\n",
    "\n",
    "# Cash balance constraints\n",
    "model.addConstr(140000 + gb.quicksum(X['May', term] for term in term_structures) >= 25000, \"Cash_Balance_May\")\n",
    "model.addConstr(140000 + gb.quicksum(X['May', term] for term in term_structures) + gb.quicksum(X['June', term] for term in term_structures) >= 20000, \"Cash_Balance_June\")\n",
    "model.addConstr(140000 + gb.quicksum(X['May', term] for term in term_structures) + gb.quicksum(X['June', term] for term in term_structures) + gb.quicksum(X['July', term] for term in term_structures) >= 35000, \"Cash_Balance_July\")\n",
    "model.addConstr(140000 + gb.quicksum(X['May', term] for term in term_structures) + gb.quicksum(X['June', term] for term in term_structures) + gb.quicksum(X['July', term] for term in term_structures) + gb.quicksum(X['August', term] for term in term_structures) >= 18000, \"Cash_Balance_August\")\n",
    "\n",
    "# Total borrowed amount constraints\n",
    "model.addConstr(gb.quicksum(X['May', term] for term in term_structures) <= 250000, \"Total_Borrowed_May\")\n",
    "model.addConstr(gb.quicksum(X['June', term] for term in term_structures) <= 150000, \"Total_Borrowed_June\")\n",
    "model.addConstr(gb.quicksum(X['July', term] for term in term_structures) <= 350000, \"Total_Borrowed_July\")\n",
    "\n",
    "# Cash balance at the end of July constraint\n",
    "model.addConstr(140000 + gb.quicksum(X['May', term] for term in term_structures) + gb.quicksum(X['June', term] for term in term_structures) + gb.quicksum(X['July', term] for term in term_structures) >= 0.65 * ((140000 + gb.quicksum(X['May', term] for term in term_structures)) + (140000 + gb.quicksum(X['May', term] for term in term_structures) + gb.quicksum(X['June', term] for term in term_structures))), \"Cash_Balance_End_July\")\n",
    "\n",
    "# Optimize the model\n",
    "model.optimize()\n",
    "\n",
    "# Check if the optimization was successful\n",
    "if model.status == gb.GRB.OPTIMAL:\n",
    "    # Get the optimal solution and objective value\n",
    "    optimal_solution = {(month, term): X[month, term].x for month in months for term in term_structures}\n",
    "    optimal_objective_value = model.objVal\n",
    "\n",
    "    # Print the results\n",
    "    print(\"Optimal Solution:\")\n",
    "    for key, value in optimal_solution.items():\n",
    "        print(f\"{key}: {value}\")\n",
    "\n",
    "    print(\"Optimal Objective Value:\")\n",
    "    print(f\"Total Repayment: {optimal_objective_value}\")\n",
    "\n",
    "else:\n",
    "    print(\"No feasible solution found.\")\n"
   ]
  },
  {
   "cell_type": "code",
   "execution_count": 4,
   "metadata": {},
   "outputs": [
    {
     "name": "stdout",
     "output_type": "stream",
     "text": [
      "Number of different investments made: 1\n"
     ]
    }
   ],
   "source": [
    "# Assuming the model has been optimized successfully\n",
    "\n",
    "# Counting the number of investments made\n",
    "num_investments = sum(1 for month, term in X.keys() if X[month, term].x > 0)\n",
    "\n",
    "# Print the result\n",
    "print(f\"Number of different investments made: {num_investments}\")\n"
   ]
  },
  {
   "cell_type": "code",
   "execution_count": 5,
   "metadata": {},
   "outputs": [
    {
     "data": {
      "text/plain": [
       "<gurobi.Constr *Awaiting Model Update*>"
      ]
     },
     "execution_count": 5,
     "metadata": {},
     "output_type": "execute_result"
    }
   ],
   "source": [
    "# Assuming the decision variables (X) and the model are already defined\n",
    "\n",
    "# Minimum required cash balance at the end of June\n",
    "min_cash_balance_june = 20000\n",
    "\n",
    "# Cash balance constraint at the end of June\n",
    "model.addConstr(\n",
    "    140000 + gb.quicksum(X['May', term] for term in term_structures) + gb.quicksum(X['June', term] for term in term_structures) >= min_cash_balance_june,\n",
    "    \"Cash_Balance_June\"\n",
    ")\n"
   ]
  },
  {
   "cell_type": "code",
   "execution_count": 6,
   "metadata": {},
   "outputs": [
    {
     "data": {
      "text/plain": [
       "<gurobi.Constr *Awaiting Model Update*>"
      ]
     },
     "execution_count": 6,
     "metadata": {},
     "output_type": "execute_result"
    }
   ],
   "source": [
    "# Assuming the decision variables (X) and the model are already defined\n",
    "\n",
    "# Linear ratio constraint for cash balance at the end of July\n",
    "model.addConstr(\n",
    "    140000 + gb.quicksum(X['May', term] for term in term_structures) + gb.quicksum(X['June', term] for term in term_structures) + gb.quicksum(X['July', term] for term in term_structures) >= 0.65 * (140000 + gb.quicksum(X['May', term] for term in term_structures) + gb.quicksum(X['June', term] for term in term_structures)),\n",
    "    \"Cash_Balance_End_July\"\n",
    ")\n"
   ]
  },
  {
   "cell_type": "code",
   "execution_count": 7,
   "metadata": {},
   "outputs": [
    {
     "name": "stdout",
     "output_type": "stream",
     "text": [
      "Total Repayment: 42735.0\n"
     ]
    }
   ],
   "source": [
    "# Assuming the decision variables (X) and the model are already defined\n",
    "\n",
    "# Calculate total repayment\n",
    "total_repayment = sum(X[i, j].x + X[i, j].x * interest_rate for i in months for j, interest_rate in zip(term_structures, [0.0175, 0.0225, 0.0275]))\n",
    "\n",
    "# Print the result\n",
    "print(f\"Total Repayment: {total_repayment}\")\n"
   ]
  },
  {
   "cell_type": "code",
   "execution_count": 8,
   "metadata": {},
   "outputs": [
    {
     "name": "stdout",
     "output_type": "stream",
     "text": [
      "Amount Withdrawn in May: 0.0\n"
     ]
    }
   ],
   "source": [
    "# Assuming the decision variables (X) and the model are already defined\n",
    "\n",
    "# Calculate the amount withdrawn in May\n",
    "withdrawn_in_may = sum(X['May', j].x for j in term_structures)\n",
    "\n",
    "# Print the result\n",
    "print(f\"Amount Withdrawn in May: {withdrawn_in_may}\")\n"
   ]
  },
  {
   "cell_type": "code",
   "execution_count": 9,
   "metadata": {},
   "outputs": [
    {
     "name": "stdout",
     "output_type": "stream",
     "text": [
      "Cash Balance at the end of August: 182000.0\n"
     ]
    }
   ],
   "source": [
    "# Assuming the decision variables (X) and the model are already defined\n",
    "\n",
    "# Calculate the cash balance at the end of August\n",
    "cash_balance_august = (\n",
    "    140000\n",
    "    + sum(X['May', j].x for j in term_structures)\n",
    "    + sum(X['June', j].x for j in term_structures)\n",
    "    + sum(X['July', j].x for j in term_structures)\n",
    "    + sum(X['August', j].x for j in term_structures)\n",
    ")\n",
    "\n",
    "# Print the result\n",
    "print(f\"Cash Balance at the end of August: {cash_balance_august}\")\n"
   ]
  },
  {
   "cell_type": "code",
   "execution_count": 10,
   "metadata": {},
   "outputs": [
    {
     "name": "stdout",
     "output_type": "stream",
     "text": [
      "Gurobi Optimizer version 11.0.0 build v11.0.0rc2 (mac64[arm] - Darwin 23.3.0 23D56)\n",
      "\n",
      "CPU model: Apple M2\n",
      "Thread count: 8 physical cores, 8 logical processors, using up to 8 threads\n",
      "\n",
      "Optimize a model with 10 rows, 12 columns and 63 nonzeros\n",
      "Coefficient statistics:\n",
      "  Matrix range     [3e-01, 1e+00]\n",
      "  Objective range  [1e+00, 1e+00]\n",
      "  Bounds range     [0e+00, 0e+00]\n",
      "  RHS range        [3e+04, 4e+05]\n",
      "LP warm-start: use basis\n",
      "Iteration    Objective       Primal Inf.    Dual Inf.      Time\n",
      "       0    4.2735000e+04   2.750000e+04   0.000000e+00      0s\n",
      "       1    6.0922813e+04   0.000000e+00   0.000000e+00      0s\n",
      "\n",
      "Solved in 1 iterations and 0.00 seconds (0.00 work units)\n",
      "Optimal objective  6.092281250e+04\n",
      "New Total Repayment with increased cash balance for June: 60922.8125\n"
     ]
    }
   ],
   "source": [
    "# Assuming the decision variables (X) and the model are already defined\n",
    "\n",
    "# Update the minimum cash balance for June\n",
    "new_min_cash_balance_june = 27500\n",
    "\n",
    "# Update the cash balance constraint for June\n",
    "model.getConstrByName(\"Cash_Balance_June\").rhs = new_min_cash_balance_june\n",
    "\n",
    "# Re-optimize the model\n",
    "model.optimize()\n",
    "\n",
    "# Check if the optimization was successful\n",
    "if model.status == gb.GRB.OPTIMAL:\n",
    "    # Calculate the new total repayment\n",
    "    new_total_repayment = sum(X[i, j].x + X[i, j].x * interest_rate for i in months for j, interest_rate in zip(term_structures, [0.0175, 0.0225, 0.0275]))\n",
    "\n",
    "    # Print the result\n",
    "    print(f\"New Total Repayment with increased cash balance for June: {new_total_repayment}\")\n",
    "else:\n",
    "    print(\"No feasible solution found.\")\n"
   ]
  },
  {
   "cell_type": "code",
   "execution_count": 11,
   "metadata": {},
   "outputs": [
    {
     "name": "stdout",
     "output_type": "stream",
     "text": [
      "Gurobi Optimizer version 11.0.0 build v11.0.0rc2 (mac64[arm] - Darwin 23.3.0 23D56)\n",
      "\n",
      "CPU model: Apple M2\n",
      "Thread count: 8 physical cores, 8 logical processors, using up to 8 threads\n",
      "\n",
      "Optimize a model with 4 rows, 4 columns and 10 nonzeros\n",
      "Model fingerprint: 0x6bb89142\n",
      "Coefficient statistics:\n",
      "  Matrix range     [1e+00, 1e+00]\n",
      "  Objective range  [2e+04, 4e+04]\n",
      "  Bounds range     [0e+00, 0e+00]\n",
      "  RHS range        [2e-02, 3e-02]\n",
      "Presolve removed 1 rows and 0 columns\n",
      "Presolve time: 0.00s\n",
      "Presolved: 3 rows, 4 columns, 9 nonzeros\n",
      "\n",
      "Iteration    Objective       Primal Inf.    Dual Inf.      Time\n",
      "       0    9.6250000e+02   0.000000e+00   0.000000e+00      0s\n",
      "       0    9.6250000e+02   0.000000e+00   0.000000e+00      0s\n",
      "\n",
      "Solved in 0 iterations and 0.01 seconds (0.00 work units)\n",
      "Optimal objective  9.625000000e+02\n",
      "Optimal Dual Solution:\n",
      "May: 0.0\n",
      "June: 0.0\n",
      "July: 0.0275\n",
      "August: 0.0\n",
      "Optimal Dual Objective Value:\n",
      "Dual W = 962.5\n"
     ]
    }
   ],
   "source": [
    "import gurobipy as gb\n",
    "\n",
    "# Create a new optimization model for the dual problem\n",
    "dual_model = gb.Model(\"Sunnyshore Bay Dual Program\")\n",
    "\n",
    "# Dual variables\n",
    "y = {}\n",
    "months_dual = ['May', 'June', 'July', 'August']\n",
    "\n",
    "for month in months_dual:\n",
    "    y[month] = dual_model.addVar(lb=0, vtype=gb.GRB.CONTINUOUS, name=f\"y_{month}\")\n",
    "\n",
    "# Set the objective function to maximize\n",
    "dual_model.setObjective(25000 * y['May'] + 20000 * y['June'] + 35000 * y['July'] + 18000 * y['August'], gb.GRB.MAXIMIZE)\n",
    "\n",
    "# Add constraints\n",
    "dual_model.addConstr(y['May'] <= 0.0175, \"Dual_Constraint_May\")\n",
    "dual_model.addConstr(y['May'] + y['June'] <= 0.0225, \"Dual_Constraint_June\")\n",
    "dual_model.addConstr(y['May'] + y['June'] + y['July'] <= 0.0275, \"Dual_Constraint_July\")\n",
    "dual_model.addConstr(y['May'] + y['June'] + y['July'] + y['August'] <= 0.0275, \"Dual_Constraint_August\")\n",
    "\n",
    "# Optimize the dual model\n",
    "dual_model.optimize()\n",
    "\n",
    "# Check if the optimization was successful\n",
    "if dual_model.status == gb.GRB.OPTIMAL:\n",
    "    # Get the optimal solution and objective value for the dual problem\n",
    "    optimal_dual_solution = {month: y[month].x for month in months_dual}\n",
    "    optimal_dual_objective_value = dual_model.objVal\n",
    "\n",
    "    # Print the results\n",
    "    print(\"Optimal Dual Solution:\")\n",
    "    for key, value in optimal_dual_solution.items():\n",
    "        print(f\"{key}: {value}\")\n",
    "\n",
    "    print(\"Optimal Dual Objective Value:\")\n",
    "    print(f\"Dual W = {optimal_dual_objective_value}\")\n",
    "else:\n",
    "    print(\"No feasible solution found for the dual problem.\")\n"
   ]
  },
  {
   "cell_type": "markdown",
   "metadata": {},
   "source": [
    "The ease of solving the primal or dual model can depend on various factors, including the specific characteristics of the problem, the structure of the constraints and objective functions, and the solver algorithms.\n",
    "\n",
    "In general, both primal and dual formulations have their advantages and may be easier to solve in different situations:\n",
    "\n",
    "Primal Model:\n",
    "\n",
    "Typically, primal models are easier to interpret, and the decision variables directly correspond to the quantities of interest.\n",
    "When the primal problem has a simple structure, solving it directly may be straightforward.\n",
    "Dual Model:\n",
    "\n",
    "The dual model can sometimes provide additional insights into the problem, such as shadow prices associated with constraints.\n",
    "If the dual problem has a simpler structure or exhibits some favorable properties, it may be easier to solve.\n",
    "The choice between solving the primal or dual model often depends on the specific goals of the analysis and the characteristics of the problem at hand. In practice, it is not uncommon to solve both the primal and dual problems to gain a more comprehensive understanding of the optimization problem.\n",
    "\n",
    "In the context of linear programming problems like Sunnyshore Bay, Gurobi and other solvers are designed to handle both primal and dual formulations efficiently. The ease of solving either model may depend on the specific characteristics of the instance of the problem you are dealing with. It's recommended to experiment with both formulations and assess the performance based on your specific scenario."
   ]
  },
  {
   "cell_type": "markdown",
   "metadata": {},
   "source": []
  }
 ],
 "metadata": {
  "kernelspec": {
   "display_name": "Python 3",
   "language": "python",
   "name": "python3"
  },
  "language_info": {
   "codemirror_mode": {
    "name": "ipython",
    "version": 3
   },
   "file_extension": ".py",
   "mimetype": "text/x-python",
   "name": "python",
   "nbconvert_exporter": "python",
   "pygments_lexer": "ipython3",
   "version": "3.12.1"
  }
 },
 "nbformat": 4,
 "nbformat_minor": 2
}
