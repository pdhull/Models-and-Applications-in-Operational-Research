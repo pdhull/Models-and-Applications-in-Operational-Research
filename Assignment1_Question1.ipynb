{
 "cells": [
  {
   "cell_type": "code",
   "execution_count": 2,
   "metadata": {},
   "outputs": [
    {
     "name": "stderr",
     "output_type": "stream",
     "text": [
      "/var/folders/9w/090_7gb54d54ppm4sfqk8xgr0000gn/T/ipykernel_1365/836809378.py:3: DeprecationWarning: \n",
      "Pyarrow will become a required dependency of pandas in the next major release of pandas (pandas 3.0),\n",
      "(to allow more performant data types, such as the Arrow string type, and better interoperability with other libraries)\n",
      "but was not found to be installed on your system.\n",
      "If this would cause problems for you,\n",
      "please provide us feedback at https://github.com/pandas-dev/pandas/issues/54466\n",
      "        \n",
      "  import pandas as pd\n"
     ]
    }
   ],
   "source": [
    "from gurobipy import GRB\n",
    "import gurobipy as gb\n",
    "import pandas as pd\n",
    "import numpy as np"
   ]
  },
  {
   "cell_type": "code",
   "execution_count": 3,
   "metadata": {},
   "outputs": [
    {
     "name": "stdout",
     "output_type": "stream",
     "text": [
      "Requirement already satisfied: gurobipy in /Library/Frameworks/Python.framework/Versions/3.12/lib/python3.12/site-packages (11.0.0)\n",
      "\n",
      "\u001b[1m[\u001b[0m\u001b[34;49mnotice\u001b[0m\u001b[1;39;49m]\u001b[0m\u001b[39;49m A new release of pip is available: \u001b[0m\u001b[31;49m23.2.1\u001b[0m\u001b[39;49m -> \u001b[0m\u001b[32;49m23.3.2\u001b[0m\n",
      "\u001b[1m[\u001b[0m\u001b[34;49mnotice\u001b[0m\u001b[1;39;49m]\u001b[0m\u001b[39;49m To update, run: \u001b[0m\u001b[32;49mpip3 install --upgrade pip\u001b[0m\n",
      "Note: you may need to restart the kernel to use updated packages.\n"
     ]
    }
   ],
   "source": [
    "pip install gurobipy"
   ]
  },
  {
   "cell_type": "code",
   "execution_count": 4,
   "metadata": {},
   "outputs": [
    {
     "name": "stdout",
     "output_type": "stream",
     "text": [
      "Restricted license - for non-production use only - expires 2025-11-24\n"
     ]
    }
   ],
   "source": [
    "# Create the optimization model\n",
    "model = gb.Model(\"Can2Oil Transshipment Problem\")"
   ]
  },
  {
   "cell_type": "code",
   "execution_count": 5,
   "metadata": {},
   "outputs": [],
   "source": [
    "#Loading the data from CSV files\n",
    "cost_production_to_refinement_df = pd.read_csv('/Users/pratiksha/Downloads/Cost_Production_to_Refinement.csv')\n",
    "cost_production_to_transshipment_df = pd.read_csv('/Users/pratiksha/Downloads/Cost_Production_to_Transshipment.csv')\n",
    "cost_transshipment_to_refinement_df = pd.read_csv('/Users/pratiksha/Downloads/Cost_Transshipment_to_Refinement.csv')\n",
    "capacity_direct_production_df = pd.read_csv('/Users/pratiksha/Downloads/Capacity_for_Direct_Production_Facilities.csv')\n",
    "capacity_transship_production_df = pd.read_csv('/Users/pratiksha/Downloads/Capacity_for_Transship_Production_Facilities.csv')\n",
    "capacity_transship_distribution_df = pd.read_csv('//Users/pratiksha/Downloads/Capacity_for_Transship_Distribution_Centers.csv')\n",
    "refinement_demand_df = pd.read_csv('/Users/pratiksha/Downloads/Refinement_Demand.csv')"
   ]
  },
  {
   "cell_type": "code",
   "execution_count": 6,
   "metadata": {},
   "outputs": [
    {
     "name": "stdout",
     "output_type": "stream",
     "text": [
      "   ProductionFacility  RefinementCenter      Cost\n",
      "0                   1                 1  4.252733\n",
      "1                   1                 2  4.567726\n",
      "2                   1                 3  4.696484\n",
      "3                   1                 4  2.678741\n",
      "4                   1                 5  4.272451\n",
      "   ProductionFacility  TransshipmentHub      Cost\n",
      "0                   1                 1  2.378826\n",
      "1                   1                 2  0.863842\n",
      "2                   2                 1  1.666982\n",
      "3                   2                 2  2.119488\n",
      "4                   3                 1  2.174880\n",
      "   TransshipmentHub  RefinementCenter      Cost\n",
      "0                 1                 1  1.572329\n",
      "1                 1                 2  3.465474\n",
      "2                 1                 3  2.244062\n",
      "3                 1                 4  3.773839\n",
      "4                 1                 5  3.262652\n",
      "   ProductionFacility  Capacity\n",
      "0                   1       462\n",
      "1                   2       103\n",
      "2                   3       460\n",
      "3                   4       325\n",
      "4                   5       227\n",
      "   ProductionFacility  Capacity\n",
      "0                   1       374\n",
      "1                   2       444\n",
      "2                   3       395\n",
      "3                   4       245\n",
      "4                   5       378\n",
      "   TransshipmentHub  Capacity\n",
      "0                 1      1317\n",
      "1                 2      1453\n",
      "   RefinementCenter  Demand\n",
      "0                 1    1537\n",
      "1                 2    1748\n",
      "2                 3    1940\n",
      "3                 4    1838\n",
      "4                 5    1665\n"
     ]
    }
   ],
   "source": [
    "#Print rows from CSV to check data is loaded correctly\n",
    "print(cost_production_to_refinement_df.head())\n",
    "print(cost_production_to_transshipment_df.head())\n",
    "print(cost_transshipment_to_refinement_df.head())\n",
    "print(capacity_direct_production_df.head())\n",
    "print(capacity_transship_production_df.head())\n",
    "print(capacity_transship_distribution_df.head())\n",
    "print(refinement_demand_df.head())"
   ]
  },
  {
   "cell_type": "code",
   "execution_count": 7,
   "metadata": {},
   "outputs": [],
   "source": [
    "# A list of list of costs in matrix form to work on it\n",
    "direct_shipping_costs_list = cost_production_to_refinement_df['Cost'].values.reshape(25, -1)\n",
    "shipping_to_transsipment_costs_list = cost_production_to_transshipment_df['Cost'].values.reshape(15, -1)\n",
    "transsipment_to_refinement_costs_list = cost_transshipment_to_refinement_df['Cost'].values.reshape(2, -1)"
   ]
  },
  {
   "cell_type": "code",
   "execution_count": 8,
   "metadata": {},
   "outputs": [
    {
     "data": {
      "text/plain": [
       "array([[4.25273277, 4.56772552, 4.69648446, 2.67874096, 4.27245069],\n",
       "       [2.95047222, 2.63661931, 2.85346871, 5.48002613, 3.03749539],\n",
       "       [4.02568313, 5.40779944, 3.38094894, 5.44123713, 4.40886217],\n",
       "       [3.46114107, 5.34694389, 4.99366311, 5.96818684, 4.83600407],\n",
       "       [5.94681429, 4.74917249, 3.72614981, 3.58915858, 4.93741459],\n",
       "       [3.46939366, 2.75501443, 5.60123055, 4.49910112, 4.22405746],\n",
       "       [4.7290315 , 4.30193766, 3.67740309, 4.15881121, 4.15956806],\n",
       "       [5.74380976, 5.57158666, 5.09534814, 5.34986497, 2.62562966],\n",
       "       [4.25622982, 5.56865574, 4.13714572, 4.90410382, 3.05688139],\n",
       "       [4.29664067, 5.75680178, 4.87474585, 4.10968275, 4.66040916],\n",
       "       [4.02164417, 5.38745866, 5.4089004 , 5.18510303, 3.47259321],\n",
       "       [3.28957805, 3.58831517, 3.62182771, 4.84919596, 4.89636402],\n",
       "       [2.9072415 , 4.15142098, 4.60651418, 5.22233913, 3.76568815],\n",
       "       [5.80493436, 3.58642269, 4.32677984, 5.63769746, 3.39212168],\n",
       "       [5.87454415, 3.572913  , 3.79897077, 2.91793106, 5.43496734],\n",
       "       [2.8220575 , 4.10130751, 4.95439918, 4.19164594, 3.1454322 ],\n",
       "       [5.02789698, 4.67095384, 5.12286983, 4.09337178, 5.62927336],\n",
       "       [3.02488242, 2.71410269, 3.5826889 , 3.10998883, 2.62833688],\n",
       "       [3.34709507, 5.83444497, 5.8110041 , 2.85704775, 4.56837714],\n",
       "       [4.81217859, 4.54078328, 4.504062  , 3.60485169, 5.95739562],\n",
       "       [5.87531792, 3.7604349 , 2.55688209, 5.07318525, 2.91307076],\n",
       "       [2.8957845 , 5.60692168, 3.27463703, 2.85475969, 5.25852458],\n",
       "       [4.71173486, 2.63791887, 4.28677306, 4.10198461, 5.79644057],\n",
       "       [5.63121907, 5.17582145, 3.21758562, 5.28542907, 5.0469302 ],\n",
       "       [4.38417588, 5.94344807, 4.99921981, 4.15483307, 5.07528003]])"
      ]
     },
     "execution_count": 8,
     "metadata": {},
     "output_type": "execute_result"
    }
   ],
   "source": [
    "direct_shipping_costs_list"
   ]
  },
  {
   "cell_type": "code",
   "execution_count": 9,
   "metadata": {},
   "outputs": [
    {
     "data": {
      "text/plain": [
       "array([[2.37882586, 0.86384215],\n",
       "       [1.66698156, 2.11948817],\n",
       "       [2.17488041, 0.94818376],\n",
       "       [2.67741553, 0.5924201 ],\n",
       "       [2.82024783, 0.97232892],\n",
       "       [2.85389005, 2.6943427 ],\n",
       "       [1.40702817, 1.42832532],\n",
       "       [2.48499907, 0.95347666],\n",
       "       [1.78637201, 0.63669962],\n",
       "       [0.68852771, 2.25970328],\n",
       "       [2.40128579, 1.80010665],\n",
       "       [0.56435019, 2.12484244],\n",
       "       [1.98606958, 2.34717953],\n",
       "       [1.63996858, 1.61928103],\n",
       "       [0.64904663, 1.96881166]])"
      ]
     },
     "execution_count": 9,
     "metadata": {},
     "output_type": "execute_result"
    }
   ],
   "source": [
    "shipping_to_transsipment_costs_list"
   ]
  },
  {
   "cell_type": "code",
   "execution_count": 10,
   "metadata": {},
   "outputs": [
    {
     "data": {
      "text/plain": [
       "array([[1.57232851, 3.46547396, 2.24406225, 3.77383915, 3.2626518 ],\n",
       "       [1.90042452, 1.6131232 , 1.70723241, 2.70539568, 2.25742842]])"
      ]
     },
     "execution_count": 10,
     "metadata": {},
     "output_type": "execute_result"
    }
   ],
   "source": [
    "transsipment_to_refinement_costs_list"
   ]
  },
  {
   "cell_type": "code",
   "execution_count": 11,
   "metadata": {},
   "outputs": [],
   "source": [
    "# Create the a single class of decision variables where\n",
    "# From = {Ca,US,M,C,F} and To = {R1,R2,R3,R4,R5}.\n",
    "x = model.addVars(25, 5, lb=0, vtype=GRB.CONTINUOUS, name=\"Direct Shipping\")\n",
    "# From = {I,U,G} and To = {Italy,Greece}.\n",
    "y = model.addVars(15, 2, lb=0, vtype=GRB.CONTINUOUS, name=\"Ship to Transshipment\")\n",
    "# From = {Italy,Greece} and To = {R1,R2,R3,R4,R5}.\n",
    "z = model.addVars(2, 5, lb=0, vtype=GRB.CONTINUOUS, name=\"Transshipment to Refinement\")"
   ]
  },
  {
   "cell_type": "code",
   "execution_count": 12,
   "metadata": {},
   "outputs": [],
   "source": [
    "# The objective function\n",
    "direct_objective = gb.quicksum(direct_shipping_costs_list[i][j]*x[i,j] for i in range(25) for j in range(5))\n",
    "trans_objective = gb.quicksum(shipping_to_transsipment_costs_list[i][j]*y[i,j] for i in range(15) for j in range(2))\n",
    "trans_to_refinement_objective = gb.quicksum(transsipment_to_refinement_costs_list[i][j]*z[i,j] for i in range(2) for j in range(5))\n",
    "model.setObjective(direct_objective + trans_objective + trans_to_refinement_objective, GRB.MINIMIZE)"
   ]
  },
  {
   "cell_type": "code",
   "execution_count": 13,
   "metadata": {},
   "outputs": [],
   "source": [
    "capacity_direct_list = capacity_direct_production_df['Capacity'].values.reshape(25, -1)\n",
    "capacity_transship_distribution_list = capacity_transship_distribution_df['Capacity'].values.reshape(2, -1)\n",
    "capacity_transship_production_list = capacity_transship_production_df['Capacity'].values.reshape(15, -1)\n",
    "refinement_demand_list = refinement_demand_df['Demand'].values.reshape(5, -1)"
   ]
  },
  {
   "cell_type": "code",
   "execution_count": 14,
   "metadata": {},
   "outputs": [
    {
     "data": {
      "text/plain": [
       "array([[462],\n",
       "       [103],\n",
       "       [460],\n",
       "       [325],\n",
       "       [227],\n",
       "       [217],\n",
       "       [205],\n",
       "       [521],\n",
       "       [548],\n",
       "       [191],\n",
       "       [361],\n",
       "       [411],\n",
       "       [104],\n",
       "       [155],\n",
       "       [285],\n",
       "       [109],\n",
       "       [422],\n",
       "       [438],\n",
       "       [501],\n",
       "       [139],\n",
       "       [462],\n",
       "       [504],\n",
       "       [106],\n",
       "       [132],\n",
       "       [298]])"
      ]
     },
     "execution_count": 14,
     "metadata": {},
     "output_type": "execute_result"
    }
   ],
   "source": [
    "capacity_direct_list"
   ]
  },
  {
   "cell_type": "code",
   "execution_count": 15,
   "metadata": {},
   "outputs": [
    {
     "data": {
      "text/plain": [
       "array([[1317],\n",
       "       [1453]])"
      ]
     },
     "execution_count": 15,
     "metadata": {},
     "output_type": "execute_result"
    }
   ],
   "source": [
    "capacity_transship_distribution_list"
   ]
  },
  {
   "cell_type": "code",
   "execution_count": 16,
   "metadata": {},
   "outputs": [
    {
     "data": {
      "text/plain": [
       "array([[374],\n",
       "       [444],\n",
       "       [395],\n",
       "       [245],\n",
       "       [378],\n",
       "       [408],\n",
       "       [435],\n",
       "       [175],\n",
       "       [415],\n",
       "       [503],\n",
       "       [184],\n",
       "       [297],\n",
       "       [450],\n",
       "       [169],\n",
       "       [365]])"
      ]
     },
     "execution_count": 16,
     "metadata": {},
     "output_type": "execute_result"
    }
   ],
   "source": [
    "capacity_transship_production_list"
   ]
  },
  {
   "cell_type": "code",
   "execution_count": 17,
   "metadata": {},
   "outputs": [
    {
     "data": {
      "text/plain": [
       "array([[1537],\n",
       "       [1748],\n",
       "       [1940],\n",
       "       [1838],\n",
       "       [1665]])"
      ]
     },
     "execution_count": 17,
     "metadata": {},
     "output_type": "execute_result"
    }
   ],
   "source": [
    "refinement_demand_list"
   ]
  },
  {
   "cell_type": "code",
   "execution_count": 18,
   "metadata": {},
   "outputs": [
    {
     "name": "stderr",
     "output_type": "stream",
     "text": [
      "/var/folders/9w/090_7gb54d54ppm4sfqk8xgr0000gn/T/ipykernel_1365/1095294607.py:3: DeprecationWarning: Conversion of an array with ndim > 0 to a scalar is deprecated, and will error in future. Ensure you extract a single element from your array before performing this operation. (Deprecated NumPy 1.25.)\n",
      "  model.addConstr(gb.quicksum(x[i, j] for j in range(5)) <= capacity_direct_list[i], name=f\"Direct Supply Constraint {i + 1}\")\n"
     ]
    }
   ],
   "source": [
    "# Add the supply constraints from source nodes for direct shipping\n",
    "for i in range(len(capacity_direct_list)):\n",
    "    model.addConstr(gb.quicksum(x[i, j] for j in range(5)) <= capacity_direct_list[i], name=f\"Direct Supply Constraint {i + 1}\")"
   ]
  },
  {
   "cell_type": "code",
   "execution_count": 19,
   "metadata": {},
   "outputs": [
    {
     "name": "stderr",
     "output_type": "stream",
     "text": [
      "/var/folders/9w/090_7gb54d54ppm4sfqk8xgr0000gn/T/ipykernel_1365/2848139284.py:3: DeprecationWarning: Conversion of an array with ndim > 0 to a scalar is deprecated, and will error in future. Ensure you extract a single element from your array before performing this operation. (Deprecated NumPy 1.25.)\n",
      "  model.addConstr(gb.quicksum(y[i, j] for j in range(2)) <= capacity_transship_production_list[i], name=f\"Transshipment Supply Constraint {i + 1}\")\n"
     ]
    }
   ],
   "source": [
    "# Add the supply constraints from source nodes for transshipment shipping\n",
    "for i in range(len(capacity_transship_production_list)):\n",
    "    model.addConstr(gb.quicksum(y[i, j] for j in range(2)) <= capacity_transship_production_list[i], name=f\"Transshipment Supply Constraint {i + 1}\")"
   ]
  },
  {
   "cell_type": "code",
   "execution_count": 20,
   "metadata": {},
   "outputs": [
    {
     "name": "stderr",
     "output_type": "stream",
     "text": [
      "/var/folders/9w/090_7gb54d54ppm4sfqk8xgr0000gn/T/ipykernel_1365/355622148.py:2: DeprecationWarning: Conversion of an array with ndim > 0 to a scalar is deprecated, and will error in future. Ensure you extract a single element from your array before performing this operation. (Deprecated NumPy 1.25.)\n",
      "  model.addConstr(gb.quicksum(y[i,0] for i in range(15)) <= capacity_transship_distribution_list[0], name=\"Transship Capacity 1\")\n",
      "/var/folders/9w/090_7gb54d54ppm4sfqk8xgr0000gn/T/ipykernel_1365/355622148.py:3: DeprecationWarning: Conversion of an array with ndim > 0 to a scalar is deprecated, and will error in future. Ensure you extract a single element from your array before performing this operation. (Deprecated NumPy 1.25.)\n",
      "  model.addConstr(gb.quicksum(y[i,1] for i in range(15)) <= capacity_transship_distribution_list[1], name=\"Transship Capacity 2\")\n"
     ]
    },
    {
     "data": {
      "text/plain": [
       "<gurobi.Constr *Awaiting Model Update*>"
      ]
     },
     "execution_count": 20,
     "metadata": {},
     "output_type": "execute_result"
    }
   ],
   "source": [
    "# Add the supply constraints from transshipment nodes\n",
    "model.addConstr(gb.quicksum(y[i,0] for i in range(15)) <= capacity_transship_distribution_list[0], name=\"Transship Capacity 1\")\n",
    "model.addConstr(gb.quicksum(y[i,1] for i in range(15)) <= capacity_transship_distribution_list[1], name=\"Transship Capacity 2\")"
   ]
  },
  {
   "cell_type": "code",
   "execution_count": 21,
   "metadata": {},
   "outputs": [
    {
     "data": {
      "text/plain": [
       "<gurobi.Constr *Awaiting Model Update*>"
      ]
     },
     "execution_count": 21,
     "metadata": {},
     "output_type": "execute_result"
    }
   ],
   "source": [
    "# Add the flow balance constrainits\n",
    "model.addConstr(gb.quicksum(y[i,0] for i in range(15)) == gb.quicksum(z[0,k] for k in range(5)), name=\"Flow Balance 1\")\n",
    "model.addConstr(gb.quicksum(y[i,1] for i in range(15)) == gb.quicksum(z[1,k] for k in range(5)), name=\"Flow Balance 2\")"
   ]
  },
  {
   "cell_type": "code",
   "execution_count": 22,
   "metadata": {},
   "outputs": [
    {
     "name": "stderr",
     "output_type": "stream",
     "text": [
      "/var/folders/9w/090_7gb54d54ppm4sfqk8xgr0000gn/T/ipykernel_1365/4131438973.py:3: DeprecationWarning: Conversion of an array with ndim > 0 to a scalar is deprecated, and will error in future. Ensure you extract a single element from your array before performing this operation. (Deprecated NumPy 1.25.)\n",
      "  model.addConstr(gb.quicksum(x[i, k] for i in range(25)) + gb.quicksum(z[j, k] for j in range(2)) == refinement_demand_list[k], name=f\"Refinement Demand Constraint {k + 1}\")\n"
     ]
    }
   ],
   "source": [
    "# Add the demand constraints\n",
    "for k in range(len(refinement_demand_list)):  # Iterate over refinement nodes R1 to R5\n",
    "    model.addConstr(gb.quicksum(x[i, k] for i in range(25)) + gb.quicksum(z[j, k] for j in range(2)) == refinement_demand_list[k], name=f\"Refinement Demand Constraint {k + 1}\")"
   ]
  },
  {
   "cell_type": "code",
   "execution_count": 23,
   "metadata": {},
   "outputs": [
    {
     "name": "stdout",
     "output_type": "stream",
     "text": [
      "Gurobi Optimizer version 11.0.0 build v11.0.0rc2 (mac64[arm] - Darwin 23.3.0 23D56)\n",
      "\n",
      "CPU model: Apple M2\n",
      "Thread count: 8 physical cores, 8 logical processors, using up to 8 threads\n",
      "\n",
      "Optimize a model with 49 rows, 165 columns and 360 nonzeros\n",
      "Model fingerprint: 0x7f8fadb4\n",
      "Coefficient statistics:\n",
      "  Matrix range     [1e+00, 1e+00]\n",
      "  Objective range  [6e-01, 6e+00]\n",
      "  Bounds range     [0e+00, 0e+00]\n",
      "  RHS range        [1e+02, 2e+03]\n",
      "Presolve time: 0.00s\n",
      "Presolved: 49 rows, 165 columns, 360 nonzeros\n",
      "\n",
      "Iteration    Objective       Primal Inf.    Dual Inf.      Time\n",
      "       0    1.7230583e+04   8.266000e+03   0.000000e+00      0s\n",
      "      36    2.4188585e+04   0.000000e+00   0.000000e+00      0s\n",
      "\n",
      "Solved in 36 iterations and 0.00 seconds (0.00 work units)\n",
      "Optimal objective  2.418858517e+04\n"
     ]
    }
   ],
   "source": [
    "# Optimally solve the problem\n",
    "model.optimize()"
   ]
  },
  {
   "cell_type": "code",
   "execution_count": 24,
   "metadata": {},
   "outputs": [
    {
     "name": "stdout",
     "output_type": "stream",
     "text": [
      "Number of Decision Variables:  165\n",
      "Total Transportation cost:  24188.58516544768\n",
      "\n",
      "    Variable            X \n",
      "-------------------------\n",
      "Direct Shipping[0,3]          462 \n",
      "Direct Shipping[1,1]          103 \n",
      "Direct Shipping[2,2]          460 \n",
      "Direct Shipping[4,3]           86 \n",
      "Direct Shipping[5,1]          217 \n",
      "Direct Shipping[7,4]          521 \n",
      "Direct Shipping[8,4]          548 \n",
      "Direct Shipping[10,4]          354 \n",
      "Direct Shipping[11,0]            7 \n",
      "Direct Shipping[11,2]          404 \n",
      "Direct Shipping[12,0]          104 \n",
      "Direct Shipping[13,4]          155 \n",
      "Direct Shipping[14,3]          285 \n",
      "Direct Shipping[15,0]          109 \n",
      "Direct Shipping[17,1]          351 \n",
      "Direct Shipping[17,4]           87 \n",
      "Direct Shipping[18,3]          501 \n",
      "Direct Shipping[20,2]          462 \n",
      "Direct Shipping[21,3]          504 \n",
      "Direct Shipping[22,1]          106 \n",
      "Direct Shipping[23,2]          132 \n",
      "Ship to Transshipment[0,1]          374 \n",
      "Ship to Transshipment[2,1]          395 \n",
      "Ship to Transshipment[3,1]          245 \n",
      "Ship to Transshipment[6,0]          152 \n",
      "Ship to Transshipment[7,1]           24 \n",
      "Ship to Transshipment[8,1]          415 \n",
      "Ship to Transshipment[9,0]          503 \n",
      "Ship to Transshipment[11,0]          297 \n",
      "Ship to Transshipment[14,0]          365 \n",
      "Transshipment to Refinement[0,0]         1317 \n",
      "Transshipment to Refinement[1,1]          971 \n",
      "Transshipment to Refinement[1,2]          482 \n",
      "None\n"
     ]
    }
   ],
   "source": [
    "# Number of variables in the model\n",
    "print(\"Number of Decision Variables: \", model.numVars)\n",
    "\n",
    "# Value of the objective function\n",
    "print(\"Total Transportation cost: \", model.objVal)\n",
    "\n",
    "# Print the decision variables\n",
    "print(model.printAttr('X'))"
   ]
  },
  {
   "cell_type": "code",
   "execution_count": 25,
   "metadata": {},
   "outputs": [
    {
     "name": "stdout",
     "output_type": "stream",
     "text": [
      "Proportion of canola oil transshipped: [0.50891053]\n"
     ]
    }
   ],
   "source": [
    "# Extracting the decision variables for transshipment from India, Ukraine, and Germany to distribution centers\n",
    "transship_to_italy = sum(z[0, j].x for j in range(5))  # Transshipment to Italy\n",
    "transship_to_greece = sum(z[1, j].x for j in range(5))  # Transshipment to Greece\n",
    "\n",
    "# Total amount of canola oil transshipped\n",
    "total_transshipped = transship_to_italy + transship_to_greece\n",
    "\n",
    "# Total demand for canola oil sourced from India, Ukraine, and Germany\n",
    "total_demand_transshipped = sum(refinement_demand_list[j] for j in range(2, 5))\n",
    "\n",
    "# Calculate proportion of canola oil transshipped\n",
    "proportion_transshipped = total_transshipped / total_demand_transshipped\n",
    "\n",
    "# Display the result\n",
    "print(\"Proportion of canola oil transshipped:\", proportion_transshipped)"
   ]
  },
  {
   "cell_type": "code",
   "execution_count": 26,
   "metadata": {},
   "outputs": [
    {
     "name": "stdout",
     "output_type": "stream",
     "text": [
      "Gurobi Optimizer version 11.0.0 build v11.0.0rc2 (mac64[arm] - Darwin 23.3.0 23D56)\n",
      "\n",
      "CPU model: Apple M2\n",
      "Thread count: 8 physical cores, 8 logical processors, using up to 8 threads\n",
      "\n",
      "Optimize a model with 50 rows, 166 columns and 361 nonzeros\n",
      "Coefficient statistics:\n",
      "  Matrix range     [1e+00, 1e+00]\n",
      "  Objective range  [6e-01, 6e+00]\n",
      "  Bounds range     [0e+00, 0e+00]\n",
      "  RHS range        [1e+02, 2e+03]\n",
      "LP warm-start: use basis\n",
      "Iteration    Objective       Primal Inf.    Dual Inf.      Time\n",
      "       0    2.4188585e+04   0.000000e+00   0.000000e+00      0s\n",
      "\n",
      "Solved in 0 iterations and 0.00 seconds (0.00 work units)\n",
      "Optimal objective  2.418858517e+04\n",
      "The proportion of canola oil transshipped is: 48.18%\n"
     ]
    }
   ],
   "source": [
    "# Create a new decision variable for transshipment flow\n",
    "t = model.addVars(1, lb=0, vtype=GRB.CONTINUOUS, name=\"Total Transshipment\")\n",
    "\n",
    "# Modify the objective function to include the new variable\n",
    "model.setObjective(\n",
    "    direct_objective + trans_objective + trans_to_refinement_objective + t[0],\n",
    "    GRB.MINIMIZE\n",
    ")\n",
    "\n",
    "# Add a constraint to limit the total transshipment\n",
    "transshipment_limit = 100  # Adjust this value based on your specific constraint\n",
    "model.addConstr(t[0] <= transshipment_limit, name=\"Transshipment Limit\")\n",
    "\n",
    "# Solve the modified model\n",
    "model.optimize()\n",
    "\n",
    "# Extract the optimal values of decision variables\n",
    "optimal_values_x = model.getAttr('x', x)\n",
    "optimal_values_y = model.getAttr('x', y)\n",
    "optimal_values_z = model.getAttr('x', z)\n",
    "optimal_value_t = model.getAttr('x', t)[0]\n",
    "\n",
    "# Calculate the proportion of canola oil transshipped\n",
    "total_transshipped = sum(optimal_values_y.values()) + sum(optimal_values_z.values()) + optimal_value_t\n",
    "total_canola_oil = sum(optimal_values_x.values()) + total_transshipped\n",
    "proportion_transshipped = total_transshipped / total_canola_oil\n",
    "\n",
    "print(f\"The proportion of canola oil transshipped is: {proportion_transshipped:.2%}\")\n"
   ]
  },
  {
   "cell_type": "code",
   "execution_count": 27,
   "metadata": {},
   "outputs": [
    {
     "name": "stdout",
     "output_type": "stream",
     "text": [
      "Gurobi Optimizer version 11.0.0 build v11.0.0rc2 (mac64[arm] - Darwin 23.3.0 23D56)\n",
      "\n",
      "CPU model: Apple M2\n",
      "Thread count: 8 physical cores, 8 logical processors, using up to 8 threads\n",
      "\n",
      "Optimize a model with 51 rows, 167 columns and 401 nonzeros\n",
      "Coefficient statistics:\n",
      "  Matrix range     [1e+00, 1e+00]\n",
      "  Objective range  [6e-01, 6e+00]\n",
      "  Bounds range     [0e+00, 0e+00]\n",
      "  RHS range        [1e+02, 2e+03]\n",
      "LP warm-start: use basis\n",
      "Iteration    Objective       Primal Inf.    Dual Inf.      Time\n",
      "       0    2.4188585e+04   5.440000e+03   0.000000e+00      0s\n",
      "\n",
      "Solved in 19 iterations and 0.01 seconds (0.00 work units)\n",
      "Infeasible model\n",
      "The proportion of canola oil transshipped is: 1.14%\n"
     ]
    }
   ],
   "source": [
    "# Create a new decision variable for transshipment flow\n",
    "t = model.addVars(1, lb=0, vtype=GRB.CONTINUOUS, name=\"Total Transshipment\")\n",
    "\n",
    "# Add a constraint to limit the total transshipment\n",
    "transshipment_limit = 100  # Adjust this value based on your specific constraint\n",
    "model.addConstr(gb.quicksum(y[i, j] for i in range(15) for j in range(2)) + gb.quicksum(z[i, j] for i in range(2) for j in range(5)) <= transshipment_limit, name=\"Total Transshipment Limit\")\n",
    "\n",
    "# Solve the modified model\n",
    "model.optimize()\n",
    "\n",
    "# Extract the optimal values of decision variables\n",
    "optimal_values_x = model.getAttr('x', x)\n",
    "optimal_values_y = model.getAttr('x', y)\n",
    "optimal_values_z = model.getAttr('x', z)\n",
    "optimal_value_t = model.getAttr('x', t)[0]\n",
    "\n",
    "# Calculate the proportion of canola oil transshipped\n",
    "total_transshipped = sum(optimal_values_y.values()) + sum(optimal_values_z.values())\n",
    "total_canola_oil = sum(optimal_values_x.values()) + total_transshipped\n",
    "proportion_transshipped = total_transshipped / total_canola_oil\n",
    "\n",
    "print(f\"The proportion of canola oil transshipped is: {proportion_transshipped:.2%}\")\n"
   ]
  },
  {
   "cell_type": "code",
   "execution_count": 28,
   "metadata": {},
   "outputs": [
    {
     "name": "stdout",
     "output_type": "stream",
     "text": [
      "Gurobi Optimizer version 11.0.0 build v11.0.0rc2 (mac64[arm] - Darwin 23.3.0 23D56)\n",
      "\n",
      "CPU model: Apple M2\n",
      "Thread count: 8 physical cores, 8 logical processors, using up to 8 threads\n",
      "\n",
      "Optimize a model with 57 rows, 165 columns and 480 nonzeros\n",
      "Model fingerprint: 0xbaf8d896\n",
      "Coefficient statistics:\n",
      "  Matrix range     [1e+00, 2e+00]\n",
      "  Objective range  [6e-01, 6e+00]\n",
      "  Bounds range     [0e+00, 0e+00]\n",
      "  RHS range        [1e+02, 2e+03]\n",
      "Presolve removed 10 rows and 10 columns\n",
      "Presolve time: 0.00s\n",
      "Presolved: 47 rows, 155 columns, 460 nonzeros\n",
      "\n",
      "Iteration    Objective       Primal Inf.    Dual Inf.      Time\n",
      "       0    4.3375024e+03   1.255861e+03   0.000000e+00      0s\n",
      "      32    2.3151783e+04   0.000000e+00   0.000000e+00      0s\n",
      "\n",
      "Solved in 32 iterations and 0.00 seconds (0.00 work units)\n",
      "Optimal objective  2.315178276e+04\n",
      "Number of Decision Variables:  165\n",
      "Total Transportation cost:  23151.78276419405\n",
      "\n",
      "    Variable            X \n",
      "-------------------------\n",
      "Direct_Shipping[0,3]          462 \n",
      "Direct_Shipping[1,1]          103 \n",
      "Direct_Shipping[2,2]          398 \n",
      "Direct_Shipping[5,1]          217 \n",
      "Direct_Shipping[7,4]          521 \n",
      "Direct_Shipping[8,4]          260 \n",
      "Direct_Shipping[12,0]          104 \n",
      "Direct_Shipping[15,0]          109 \n",
      "Direct_Shipping[17,1]          438 \n",
      "Direct_Shipping[18,3]          492 \n",
      "Direct_Shipping[20,2]          462 \n",
      "Direct_Shipping[21,0]          440 \n",
      "Direct_Shipping[21,2]           64 \n",
      "Direct_Shipping[22,1]          106 \n",
      "Direct_Shipping[23,2]          132 \n",
      "Ship_to_Transshipment[0,1]          374 \n",
      "Ship_to_Transshipment[2,1]          395 \n",
      "Ship_to_Transshipment[3,1]          245 \n",
      "Ship_to_Transshipment[7,1]           24 \n",
      "Ship_to_Transshipment[8,1]          415 \n",
      "Ship_to_Transshipment[11,0]          297 \n",
      "Ship_to_Transshipment[14,0]           18 \n",
      "Transshipment_to_Refinement[0,0]        157.5 \n",
      "Transshipment_to_Refinement[0,1]        157.5 \n",
      "Transshipment_to_Refinement[0,2]        157.5 \n",
      "Transshipment_to_Refinement[0,3]        157.5 \n",
      "Transshipment_to_Refinement[0,4]        157.5 \n",
      "Transshipment_to_Refinement[1,0]        726.5 \n",
      "Transshipment_to_Refinement[1,1]        726.5 \n",
      "Transshipment_to_Refinement[1,2]        726.5 \n",
      "Transshipment_to_Refinement[1,3]        726.5 \n",
      "Transshipment_to_Refinement[1,4]        726.5 \n",
      "None\n"
     ]
    },
    {
     "name": "stderr",
     "output_type": "stream",
     "text": [
      "/var/folders/9w/090_7gb54d54ppm4sfqk8xgr0000gn/T/ipykernel_1365/3779299566.py:24: DeprecationWarning: Conversion of an array with ndim > 0 to a scalar is deprecated, and will error in future. Ensure you extract a single element from your array before performing this operation. (Deprecated NumPy 1.25.)\n",
      "  model.addConstr(gb.quicksum(x[i, j] for j in range(5)) <= capacity_direct_list[i], name=f\"Direct Supply Constraint {i + 1}\")\n",
      "/var/folders/9w/090_7gb54d54ppm4sfqk8xgr0000gn/T/ipykernel_1365/3779299566.py:29: DeprecationWarning: Conversion of an array with ndim > 0 to a scalar is deprecated, and will error in future. Ensure you extract a single element from your array before performing this operation. (Deprecated NumPy 1.25.)\n",
      "  model.addConstr(gb.quicksum(y[i, j] for j in range(2)) <= capacity_transship_production_list[i], name=f\"Transshipment Supply Constraint {i + 1}\")\n",
      "/var/folders/9w/090_7gb54d54ppm4sfqk8xgr0000gn/T/ipykernel_1365/3779299566.py:32: DeprecationWarning: Conversion of an array with ndim > 0 to a scalar is deprecated, and will error in future. Ensure you extract a single element from your array before performing this operation. (Deprecated NumPy 1.25.)\n",
      "  model.addConstr(gb.quicksum(y[i,0] for i in range(15)) <= capacity_transship_distribution_list[0], name=\"Transship Capacity 1\")\n",
      "/var/folders/9w/090_7gb54d54ppm4sfqk8xgr0000gn/T/ipykernel_1365/3779299566.py:33: DeprecationWarning: Conversion of an array with ndim > 0 to a scalar is deprecated, and will error in future. Ensure you extract a single element from your array before performing this operation. (Deprecated NumPy 1.25.)\n",
      "  model.addConstr(gb.quicksum(y[i,1] for i in range(15)) <= capacity_transship_distribution_list[1], name=\"Transship Capacity 2\")\n",
      "/var/folders/9w/090_7gb54d54ppm4sfqk8xgr0000gn/T/ipykernel_1365/3779299566.py:48: DeprecationWarning: Conversion of an array with ndim > 0 to a scalar is deprecated, and will error in future. Ensure you extract a single element from your array before performing this operation. (Deprecated NumPy 1.25.)\n",
      "  model.addConstr(gb.quicksum(x[i, k] for i in range(25)) + gb.quicksum(z[j, k] for j in range(2)) == refinement_demand_list[k], name=f\"Refinement Demand Constraint {k + 1}\")\n"
     ]
    }
   ],
   "source": [
    "# Assuming you have loaded the data and created the initial model as described in the previous examples\n",
    "\n",
    "# Create the Gurobi model\n",
    "model = gb.Model(\"Canola_Oil_Optimization\")\n",
    "\n",
    "# Decision variables\n",
    "x = model.addVars(25, 5, lb=0, vtype=GRB.CONTINUOUS, name=\"Direct_Shipping\")\n",
    "y = model.addVars(15, 2, lb=0, vtype=GRB.CONTINUOUS, name=\"Ship_to_Transshipment\")\n",
    "z = model.addVars(2, 5, lb=0, vtype=GRB.CONTINUOUS, name=\"Transshipment_to_Refinement\")\n",
    "\n",
    "# Objective function\n",
    "direct_objective = gb.quicksum(direct_shipping_costs_list[i][j] * x[i, j] for i in range(25) for j in range(5))\n",
    "\n",
    "# Introduce a discount for producers in North America\n",
    "discount_factor = 0.8  # You can adjust this factor based on the desired preference\n",
    "trans_objective = gb.quicksum(shipping_to_transsipment_costs_list[i][j] * y[i, j] * (1 if j < 3 else discount_factor) for i in range(15) for j in range(2))\n",
    "trans_to_refinement_objective = gb.quicksum(transsipment_to_refinement_costs_list[i][j] * z[i, j] for i in range(2) for j in range(5))\n",
    "\n",
    "model.setObjective(direct_objective + trans_objective + trans_to_refinement_objective, GRB.MINIMIZE)\n",
    "\n",
    "# Capacity constraints\n",
    "# Add the supply constraints from source nodes for direct shipping\n",
    "for i in range(len(capacity_direct_list)):\n",
    "    model.addConstr(gb.quicksum(x[i, j] for j in range(5)) <= capacity_direct_list[i], name=f\"Direct Supply Constraint {i + 1}\")\n",
    "\n",
    "    \n",
    "# Add the supply constraints from source nodes for transshipment shipping\n",
    "for i in range(len(capacity_transship_production_list)):\n",
    "    model.addConstr(gb.quicksum(y[i, j] for j in range(2)) <= capacity_transship_production_list[i], name=f\"Transshipment Supply Constraint {i + 1}\")\n",
    "\n",
    "# Add the supply constraints from transshipment nodes\n",
    "model.addConstr(gb.quicksum(y[i,0] for i in range(15)) <= capacity_transship_distribution_list[0], name=\"Transship Capacity 1\")\n",
    "model.addConstr(gb.quicksum(y[i,1] for i in range(15)) <= capacity_transship_distribution_list[1], name=\"Transship Capacity 2\")\n",
    "\n",
    "\n",
    "# Flow balance constraints\n",
    "# Add the flow balance constraints for transshipment nodes\n",
    "for j in range(5):\n",
    "    model.addConstr(gb.quicksum(y[i, 0] for i in range(15)) - gb.quicksum(z[0, j] for i in range(2)) == 0, name=f\"Flow Balance Italy {j + 1}\")\n",
    "\n",
    "for j in range(5):\n",
    "    model.addConstr(gb.quicksum(y[i, 1] for i in range(15)) - gb.quicksum(z[1, j] for i in range(2)) == 0, name=f\"Flow Balance Greece {j + 1}\")\n",
    "\n",
    "\n",
    "# Demand constraints\n",
    "# Add the demand constraints\n",
    "for k in range(len(refinement_demand_list)):  # Iterate over refinement nodes R1 to R5\n",
    "    model.addConstr(gb.quicksum(x[i, k] for i in range(25)) + gb.quicksum(z[j, k] for j in range(2)) == refinement_demand_list[k], name=f\"Refinement Demand Constraint {k + 1}\")\n",
    "\n",
    "\n",
    "# Solve the modified model\n",
    "model.optimize()\n",
    "\n",
    "# Extract and analyze the optimal solution\n",
    "# Number of variables in the model\n",
    "print(\"Number of Decision Variables: \", model.numVars)\n",
    "\n",
    "# Value of the objective function\n",
    "print(\"Total Transportation cost: \", model.objVal)\n",
    "\n",
    "# Print the decision variables\n",
    "print(model.printAttr('X'))\n"
   ]
  },
  {
   "cell_type": "code",
   "execution_count": null,
   "metadata": {},
   "outputs": [],
   "source": []
  }
 ],
 "metadata": {
  "kernelspec": {
   "display_name": "Python 3",
   "language": "python",
   "name": "python3"
  },
  "language_info": {
   "codemirror_mode": {
    "name": "ipython",
    "version": 3
   },
   "file_extension": ".py",
   "mimetype": "text/x-python",
   "name": "python",
   "nbconvert_exporter": "python",
   "pygments_lexer": "ipython3",
   "version": "3.12.1"
  }
 },
 "nbformat": 4,
 "nbformat_minor": 2
}
