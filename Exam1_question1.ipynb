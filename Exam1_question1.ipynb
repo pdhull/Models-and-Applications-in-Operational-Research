{
 "cells": [
  {
   "cell_type": "code",
   "execution_count": 56,
   "metadata": {},
   "outputs": [],
   "source": [
    "from gurobipy import GRB\n",
    "import gurobipy as gb\n",
    "import pandas as pd\n",
    "import numpy as np"
   ]
  },
  {
   "cell_type": "code",
   "execution_count": 57,
   "metadata": {},
   "outputs": [],
   "source": [
    "# Create the optimization model\n",
    "model = gb.Model(\"Question 1: Vaccines\")"
   ]
  },
  {
   "cell_type": "code",
   "execution_count": 58,
   "metadata": {},
   "outputs": [],
   "source": [
    "Billy_Bishop_Toronto_City_Airport_costs = [0.05, 0.05, 0.05, 0.05, 0.05, 0.06, 0.06, 0.06, 0.06, 0.06, 0.07, 0.07, 0.07, 0.07, 0.07, 0.08, 0.08, 0.08, 0.08, 0.08, 0.09, 0.09, 0.09, 0.09, 0.09, 0.1, 0.1, 0.1, 0.1]\n",
    "Toronto_Pearson_Airport_costs = [0.08, 0.08, 0.08, 0.08, 0.08, 0.05, 0.05, 0.05, 0.05, 0.05, 0.09, 0.09, 0.09, 0.09, 0.09, 0.1, 0.1, 0.1, 0.1, 0.1, 0.07, 0.07, 0.07, 0.07, 0.07, 0.06, 0.06, 0.06, 0.06]"
   ]
  },
  {
   "cell_type": "code",
   "execution_count": 59,
   "metadata": {},
   "outputs": [],
   "source": [
    "# Create the a single class of decision variables where\n",
    "# From = {Billy} and To = {29 sites}.\n",
    "x = model.addVars(29, lb=0, vtype=GRB.CONTINUOUS, name=\"Billy Shipping\")\n",
    "# From = {Pearson} and To = {29 sites}.\n",
    "y = model.addVars(29, lb=0, vtype=GRB.CONTINUOUS, name=\"Pearson Shipping\")"
   ]
  },
  {
   "cell_type": "code",
   "execution_count": 60,
   "metadata": {},
   "outputs": [],
   "source": [
    "Billy_objective = gb.quicksum(Billy_Bishop_Toronto_City_Airport_costs[j] * x[j] for j in range(29))\n",
    "Pearson_objective = gb.quicksum(Toronto_Pearson_Airport_costs[j] * y[j] for j in range(29))\n",
    "model.setObjective(Billy_objective + Pearson_objective, GRB.MINIMIZE)"
   ]
  },
  {
   "cell_type": "code",
   "execution_count": 61,
   "metadata": {},
   "outputs": [],
   "source": [
    "absolute_value_1 = model.addConstr(gb.quicksum(x[j] for j in range(5)) - gb.quicksum(y[j] for j in range(5)) <= 4800, name=\"4800 constraint\")\n",
    "absolute_value_2 = model.addConstr(gb.quicksum(y[j] for j in range(5)) - gb.quicksum(x[j] for j in range(5)) <= 4800, name=\"4800 constraint negative\")"
   ]
  },
  {
   "cell_type": "code",
   "execution_count": 62,
   "metadata": {},
   "outputs": [],
   "source": [
    "ratio_1 = model.addConstr(gb.quicksum(y[j] for j in range(20,25)) <= 8 * (gb.quicksum(x[j] for j in range(10,15))), name=\"Second constraint\")"
   ]
  },
  {
   "cell_type": "code",
   "execution_count": 63,
   "metadata": {},
   "outputs": [],
   "source": [
    "ratio_2 = model.addConstr(gb.quicksum(x[j] for j in range(25,29)) >= 0.8 * (gb.quicksum(y[j] for j in range(15,20))), name=\"Third constraint\")"
   ]
  },
  {
   "cell_type": "code",
   "execution_count": 64,
   "metadata": {},
   "outputs": [
    {
     "data": {
      "text/plain": [
       "<gurobi.Constr *Awaiting Model Update*>"
      ]
     },
     "execution_count": 64,
     "metadata": {},
     "output_type": "execute_result"
    }
   ],
   "source": [
    "model.addConstr(gb.quicksum(x[j] for j in range(29)) == 100000, \"Billy Supply Constraint\")\n",
    "model.addConstr(gb.quicksum(y[j] for j in range(29)) == 250000, \"Pearson Supply Constraint\")"
   ]
  },
  {
   "cell_type": "code",
   "execution_count": 65,
   "metadata": {},
   "outputs": [],
   "source": [
    "#Hosipital Constraint\n",
    "#model.addConstr((gb.quicksum(x[j] + y[j] for j in range(7))) == 4 * (gb.quicksum(x[j] + y[j] for j in range(7,29))), \"Hosipital Constraint\")"
   ]
  },
  {
   "cell_type": "code",
   "execution_count": 66,
   "metadata": {},
   "outputs": [],
   "source": [
    "#Hosipital Constraint\n",
    "# 50000 = 7x + 22x/4\n",
    "# x = 4000\n",
    "# 4000 per day, 7 days = 28000 per week\n",
    "for j in range(7):\n",
    "    model.addConstr(x[j] + y[j] <= 28000, f\"Hospital Constraint_{j}\")\n",
    "\n",
    "# 50000 = 4*7x + 22x\n",
    "# x = 1000\n",
    "# 1000 per day, 7 days = 7000 per week\n",
    "for j in range(7,29):\n",
    "    model.addConstr(x[j] + y[j] <= 7000, f\"Non-Hospital Constraint_{j}\")"
   ]
  },
  {
   "cell_type": "code",
   "execution_count": 67,
   "metadata": {},
   "outputs": [
    {
     "name": "stdout",
     "output_type": "stream",
     "text": [
      "Gurobi Optimizer version 11.0.0 build v11.0.0rc2 (win64 - Windows 11+.0 (22631.2))\n",
      "\n",
      "CPU model: Intel(R) Core(TM) i7-8750H CPU @ 2.20GHz, instruction set [SSE2|AVX|AVX2]\n",
      "Thread count: 6 physical cores, 12 logical processors, using up to 12 threads\n",
      "\n",
      "Optimize a model with 35 rows, 58 columns and 155 nonzeros\n",
      "Model fingerprint: 0xc46d81a7\n",
      "Coefficient statistics:\n",
      "  Matrix range     [8e-01, 8e+00]\n",
      "  Objective range  [5e-02, 1e-01]\n",
      "  Bounds range     [0e+00, 0e+00]\n",
      "  RHS range        [5e+03, 3e+05]\n",
      "Presolve removed 1 rows and 0 columns\n",
      "Presolve time: 0.01s\n",
      "Presolved: 34 rows, 59 columns, 146 nonzeros\n",
      "\n",
      "Iteration    Objective       Primal Inf.    Dual Inf.      Time\n",
      "       0    1.7500000e+04   8.539300e+04   0.000000e+00      0s\n",
      "      56    2.4828000e+04   0.000000e+00   0.000000e+00      0s\n",
      "\n",
      "Solved in 56 iterations and 0.01 seconds (0.00 work units)\n",
      "Optimal objective  2.482800000e+04\n"
     ]
    }
   ],
   "source": [
    "# Optimally solve the problem\n",
    "model.optimize()"
   ]
  },
  {
   "cell_type": "code",
   "execution_count": 68,
   "metadata": {},
   "outputs": [
    {
     "name": "stdout",
     "output_type": "stream",
     "text": [
      "\n",
      "    Variable            X \n",
      "-------------------------\n",
      "Billy Shipping[0]        28000 \n",
      "Billy Shipping[2]        28000 \n",
      "Billy Shipping[3]        11600 \n",
      "Billy Shipping[10]         4375 \n",
      "Billy Shipping[19]          125 \n",
      "Billy Shipping[25]         7000 \n",
      "Billy Shipping[26]         7000 \n",
      "Billy Shipping[27]         7000 \n",
      "Billy Shipping[28]         6900 \n",
      "Pearson Shipping[1]        28000 \n",
      "Pearson Shipping[3]        16400 \n",
      "Pearson Shipping[4]        28000 \n",
      "Pearson Shipping[5]        28000 \n",
      "Pearson Shipping[6]        28000 \n",
      "Pearson Shipping[7]         7000 \n",
      "Pearson Shipping[8]         7000 \n",
      "Pearson Shipping[9]         7000 \n",
      "Pearson Shipping[10]         2625 \n",
      "Pearson Shipping[11]         7000 \n",
      "Pearson Shipping[12]         7000 \n",
      "Pearson Shipping[13]         7000 \n",
      "Pearson Shipping[14]         7000 \n",
      "Pearson Shipping[15]         7000 \n",
      "Pearson Shipping[16]         7000 \n",
      "Pearson Shipping[17]         7000 \n",
      "Pearson Shipping[18]         7000 \n",
      "Pearson Shipping[19]         6875 \n",
      "Pearson Shipping[20]         7000 \n",
      "Pearson Shipping[21]         7000 \n",
      "Pearson Shipping[22]         7000 \n",
      "Pearson Shipping[23]         7000 \n",
      "Pearson Shipping[24]         7000 \n",
      "Pearson Shipping[28]          100 \n",
      "None\n"
     ]
    }
   ],
   "source": [
    "# Print the decision variables\n",
    "print(model.printAttr('X'))"
   ]
  },
  {
   "cell_type": "code",
   "execution_count": 69,
   "metadata": {},
   "outputs": [
    {
     "data": {
      "text/plain": [
       "{0: 28000.0,\n",
       " 1: 0.0,\n",
       " 2: 28000.0,\n",
       " 3: 11600.0,\n",
       " 4: 0.0,\n",
       " 5: 0.0,\n",
       " 6: 0.0,\n",
       " 7: 0.0,\n",
       " 8: 0.0,\n",
       " 9: 0.0,\n",
       " 10: 4375.0,\n",
       " 11: 0.0,\n",
       " 12: 0.0,\n",
       " 13: 0.0,\n",
       " 14: 0.0,\n",
       " 15: 0.0,\n",
       " 16: 0.0,\n",
       " 17: 0.0,\n",
       " 18: 0.0,\n",
       " 19: 124.99999999999818,\n",
       " 20: 0.0,\n",
       " 21: 0.0,\n",
       " 22: 0.0,\n",
       " 23: 0.0,\n",
       " 24: 0.0,\n",
       " 25: 7000.0,\n",
       " 26: 7000.0,\n",
       " 27: 7000.0,\n",
       " 28: 6900.000000000002}"
      ]
     },
     "execution_count": 69,
     "metadata": {},
     "output_type": "execute_result"
    }
   ],
   "source": [
    "# Get the optimal values of decision variables\n",
    "billy = model.getAttr('x', x)\n",
    "billy"
   ]
  },
  {
   "cell_type": "code",
   "execution_count": 70,
   "metadata": {},
   "outputs": [
    {
     "data": {
      "text/plain": [
       "{0: 0.0,\n",
       " 1: 28000.0,\n",
       " 2: 0.0,\n",
       " 3: 16400.0,\n",
       " 4: 28000.0,\n",
       " 5: 28000.0,\n",
       " 6: 28000.0,\n",
       " 7: 7000.0,\n",
       " 8: 7000.0,\n",
       " 9: 7000.0,\n",
       " 10: 2625.0,\n",
       " 11: 7000.0,\n",
       " 12: 7000.0,\n",
       " 13: 7000.0,\n",
       " 14: 7000.0,\n",
       " 15: 7000.0,\n",
       " 16: 7000.0,\n",
       " 17: 7000.0,\n",
       " 18: 7000.0,\n",
       " 19: 6875.000000000002,\n",
       " 20: 7000.0,\n",
       " 21: 7000.0,\n",
       " 22: 7000.0,\n",
       " 23: 7000.0,\n",
       " 24: 7000.0,\n",
       " 25: 0.0,\n",
       " 26: 0.0,\n",
       " 27: 0.0,\n",
       " 28: 99.99999999999818}"
      ]
     },
     "execution_count": 70,
     "metadata": {},
     "output_type": "execute_result"
    }
   ],
   "source": [
    "# Get the optimal values of decision variables\n",
    "pearson = model.getAttr('x', y)\n",
    "pearson"
   ]
  },
  {
   "cell_type": "code",
   "execution_count": 71,
   "metadata": {},
   "outputs": [
    {
     "name": "stdout",
     "output_type": "stream",
     "text": [
      "Total Transportation cost:  24828.0\n"
     ]
    }
   ],
   "source": [
    "# Value of the objective function\n",
    "print(\"Total Transportation cost: \", round(model.objVal, 2))"
   ]
  },
  {
   "cell_type": "markdown",
   "metadata": {},
   "source": [
    "a) 28000 as noted by the constraint.\n",
    "\n",
    "b) The max is 7000 as seen in the constraint, and it does not appear any site is lower, so 7000.\n",
    "\n",
    "c) 58 decision variables, 29 for billy and 29 for pearson.\n",
    "\n",
    "d) Absolute Value constraint (it needed to be written twice).\n",
    "\n",
    "e) Code: model.addConstr(gb.quicksum(y[j] for j in range(29)) == 250000, \"Pearson Supply Constraint\")\n",
    "Math: i = 29 sigma(y_i) = 250000\n",
    "\n",
    "f) Code: model.addConstr(gb.quicksum(x[j] for j in range(25,29)) >= 0.8 * (gb.quicksum(y[j] for j in range(15,20))), name=\"Third constraint\")\n",
    "Math: i = 25-28 sigma(x_i) >= 0.8*(i=15-19 sigma(y_i))\n",
    "\n",
    "g) The optimal function value is $24828\n",
    "\n",
    "h) I'm assuming he meant site 4, 16400"
   ]
  },
  {
   "cell_type": "code",
   "execution_count": 72,
   "metadata": {},
   "outputs": [
    {
     "name": "stdout",
     "output_type": "stream",
     "text": [
      "\n",
      "Sensitivity Information for Land Capacity Constraint -0.03:\n",
      "(LHS, RHS, Slack):  (0.0, 0.0, 0.0)\n",
      "Shadow Price:  -0.030000000000000013\n",
      "Range of Feasibility:  (11000.000000000002, -199.9999999999963)\n"
     ]
    }
   ],
   "source": [
    "print(\"\")\n",
    "print(f\"Sensitivity Information for Land Capacity Constraint {ratio_1.pi:.2f}:\")\n",
    "print(\"(LHS, RHS, Slack): \", (model.getRow(ratio_1).getValue(), ratio_1.RHS, ratio_1.slack))\n",
    "print(\"Shadow Price: \", ratio_1.pi)\n",
    "print(\"Range of Feasibility: \", (ratio_1.SARHSUp, ratio_1.SARHSLow))"
   ]
  },
  {
   "cell_type": "code",
   "execution_count": 73,
   "metadata": {},
   "outputs": [
    {
     "name": "stdout",
     "output_type": "stream",
     "text": [
      "\n",
      "Sensitivity Information for Land Capacity Constraint 0.30:\n",
      "(LHS, RHS, Slack):  (-1.8189894035458565e-12, 0.0, 0.0)\n",
      "Shadow Price:  0.3000000000000001\n",
      "Range of Feasibility:  (19.999999999999634, -1375.0000000000002)\n"
     ]
    }
   ],
   "source": [
    "print(\"\")\n",
    "print(f\"Sensitivity Information for Land Capacity Constraint {ratio_2.pi:.2f}:\")\n",
    "print(\"(LHS, RHS, Slack): \", (model.getRow(ratio_2).getValue(), ratio_2.RHS, ratio_2.slack))\n",
    "print(\"Shadow Price: \", ratio_2.pi)\n",
    "print(\"Range of Feasibility: \", (ratio_2.SARHSUp, ratio_2.SARHSLow))"
   ]
  },
  {
   "cell_type": "markdown",
   "metadata": {},
   "source": [
    "i) Probably an easier way to tell, but they are binding since the shadow prices are not 0"
   ]
  },
  {
   "cell_type": "code",
   "execution_count": 74,
   "metadata": {},
   "outputs": [
    {
     "name": "stdout",
     "output_type": "stream",
     "text": [
      "Shadow Price:  0.0\n",
      "Shadow Price:  -0.11500000000000003\n"
     ]
    }
   ],
   "source": [
    "print(\"Shadow Price: \", absolute_value_1.pi)\n",
    "print(\"Shadow Price: \", absolute_value_2.pi)"
   ]
  },
  {
   "cell_type": "markdown",
   "metadata": {},
   "source": [
    "j) The absolute value and ratio constraints are binding, affecting the problem. While supply constraints are necessary for the problem, the demand constraints for each site is what makes the problem work the way it does. Removing them would probably result in lower cost."
   ]
  }
 ],
 "metadata": {
  "kernelspec": {
   "display_name": "Python 3",
   "language": "python",
   "name": "python3"
  },
  "language_info": {
   "codemirror_mode": {
    "name": "ipython",
    "version": 3
   },
   "file_extension": ".py",
   "mimetype": "text/x-python",
   "name": "python",
   "nbconvert_exporter": "python",
   "pygments_lexer": "ipython3",
   "version": "3.11.3"
  }
 },
 "nbformat": 4,
 "nbformat_minor": 2
}
