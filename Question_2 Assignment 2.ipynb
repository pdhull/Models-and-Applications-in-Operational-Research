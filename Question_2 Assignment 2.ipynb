{
 "cells": [
  {
   "cell_type": "code",
   "execution_count": 4,
   "metadata": {},
   "outputs": [],
   "source": [
    "import pandas as pd\n",
    "from gurobipy import Model, GRB\n",
    "import gurobipy as gp\n",
    "from gurobipy import GRB"
   ]
  },
  {
   "cell_type": "code",
   "execution_count": 2,
   "metadata": {},
   "outputs": [],
   "source": [
    "df = pd.read_csv('/Users/pratiksha/Downloads/BasketballPlayers.csv')"
   ]
  },
  {
   "cell_type": "code",
   "execution_count": 3,
   "metadata": {},
   "outputs": [
    {
     "data": {
      "text/html": [
       "<div>\n",
       "<style scoped>\n",
       "    .dataframe tbody tr th:only-of-type {\n",
       "        vertical-align: middle;\n",
       "    }\n",
       "\n",
       "    .dataframe tbody tr th {\n",
       "        vertical-align: top;\n",
       "    }\n",
       "\n",
       "    .dataframe thead th {\n",
       "        text-align: right;\n",
       "    }\n",
       "</style>\n",
       "<table border=\"1\" class=\"dataframe\">\n",
       "  <thead>\n",
       "    <tr style=\"text-align: right;\">\n",
       "      <th></th>\n",
       "      <th>Number</th>\n",
       "      <th>Position</th>\n",
       "      <th>Ball Handling</th>\n",
       "      <th>Shooting</th>\n",
       "      <th>Rebounding</th>\n",
       "      <th>Defense</th>\n",
       "      <th>Athletic Ability</th>\n",
       "      <th>Toughness</th>\n",
       "      <th>Mental Acuity</th>\n",
       "    </tr>\n",
       "  </thead>\n",
       "  <tbody>\n",
       "    <tr>\n",
       "      <th>0</th>\n",
       "      <td>1</td>\n",
       "      <td>G/F</td>\n",
       "      <td>1</td>\n",
       "      <td>2</td>\n",
       "      <td>3</td>\n",
       "      <td>2</td>\n",
       "      <td>1</td>\n",
       "      <td>2</td>\n",
       "      <td>1</td>\n",
       "    </tr>\n",
       "    <tr>\n",
       "      <th>1</th>\n",
       "      <td>2</td>\n",
       "      <td>G/F</td>\n",
       "      <td>1</td>\n",
       "      <td>1</td>\n",
       "      <td>1</td>\n",
       "      <td>2</td>\n",
       "      <td>3</td>\n",
       "      <td>2</td>\n",
       "      <td>3</td>\n",
       "    </tr>\n",
       "    <tr>\n",
       "      <th>2</th>\n",
       "      <td>3</td>\n",
       "      <td>G/F</td>\n",
       "      <td>3</td>\n",
       "      <td>1</td>\n",
       "      <td>1</td>\n",
       "      <td>2</td>\n",
       "      <td>3</td>\n",
       "      <td>2</td>\n",
       "      <td>1</td>\n",
       "    </tr>\n",
       "    <tr>\n",
       "      <th>3</th>\n",
       "      <td>4</td>\n",
       "      <td>G/F</td>\n",
       "      <td>2</td>\n",
       "      <td>3</td>\n",
       "      <td>2</td>\n",
       "      <td>2</td>\n",
       "      <td>2</td>\n",
       "      <td>1</td>\n",
       "      <td>1</td>\n",
       "    </tr>\n",
       "    <tr>\n",
       "      <th>4</th>\n",
       "      <td>5</td>\n",
       "      <td>F/C</td>\n",
       "      <td>1</td>\n",
       "      <td>2</td>\n",
       "      <td>3</td>\n",
       "      <td>3</td>\n",
       "      <td>3</td>\n",
       "      <td>3</td>\n",
       "      <td>2</td>\n",
       "    </tr>\n",
       "  </tbody>\n",
       "</table>\n",
       "</div>"
      ],
      "text/plain": [
       "   Number Position  Ball Handling  Shooting  Rebounding  Defense  \\\n",
       "0       1      G/F              1         2           3        2   \n",
       "1       2      G/F              1         1           1        2   \n",
       "2       3      G/F              3         1           1        2   \n",
       "3       4      G/F              2         3           2        2   \n",
       "4       5      F/C              1         2           3        3   \n",
       "\n",
       "   Athletic Ability  Toughness  Mental Acuity  \n",
       "0                 1          2              1  \n",
       "1                 3          2              3  \n",
       "2                 3          2              1  \n",
       "3                 2          1              1  \n",
       "4                 3          3              2  "
      ]
     },
     "execution_count": 3,
     "metadata": {},
     "output_type": "execute_result"
    }
   ],
   "source": [
    "df.head()"
   ]
  },
  {
   "cell_type": "code",
   "execution_count": 9,
   "metadata": {},
   "outputs": [],
   "source": [
    "df['Average'] = df.iloc[:, 2:].mean(axis=1)"
   ]
  },
  {
   "cell_type": "code",
   "execution_count": 10,
   "metadata": {},
   "outputs": [],
   "source": [
    "# Filter players with average skill above 2.05 (without resetting the index)\n",
    "filtered_players_df = df[df['Average'] > 2.05]\n",
    "filtered_players_df = filtered_players_df.drop(columns=['Average'])"
   ]
  },
  {
   "cell_type": "code",
   "execution_count": 11,
   "metadata": {},
   "outputs": [],
   "source": [
    "# Number of players\n",
    "num_players = len(filtered_players_df)"
   ]
  },
  {
   "cell_type": "code",
   "execution_count": 12,
   "metadata": {},
   "outputs": [],
   "source": [
    "# Create the optimization model\n",
    "model = Model(\"TrainingCampSelection\")"
   ]
  },
  {
   "cell_type": "code",
   "execution_count": 13,
   "metadata": {},
   "outputs": [],
   "source": [
    "# Create binary decision variables for each player (using original indices)\n",
    "x = model.addVars(filtered_players_df.index, vtype=GRB.BINARY, name=\"Player\")"
   ]
  },
  {
   "cell_type": "code",
   "execution_count": 14,
   "metadata": {},
   "outputs": [],
   "source": [
    "# Pre-compute the player positions using original indices\n",
    "guards = [i for i in filtered_players_df.index if filtered_players_df.loc[i, 'Position'] in ['G', 'G/F']]\n",
    "forwards_centers = [i for i in filtered_players_df.index if filtered_players_df.loc[i, 'Position'] in ['F', 'C', 'F/C']]"
   ]
  },
  {
   "cell_type": "code",
   "execution_count": 15,
   "metadata": {},
   "outputs": [],
   "source": [
    "# Total number of players selected\n",
    "total_players_selected = sum(x[i] for i in filtered_players_df.index)"
   ]
  },
  {
   "cell_type": "code",
   "execution_count": 16,
   "metadata": {},
   "outputs": [
    {
     "data": {
      "text/plain": [
       "<gurobi.Constr *Awaiting Model Update*>"
      ]
     },
     "execution_count": 16,
     "metadata": {},
     "output_type": "execute_result"
    }
   ],
   "source": [
    "# At least 30% of the invitations should go to guards\n",
    "model.addConstr(sum(x[i] for i in guards) >= 0.3 * total_players_selected, \"Min_30_percent_guards\")"
   ]
  },
  {
   "cell_type": "code",
   "execution_count": 17,
   "metadata": {},
   "outputs": [
    {
     "data": {
      "text/plain": [
       "<gurobi.Constr *Awaiting Model Update*>"
      ]
     },
     "execution_count": 17,
     "metadata": {},
     "output_type": "execute_result"
    }
   ],
   "source": [
    "# At least 40% of the invitations should go to forwards/centers\n",
    "model.addConstr(sum(x[i] for i in forwards_centers) >= 0.4 * total_players_selected, \"Min_40_percent_forwards_centers\")"
   ]
  },
  {
   "cell_type": "code",
   "execution_count": 18,
   "metadata": {},
   "outputs": [
    {
     "data": {
      "text/plain": [
       "<gurobi.Constr *Awaiting Model Update*>"
      ]
     },
     "execution_count": 18,
     "metadata": {},
     "output_type": "execute_result"
    }
   ],
   "source": [
    "# Limit the total number of invitations to 21\n",
    "model.addConstr(total_players_selected <= 21, \"Total_Invitations_Limit\")"
   ]
  },
  {
   "cell_type": "code",
   "execution_count": 19,
   "metadata": {},
   "outputs": [
    {
     "data": {
      "text/plain": [
       "<gurobi.Constr *Awaiting Model Update*>"
      ]
     },
     "execution_count": 19,
     "metadata": {},
     "output_type": "execute_result"
    }
   ],
   "source": [
    "# If any player from 20-24 (inclusive) is invited, all players from 72-78 (inclusive) cannot be, and vice versa\n",
    "model.addConstr(sum(x[i] for i in filtered_players_df.index if 20 <= filtered_players_df.loc[i, 'Number'] <= 24) + sum(x[j] for j in filtered_players_df.index if 72 <= filtered_players_df.loc[j, 'Number'] <= 78) <= 1, \"Group_20_24_vs_72_78\")"
   ]
  },
  {
   "cell_type": "code",
   "execution_count": 20,
   "metadata": {},
   "outputs": [],
   "source": [
    "# If any player from 105-114 (inclusive) is invited, at least one player from 45-49 (inclusive) and 65-69 (inclusive) must be invited\n",
    "for i in [idx for idx in filtered_players_df.index if 105 <= filtered_players_df.loc[idx, 'Number'] <= 114]:\n",
    "    model.addConstr(x[i] <= sum(x[j] for j in filtered_players_df.index if 45 <= filtered_players_df.loc[j, 'Number'] <= 49), f\"Group_105_114_requires_45_49_for_{i}\")\n",
    "    model.addConstr(x[i] <= sum(x[k] for k in filtered_players_df.index if 65 <= filtered_players_df.loc[k, 'Number'] <= 69), f\"Group_105_114_requires_65_69_for_{i}\")\n"
   ]
  },
  {
   "cell_type": "code",
   "execution_count": 21,
   "metadata": {},
   "outputs": [],
   "source": [
    "# At least one player must be invited from: 1-10, 11-20, 21-30, ..., 131-140, 141-150\n",
    "for i in range(1, 151, 10):\n",
    "    model.addConstr(sum(x[j] for j in filtered_players_df.index if i <= filtered_players_df.loc[j, 'Number'] < i + 10) >= 1, f\"Group_{i}_{i+9}\")"
   ]
  },
  {
   "cell_type": "code",
   "execution_count": 22,
   "metadata": {},
   "outputs": [],
   "source": [
    "# Objective function to maximize total skill ratings\n",
    "skills = ['Ball Handling', 'Shooting', 'Rebounding', 'Defense', 'Athletic Ability', 'Toughness', 'Mental Acuity']\n",
    "model.setObjective(sum(filtered_players_df.loc[i, skill] * x[i] for i in filtered_players_df.index for skill in skills), GRB.MAXIMIZE)"
   ]
  },
  {
   "cell_type": "code",
   "execution_count": 23,
   "metadata": {},
   "outputs": [
    {
     "name": "stdout",
     "output_type": "stream",
     "text": [
      "Gurobi Optimizer version 11.0.0 build v11.0.0rc2 (mac64[arm] - Darwin 23.3.0 23D60)\n",
      "\n",
      "CPU model: Apple M2\n",
      "Thread count: 8 physical cores, 8 logical processors, using up to 8 threads\n",
      "\n",
      "Optimize a model with 29 rows, 65 columns and 295 nonzeros\n",
      "Model fingerprint: 0xa42ff278\n",
      "Variable types: 0 continuous, 65 integer (65 binary)\n",
      "Coefficient statistics:\n",
      "  Matrix range     [3e-01, 1e+00]\n",
      "  Objective range  [2e+01, 2e+01]\n",
      "  Bounds range     [1e+00, 1e+00]\n",
      "  RHS range        [1e+00, 2e+01]\n",
      "Found heuristic solution: objective 336.0000000\n",
      "Presolve removed 1 rows and 12 columns\n",
      "Presolve time: 0.01s\n",
      "Presolved: 28 rows, 53 columns, 246 nonzeros\n",
      "Variable types: 0 continuous, 53 integer (46 binary)\n",
      "Found heuristic solution: objective 353.0000000\n",
      "\n",
      "Root relaxation: objective 3.600000e+02, 8 iterations, 0.00 seconds (0.00 work units)\n",
      "\n",
      "    Nodes    |    Current Node    |     Objective Bounds      |     Work\n",
      " Expl Unexpl |  Obj  Depth IntInf | Incumbent    BestBd   Gap | It/Node Time\n",
      "\n",
      "*    0     0               0     360.0000000  360.00000  0.00%     -    0s\n",
      "\n",
      "Explored 1 nodes (8 simplex iterations) in 0.06 seconds (0.00 work units)\n",
      "Thread count was 8 (of 8 available processors)\n",
      "\n",
      "Solution count 3: 360 353 336 \n",
      "\n",
      "Optimal solution found (tolerance 1.00e-04)\n",
      "Best objective 3.600000000000e+02, best bound 3.600000000000e+02, gap 0.0000%\n"
     ]
    }
   ],
   "source": [
    "# Solve the model\n",
    "model.optimize()"
   ]
  },
  {
   "cell_type": "code",
   "execution_count": 24,
   "metadata": {},
   "outputs": [],
   "source": [
    "# Print the selected players and their details\n",
    "selected_players = [i for i in filtered_players_df.index if x[i].X == 1]\n",
    "count_guards = sum(1 for i in selected_players if i in guards)\n",
    "count_forwards_centers = sum(1 for i in selected_players if i in forwards_centers)\n",
    "total_selected = len(selected_players)\n",
    "num_decision_variables = len(filtered_players_df)"
   ]
  },
  {
   "cell_type": "code",
   "execution_count": 25,
   "metadata": {},
   "outputs": [
    {
     "name": "stdout",
     "output_type": "stream",
     "text": [
      "Number of decision variables: 65\n"
     ]
    }
   ],
   "source": [
    "print(f\"Number of decision variables: {num_decision_variables}\")"
   ]
  },
  {
   "cell_type": "code",
   "execution_count": 26,
   "metadata": {},
   "outputs": [
    {
     "name": "stdout",
     "output_type": "stream",
     "text": [
      "Selected players and their positions:\n",
      "Player 4: F/C\n",
      "Player 6: F/C\n",
      "Player 10: F\n",
      "Player 25: G\n",
      "Player 36: G/F\n",
      "Player 46: G/F\n",
      "Player 55: F/C\n",
      "Player 66: G\n",
      "Player 73: F/C\n",
      "Player 89: F\n",
      "Player 94: G/F\n",
      "Player 103: G\n",
      "Player 104: F/C\n",
      "Player 109: G\n",
      "Player 110: F\n",
      "Player 117: G/F\n",
      "Player 127: G/F\n",
      "Player 131: G/F\n",
      "Player 132: F\n",
      "Player 133: F/C\n",
      "Player 143: F\n",
      "Total guards selected: 10\n",
      "Total forwards/centers selected: 11\n",
      "Total players selected: 21\n"
     ]
    }
   ],
   "source": [
    "print(\"Selected players and their positions:\")\n",
    "for i in selected_players:\n",
    "    print(f\"Player {i}: {filtered_players_df.loc[i, 'Position']}\")\n",
    "print(f\"Total guards selected: {count_guards}\")\n",
    "print(f\"Total forwards/centers selected: {count_forwards_centers}\")\n",
    "print(f\"Total players selected: {total_selected}\")"
   ]
  },
  {
   "cell_type": "code",
   "execution_count": 27,
   "metadata": {},
   "outputs": [
    {
     "name": "stdout",
     "output_type": "stream",
     "text": [
      "Value of objective function: 360.0\n"
     ]
    }
   ],
   "source": [
    "# Print the value of the objective function\n",
    "print(f\"Value of objective function: {model.ObjVal}\")"
   ]
  }
 ],
 "metadata": {
  "kernelspec": {
   "display_name": "Python 3",
   "language": "python",
   "name": "python3"
  },
  "language_info": {
   "codemirror_mode": {
    "name": "ipython",
    "version": 3
   },
   "file_extension": ".py",
   "mimetype": "text/x-python",
   "name": "python",
   "nbconvert_exporter": "python",
   "pygments_lexer": "ipython3",
   "version": "3.12.1"
  }
 },
 "nbformat": 4,
 "nbformat_minor": 2
}
