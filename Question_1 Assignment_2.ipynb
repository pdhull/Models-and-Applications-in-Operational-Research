{
 "cells": [
  {
   "cell_type": "markdown",
   "metadata": {},
   "source": [
    "Q1"
   ]
  },
  {
   "cell_type": "code",
   "execution_count": 1,
   "metadata": {},
   "outputs": [
    {
     "name": "stderr",
     "output_type": "stream",
     "text": [
      "/var/folders/9w/090_7gb54d54ppm4sfqk8xgr0000gn/T/ipykernel_33423/3415466315.py:1: DeprecationWarning: \n",
      "Pyarrow will become a required dependency of pandas in the next major release of pandas (pandas 3.0),\n",
      "(to allow more performant data types, such as the Arrow string type, and better interoperability with other libraries)\n",
      "but was not found to be installed on your system.\n",
      "If this would cause problems for you,\n",
      "please provide us feedback at https://github.com/pandas-dev/pandas/issues/54466\n",
      "        \n",
      "  import pandas as pd\n"
     ]
    }
   ],
   "source": [
    "import pandas as pd\n",
    "from gurobipy import Model, GRB\n",
    "import numpy as np"
   ]
  },
  {
   "cell_type": "code",
   "execution_count": 2,
   "metadata": {},
   "outputs": [],
   "source": [
    "df = pd.read_csv('/Users/pratiksha/Downloads/price_response.csv')"
   ]
  },
  {
   "cell_type": "code",
   "execution_count": 3,
   "metadata": {},
   "outputs": [
    {
     "name": "stdout",
     "output_type": "stream",
     "text": [
      "Restricted license - for non-production use only - expires 2025-11-24\n"
     ]
    }
   ],
   "source": [
    "model = Model('Maximize Revenue')"
   ]
  },
  {
   "cell_type": "code",
   "execution_count": 4,
   "metadata": {},
   "outputs": [],
   "source": [
    "# Variables\n",
    "prices = model.addVars(df.index, name='price', lb=0)  # Price variables for each product"
   ]
  },
  {
   "cell_type": "code",
   "execution_count": 5,
   "metadata": {},
   "outputs": [],
   "source": [
    "# Define the objective function (total revenue)\n",
    "revenue = sum((df.loc[i, 'Intercept'] + df.loc[i, 'Sensitivity'] * prices[i]) * prices[i] for i in df.index)\n",
    "model.setObjective(revenue, GRB.MAXIMIZE)"
   ]
  },
  {
   "cell_type": "code",
   "execution_count": 6,
   "metadata": {},
   "outputs": [],
   "source": [
    "# Add capacity constraints\n",
    "for i in df.index:\n",
    "    demand = df.loc[i, 'Intercept'] + df.loc[i, 'Sensitivity'] * prices[i]\n",
    "    model.addConstr(demand <= df.loc[i, 'Capacity'], name=f'capacity_{i}')"
   ]
  },
  {
   "cell_type": "code",
   "execution_count": 7,
   "metadata": {},
   "outputs": [
    {
     "name": "stdout",
     "output_type": "stream",
     "text": [
      "Gurobi Optimizer version 11.0.0 build v11.0.0rc2 (mac64[arm] - Darwin 23.3.0 23D60)\n",
      "\n",
      "CPU model: Apple M2\n",
      "Thread count: 8 physical cores, 8 logical processors, using up to 8 threads\n",
      "\n",
      "Optimize a model with 9 rows, 9 columns and 9 nonzeros\n",
      "Model fingerprint: 0xd1ce905f\n",
      "Model has 9 quadratic objective terms\n",
      "Coefficient statistics:\n",
      "  Matrix range     [2e+00, 5e+01]\n",
      "  Objective range  [4e+04, 4e+04]\n",
      "  QObjective range [5e+00, 9e+01]\n",
      "  Bounds range     [0e+00, 0e+00]\n",
      "  RHS range        [4e+04, 5e+04]\n",
      "Presolve removed 9 rows and 9 columns\n",
      "Presolve time: 0.00s\n",
      "Presolve: All rows and columns removed\n",
      "\n",
      "Barrier solved model in 0 iterations and 0.00 seconds (0.00 work units)\n",
      "Optimal objective 7.38368672e+08\n"
     ]
    }
   ],
   "source": [
    "# Optimize the model\n",
    "model.optimize()"
   ]
  },
  {
   "cell_type": "code",
   "execution_count": 8,
   "metadata": {},
   "outputs": [
    {
     "name": "stdout",
     "output_type": "stream",
     "text": [
      "Optimal Prices:\n",
      "Line 1 Product 1: $383.85\n",
      "Line 1 Product 2: $2296.50\n",
      "Line 1 Product 3: $2351.88\n",
      "Line 2 Product 1: $2050.30\n",
      "Line 2 Product 2: $4160.71\n",
      "Line 2 Product 3: $6813.66\n",
      "Line 3 Product 1: $8138.45\n",
      "Line 3 Product 2: $4498.42\n",
      "Line 3 Product 3: $8558.94\n",
      "Total Revenue: $738368671.96\n"
     ]
    }
   ],
   "source": [
    "if model.status == GRB.OPTIMAL:\n",
    "    print(\"Optimal Prices:\")\n",
    "    for i in df.index:\n",
    "        print(f\"{df.loc[i, 'Product']}: ${prices[i].X:.2f}\")\n",
    "    print(f\"Total Revenue: ${model.ObjVal:.2f}\")\n",
    "else:\n",
    "    print(\"No optimal solution found.\")"
   ]
  }
 ],
 "metadata": {
  "kernelspec": {
   "display_name": "Python 3",
   "language": "python",
   "name": "python3"
  },
  "language_info": {
   "codemirror_mode": {
    "name": "ipython",
    "version": 3
   },
   "file_extension": ".py",
   "mimetype": "text/x-python",
   "name": "python",
   "nbconvert_exporter": "python",
   "pygments_lexer": "ipython3",
   "version": "3.12.1"
  }
 },
 "nbformat": 4,
 "nbformat_minor": 2
}
