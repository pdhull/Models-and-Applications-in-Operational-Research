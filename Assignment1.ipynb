{
 "cells": [
  {
   "cell_type": "markdown",
   "metadata": {},
   "source": [
    "# Question 1"
   ]
  },
  {
   "cell_type": "code",
   "execution_count": 1,
   "metadata": {},
   "outputs": [
    {
     "name": "stderr",
     "output_type": "stream",
     "text": [
      "/var/folders/9w/090_7gb54d54ppm4sfqk8xgr0000gn/T/ipykernel_18542/836809378.py:3: DeprecationWarning: \n",
      "Pyarrow will become a required dependency of pandas in the next major release of pandas (pandas 3.0),\n",
      "(to allow more performant data types, such as the Arrow string type, and better interoperability with other libraries)\n",
      "but was not found to be installed on your system.\n",
      "If this would cause problems for you,\n",
      "please provide us feedback at https://github.com/pandas-dev/pandas/issues/54466\n",
      "        \n",
      "  import pandas as pd\n"
     ]
    }
   ],
   "source": [
    "from gurobipy import GRB\n",
    "import gurobipy as gb\n",
    "import pandas as pd\n",
    "import numpy as np"
   ]
  },
  {
   "cell_type": "code",
   "execution_count": 2,
   "metadata": {},
   "outputs": [
    {
     "name": "stdout",
     "output_type": "stream",
     "text": [
      "Restricted license - for non-production use only - expires 2025-11-24\n"
     ]
    }
   ],
   "source": [
    "# Create the optimization model\n",
    "model = gb.Model(\"Question 1: Canola Oil\")"
   ]
  },
  {
   "cell_type": "code",
   "execution_count": 3,
   "metadata": {},
   "outputs": [],
   "source": [
    "# Read costs from CSV files\n",
    "direct_shipping_costs_df = pd.read_csv('/Users/pratiksha/Documents/Schulich/Models and Applications in Operational Research/Cost_Production_to_Refinement.csv')\n",
    "shipping_to_transsipment_costs_df = pd.read_csv('/Users/pratiksha/Documents/Schulich/Models and Applications in Operational Research/Cost_Production_to_Transshipment.csv')\n",
    "transsipment_to_refinement_costs_df = pd.read_csv('/Users/pratiksha/Documents/Schulich/Models and Applications in Operational Research/Cost_Transshipment_to_Refinement.csv')"
   ]
  },
  {
   "cell_type": "code",
   "execution_count": 4,
   "metadata": {},
   "outputs": [],
   "source": [
    "# Extract the \"Cost\" column\n",
    "direct_shipping_costs = direct_shipping_costs_df['Cost'].values.reshape(25, -1)\n",
    "shipping_to_transsipment_costs = shipping_to_transsipment_costs_df['Cost'].values.reshape(15, -1)\n",
    "transsipment_to_refinement_costs = transsipment_to_refinement_costs_df['Cost'].values.reshape(2, -1)"
   ]
  },
  {
   "cell_type": "code",
   "execution_count": 5,
   "metadata": {},
   "outputs": [
    {
     "data": {
      "text/plain": [
       "array([[4.25273277, 4.56772552, 4.69648446, 2.67874096, 4.27245069],\n",
       "       [2.95047222, 2.63661931, 2.85346871, 5.48002613, 3.03749539],\n",
       "       [4.02568313, 5.40779944, 3.38094894, 5.44123713, 4.40886217],\n",
       "       [3.46114107, 5.34694389, 4.99366311, 5.96818684, 4.83600407],\n",
       "       [5.94681429, 4.74917249, 3.72614981, 3.58915858, 4.93741459],\n",
       "       [3.46939366, 2.75501443, 5.60123055, 4.49910112, 4.22405746],\n",
       "       [4.7290315 , 4.30193766, 3.67740309, 4.15881121, 4.15956806],\n",
       "       [5.74380976, 5.57158666, 5.09534814, 5.34986497, 2.62562966],\n",
       "       [4.25622982, 5.56865574, 4.13714572, 4.90410382, 3.05688139],\n",
       "       [4.29664067, 5.75680178, 4.87474585, 4.10968275, 4.66040916],\n",
       "       [4.02164417, 5.38745866, 5.4089004 , 5.18510303, 3.47259321],\n",
       "       [3.28957805, 3.58831517, 3.62182771, 4.84919596, 4.89636402],\n",
       "       [2.9072415 , 4.15142098, 4.60651418, 5.22233913, 3.76568815],\n",
       "       [5.80493436, 3.58642269, 4.32677984, 5.63769746, 3.39212168],\n",
       "       [5.87454415, 3.572913  , 3.79897077, 2.91793106, 5.43496734],\n",
       "       [2.8220575 , 4.10130751, 4.95439918, 4.19164594, 3.1454322 ],\n",
       "       [5.02789698, 4.67095384, 5.12286983, 4.09337178, 5.62927336],\n",
       "       [3.02488242, 2.71410269, 3.5826889 , 3.10998883, 2.62833688],\n",
       "       [3.34709507, 5.83444497, 5.8110041 , 2.85704775, 4.56837714],\n",
       "       [4.81217859, 4.54078328, 4.504062  , 3.60485169, 5.95739562],\n",
       "       [5.87531792, 3.7604349 , 2.55688209, 5.07318525, 2.91307076],\n",
       "       [2.8957845 , 5.60692168, 3.27463703, 2.85475969, 5.25852458],\n",
       "       [4.71173486, 2.63791887, 4.28677306, 4.10198461, 5.79644057],\n",
       "       [5.63121907, 5.17582145, 3.21758562, 5.28542907, 5.0469302 ],\n",
       "       [4.38417588, 5.94344807, 4.99921981, 4.15483307, 5.07528003]])"
      ]
     },
     "execution_count": 5,
     "metadata": {},
     "output_type": "execute_result"
    }
   ],
   "source": [
    "direct_shipping_costs"
   ]
  },
  {
   "cell_type": "code",
   "execution_count": 6,
   "metadata": {},
   "outputs": [
    {
     "data": {
      "text/plain": [
       "array([[2.37882586, 0.86384215],\n",
       "       [1.66698156, 2.11948817],\n",
       "       [2.17488041, 0.94818376],\n",
       "       [2.67741553, 0.5924201 ],\n",
       "       [2.82024783, 0.97232892],\n",
       "       [2.85389005, 2.6943427 ],\n",
       "       [1.40702817, 1.42832532],\n",
       "       [2.48499907, 0.95347666],\n",
       "       [1.78637201, 0.63669962],\n",
       "       [0.68852771, 2.25970328],\n",
       "       [2.40128579, 1.80010665],\n",
       "       [0.56435019, 2.12484244],\n",
       "       [1.98606958, 2.34717953],\n",
       "       [1.63996858, 1.61928103],\n",
       "       [0.64904663, 1.96881166]])"
      ]
     },
     "execution_count": 6,
     "metadata": {},
     "output_type": "execute_result"
    }
   ],
   "source": [
    "shipping_to_transsipment_costs"
   ]
  },
  {
   "cell_type": "code",
   "execution_count": 7,
   "metadata": {},
   "outputs": [
    {
     "data": {
      "text/plain": [
       "array([[1.57232851, 3.46547396, 2.24406225, 3.77383915, 3.2626518 ],\n",
       "       [1.90042452, 1.6131232 , 1.70723241, 2.70539568, 2.25742842]])"
      ]
     },
     "execution_count": 7,
     "metadata": {},
     "output_type": "execute_result"
    }
   ],
   "source": [
    "transsipment_to_refinement_costs"
   ]
  },
  {
   "cell_type": "code",
   "execution_count": 8,
   "metadata": {},
   "outputs": [],
   "source": [
    "# Create the a single class of decision variables where\n",
    "# From = {Ca,US,M,C,F} and To = {R1,R2,R3,R4,R5}.\n",
    "x = model.addVars(25, 5, lb=0, vtype=GRB.CONTINUOUS, name=\"Direct Shipping\")\n",
    "# From = {I,U,G} and To = {Italy,Greece}.\n",
    "y = model.addVars(15, 2, lb=0, vtype=GRB.CONTINUOUS, name=\"Ship to Transshipment\")\n",
    "# From = {Italy,Greece} and To = {R1,R2,R3,R4,R5}.\n",
    "z = model.addVars(2, 5, lb=0, vtype=GRB.CONTINUOUS, name=\"Transshipment to Refinement\")"
   ]
  },
  {
   "cell_type": "code",
   "execution_count": 9,
   "metadata": {},
   "outputs": [],
   "source": [
    "# The objective function\n",
    "direct_objective = gb.quicksum(direct_shipping_costs[i][j]*x[i,j] for i in range(25) for j in range(5))\n",
    "trans_objective = gb.quicksum(shipping_to_transsipment_costs[i][j]*y[i,j] for i in range(15) for j in range(2))\n",
    "trans_to_refinement_objective = gb.quicksum(transsipment_to_refinement_costs[i][j]*z[i,j] for i in range(2) for j in range(5))\n",
    "model.setObjective(direct_objective + trans_objective + trans_to_refinement_objective, GRB.MINIMIZE)"
   ]
  },
  {
   "cell_type": "code",
   "execution_count": 10,
   "metadata": {},
   "outputs": [],
   "source": [
    "# Read capacity and demand from CSV files\n",
    "direct_shipping_supply_capacity_df = pd.read_csv('/Users/pratiksha/Documents/Schulich/Models and Applications in Operational Research/Capacity_for_Direct_Production_Facilities.csv')\n",
    "transshipment_supply_capacity_df = pd.read_csv('/Users/pratiksha/Documents/Schulich/Models and Applications in Operational Research/Capacity_for_Transship_Distribution_Centers.csv')\n",
    "shipping_to_transshipment_supply_capacity_df = pd.read_csv('/Users/pratiksha/Documents/Schulich/Models and Applications in Operational Research/Capacity_for_Transship_Production_Facilities.csv')\n",
    "refinement_demand_df = pd.read_csv('/Users/pratiksha/Documents/Schulich/Models and Applications in Operational Research/Refinement_Demand.csv')"
   ]
  },
  {
   "cell_type": "code",
   "execution_count": 11,
   "metadata": {},
   "outputs": [],
   "source": [
    "# Extract the \"Capacity\" and \"Demand\" column\n",
    "direct_shipping_supply_capacity = direct_shipping_supply_capacity_df['Capacity'].values.reshape(25, -1)\n",
    "transshipment_supply_capacity = transshipment_supply_capacity_df['Capacity'].values.reshape(2, -1)\n",
    "shipping_to_transshipment_supply_capacity = shipping_to_transshipment_supply_capacity_df['Capacity'].values.reshape(15, -1)\n",
    "refinement_demand = refinement_demand_df['Demand'].values.reshape(5, -1)"
   ]
  },
  {
   "cell_type": "code",
   "execution_count": 12,
   "metadata": {},
   "outputs": [
    {
     "data": {
      "text/plain": [
       "array([[462],\n",
       "       [103],\n",
       "       [460],\n",
       "       [325],\n",
       "       [227],\n",
       "       [217],\n",
       "       [205],\n",
       "       [521],\n",
       "       [548],\n",
       "       [191],\n",
       "       [361],\n",
       "       [411],\n",
       "       [104],\n",
       "       [155],\n",
       "       [285],\n",
       "       [109],\n",
       "       [422],\n",
       "       [438],\n",
       "       [501],\n",
       "       [139],\n",
       "       [462],\n",
       "       [504],\n",
       "       [106],\n",
       "       [132],\n",
       "       [298]])"
      ]
     },
     "execution_count": 12,
     "metadata": {},
     "output_type": "execute_result"
    }
   ],
   "source": [
    "direct_shipping_supply_capacity"
   ]
  },
  {
   "cell_type": "code",
   "execution_count": 13,
   "metadata": {},
   "outputs": [
    {
     "data": {
      "text/plain": [
       "array([[1317],\n",
       "       [1453]])"
      ]
     },
     "execution_count": 13,
     "metadata": {},
     "output_type": "execute_result"
    }
   ],
   "source": [
    "transshipment_supply_capacity"
   ]
  },
  {
   "cell_type": "code",
   "execution_count": 14,
   "metadata": {},
   "outputs": [
    {
     "data": {
      "text/plain": [
       "array([[374],\n",
       "       [444],\n",
       "       [395],\n",
       "       [245],\n",
       "       [378],\n",
       "       [408],\n",
       "       [435],\n",
       "       [175],\n",
       "       [415],\n",
       "       [503],\n",
       "       [184],\n",
       "       [297],\n",
       "       [450],\n",
       "       [169],\n",
       "       [365]])"
      ]
     },
     "execution_count": 14,
     "metadata": {},
     "output_type": "execute_result"
    }
   ],
   "source": [
    "shipping_to_transshipment_supply_capacity"
   ]
  },
  {
   "cell_type": "code",
   "execution_count": 15,
   "metadata": {},
   "outputs": [
    {
     "data": {
      "text/plain": [
       "array([[1537],\n",
       "       [1748],\n",
       "       [1940],\n",
       "       [1838],\n",
       "       [1665]])"
      ]
     },
     "execution_count": 15,
     "metadata": {},
     "output_type": "execute_result"
    }
   ],
   "source": [
    "refinement_demand"
   ]
  },
  {
   "cell_type": "code",
   "execution_count": 16,
   "metadata": {},
   "outputs": [
    {
     "name": "stderr",
     "output_type": "stream",
     "text": [
      "/var/folders/9w/090_7gb54d54ppm4sfqk8xgr0000gn/T/ipykernel_18542/29224195.py:3: DeprecationWarning: Conversion of an array with ndim > 0 to a scalar is deprecated, and will error in future. Ensure you extract a single element from your array before performing this operation. (Deprecated NumPy 1.25.)\n",
      "  model.addConstr(gb.quicksum(x[i, j] for j in range(5)) <= direct_shipping_supply_capacity[i], name=f\"Direct Supply Constraint {i + 1}\")\n"
     ]
    }
   ],
   "source": [
    "# Add the supply constraints from source nodes for direct shipping\n",
    "for i in range(len(direct_shipping_supply_capacity)):\n",
    "    model.addConstr(gb.quicksum(x[i, j] for j in range(5)) <= direct_shipping_supply_capacity[i], name=f\"Direct Supply Constraint {i + 1}\")"
   ]
  },
  {
   "cell_type": "code",
   "execution_count": 17,
   "metadata": {},
   "outputs": [
    {
     "name": "stderr",
     "output_type": "stream",
     "text": [
      "/var/folders/9w/090_7gb54d54ppm4sfqk8xgr0000gn/T/ipykernel_18542/1905600687.py:3: DeprecationWarning: Conversion of an array with ndim > 0 to a scalar is deprecated, and will error in future. Ensure you extract a single element from your array before performing this operation. (Deprecated NumPy 1.25.)\n",
      "  model.addConstr(gb.quicksum(y[i, j] for j in range(2)) <= shipping_to_transshipment_supply_capacity[i], name=f\"Transshipment Supply Constraint {i + 1}\")\n"
     ]
    }
   ],
   "source": [
    "# Add the supply constraints from source nodes for transshipment shipping\n",
    "for i in range(len(shipping_to_transshipment_supply_capacity)):\n",
    "    model.addConstr(gb.quicksum(y[i, j] for j in range(2)) <= shipping_to_transshipment_supply_capacity[i], name=f\"Transshipment Supply Constraint {i + 1}\")"
   ]
  },
  {
   "cell_type": "code",
   "execution_count": 18,
   "metadata": {},
   "outputs": [
    {
     "name": "stderr",
     "output_type": "stream",
     "text": [
      "/var/folders/9w/090_7gb54d54ppm4sfqk8xgr0000gn/T/ipykernel_18542/2124321848.py:2: DeprecationWarning: Conversion of an array with ndim > 0 to a scalar is deprecated, and will error in future. Ensure you extract a single element from your array before performing this operation. (Deprecated NumPy 1.25.)\n",
      "  model.addConstr(gb.quicksum(y[i,0] for i in range(15)) <= transshipment_supply_capacity[0], name=\"Transship Capacity 1\")\n",
      "/var/folders/9w/090_7gb54d54ppm4sfqk8xgr0000gn/T/ipykernel_18542/2124321848.py:3: DeprecationWarning: Conversion of an array with ndim > 0 to a scalar is deprecated, and will error in future. Ensure you extract a single element from your array before performing this operation. (Deprecated NumPy 1.25.)\n",
      "  model.addConstr(gb.quicksum(y[i,1] for i in range(15)) <= transshipment_supply_capacity[1], name=\"Transship Capacity 2\")\n"
     ]
    },
    {
     "data": {
      "text/plain": [
       "<gurobi.Constr *Awaiting Model Update*>"
      ]
     },
     "execution_count": 18,
     "metadata": {},
     "output_type": "execute_result"
    }
   ],
   "source": [
    "# Add the supply constraints from transshipment nodes\n",
    "model.addConstr(gb.quicksum(y[i,0] for i in range(15)) <= transshipment_supply_capacity[0], name=\"Transship Capacity 1\")\n",
    "model.addConstr(gb.quicksum(y[i,1] for i in range(15)) <= transshipment_supply_capacity[1], name=\"Transship Capacity 2\")"
   ]
  },
  {
   "cell_type": "code",
   "execution_count": 19,
   "metadata": {},
   "outputs": [
    {
     "data": {
      "text/plain": [
       "<gurobi.Constr *Awaiting Model Update*>"
      ]
     },
     "execution_count": 19,
     "metadata": {},
     "output_type": "execute_result"
    }
   ],
   "source": [
    "# Add the flow balance constrainits\n",
    "model.addConstr(gb.quicksum(y[i,0] for i in range(15)) == gb.quicksum(z[0,k] for k in range(5)), name=\"Flow Balance 1\")\n",
    "model.addConstr(gb.quicksum(y[i,1] for i in range(15)) == gb.quicksum(z[1,k] for k in range(5)), name=\"Flow Balance 2\")"
   ]
  },
  {
   "cell_type": "code",
   "execution_count": 20,
   "metadata": {},
   "outputs": [
    {
     "name": "stderr",
     "output_type": "stream",
     "text": [
      "/var/folders/9w/090_7gb54d54ppm4sfqk8xgr0000gn/T/ipykernel_18542/4255670903.py:3: DeprecationWarning: Conversion of an array with ndim > 0 to a scalar is deprecated, and will error in future. Ensure you extract a single element from your array before performing this operation. (Deprecated NumPy 1.25.)\n",
      "  model.addConstr(gb.quicksum(x[i, k] for i in range(25)) + gb.quicksum(z[j, k] for j in range(2)) == refinement_demand[k], name=f\"Refinement Demand Constraint {k + 1}\")\n"
     ]
    }
   ],
   "source": [
    "# Add the demand constraints\n",
    "for k in range(len(refinement_demand)):  # Iterate over refinement nodes R1 to R5\n",
    "    model.addConstr(gb.quicksum(x[i, k] for i in range(25)) + gb.quicksum(z[j, k] for j in range(2)) == refinement_demand[k], name=f\"Refinement Demand Constraint {k + 1}\")"
   ]
  },
  {
   "cell_type": "code",
   "execution_count": 21,
   "metadata": {},
   "outputs": [
    {
     "name": "stdout",
     "output_type": "stream",
     "text": [
      "Gurobi Optimizer version 11.0.0 build v11.0.0rc2 (mac64[arm] - Darwin 23.3.0 23D60)\n",
      "\n",
      "CPU model: Apple M2\n",
      "Thread count: 8 physical cores, 8 logical processors, using up to 8 threads\n",
      "\n",
      "Optimize a model with 49 rows, 165 columns and 360 nonzeros\n",
      "Model fingerprint: 0x7f8fadb4\n",
      "Coefficient statistics:\n",
      "  Matrix range     [1e+00, 1e+00]\n",
      "  Objective range  [6e-01, 6e+00]\n",
      "  Bounds range     [0e+00, 0e+00]\n",
      "  RHS range        [1e+02, 2e+03]\n",
      "Presolve time: 0.00s\n",
      "Presolved: 49 rows, 165 columns, 360 nonzeros\n",
      "\n",
      "Iteration    Objective       Primal Inf.    Dual Inf.      Time\n",
      "       0    1.7230583e+04   8.266000e+03   0.000000e+00      0s\n",
      "      36    2.4188585e+04   0.000000e+00   0.000000e+00      0s\n",
      "\n",
      "Solved in 36 iterations and 0.00 seconds (0.00 work units)\n",
      "Optimal objective  2.418858517e+04\n"
     ]
    }
   ],
   "source": [
    "# Optimally solve the problem\n",
    "model.optimize()"
   ]
  },
  {
   "cell_type": "code",
   "execution_count": 22,
   "metadata": {},
   "outputs": [
    {
     "name": "stdout",
     "output_type": "stream",
     "text": [
      "Model Status:  2\n"
     ]
    }
   ],
   "source": [
    "# The status of the model (Optimization Status Codes)\n",
    "print(\"Model Status: \", model.status)"
   ]
  },
  {
   "cell_type": "code",
   "execution_count": 23,
   "metadata": {},
   "outputs": [
    {
     "name": "stdout",
     "output_type": "stream",
     "text": [
      "Number of Decision Variables:  165\n"
     ]
    }
   ],
   "source": [
    "# Number of variables in the model\n",
    "print(\"Number of Decision Variables: \", model.numVars)"
   ]
  },
  {
   "cell_type": "markdown",
   "metadata": {},
   "source": [
    "The answer to a)"
   ]
  },
  {
   "cell_type": "code",
   "execution_count": 24,
   "metadata": {},
   "outputs": [
    {
     "name": "stdout",
     "output_type": "stream",
     "text": [
      "Total Transportation cost:  24188.59\n"
     ]
    }
   ],
   "source": [
    "# Value of the objective function\n",
    "print(\"Total Transportation cost: \", round(model.objVal, 2))"
   ]
  },
  {
   "cell_type": "code",
   "execution_count": 25,
   "metadata": {},
   "outputs": [
    {
     "name": "stdout",
     "output_type": "stream",
     "text": [
      "\n",
      "    Variable            X \n",
      "-------------------------\n",
      "Direct Shipping[0,3]          462 \n",
      "Direct Shipping[1,1]          103 \n",
      "Direct Shipping[2,2]          460 \n",
      "Direct Shipping[4,3]           86 \n",
      "Direct Shipping[5,1]          217 \n",
      "Direct Shipping[7,4]          521 \n",
      "Direct Shipping[8,4]          548 \n",
      "Direct Shipping[10,4]          354 \n",
      "Direct Shipping[11,0]            7 \n",
      "Direct Shipping[11,2]          404 \n",
      "Direct Shipping[12,0]          104 \n",
      "Direct Shipping[13,4]          155 \n",
      "Direct Shipping[14,3]          285 \n",
      "Direct Shipping[15,0]          109 \n",
      "Direct Shipping[17,1]          351 \n",
      "Direct Shipping[17,4]           87 \n",
      "Direct Shipping[18,3]          501 \n",
      "Direct Shipping[20,2]          462 \n",
      "Direct Shipping[21,3]          504 \n",
      "Direct Shipping[22,1]          106 \n",
      "Direct Shipping[23,2]          132 \n",
      "Ship to Transshipment[0,1]          374 \n",
      "Ship to Transshipment[2,1]          395 \n",
      "Ship to Transshipment[3,1]          245 \n",
      "Ship to Transshipment[6,0]          152 \n",
      "Ship to Transshipment[7,1]           24 \n",
      "Ship to Transshipment[8,1]          415 \n",
      "Ship to Transshipment[9,0]          503 \n",
      "Ship to Transshipment[11,0]          297 \n",
      "Ship to Transshipment[14,0]          365 \n",
      "Transshipment to Refinement[0,0]         1317 \n",
      "Transshipment to Refinement[1,1]          971 \n",
      "Transshipment to Refinement[1,2]          482 \n",
      "None\n"
     ]
    }
   ],
   "source": [
    "# Print the decision variables\n",
    "print(model.printAttr('X'))"
   ]
  },
  {
   "cell_type": "code",
   "execution_count": 26,
   "metadata": {},
   "outputs": [
    {
     "data": {
      "text/plain": [
       "{(0, 0): 0.0,\n",
       " (0, 1): 374.0,\n",
       " (1, 0): 0.0,\n",
       " (1, 1): 0.0,\n",
       " (2, 0): 0.0,\n",
       " (2, 1): 395.0,\n",
       " (3, 0): 0.0,\n",
       " (3, 1): 245.0,\n",
       " (4, 0): 0.0,\n",
       " (4, 1): 0.0,\n",
       " (5, 0): 0.0,\n",
       " (5, 1): 0.0,\n",
       " (6, 0): 152.0,\n",
       " (6, 1): 0.0,\n",
       " (7, 0): 0.0,\n",
       " (7, 1): 24.0,\n",
       " (8, 0): 0.0,\n",
       " (8, 1): 415.0,\n",
       " (9, 0): 503.0,\n",
       " (9, 1): 0.0,\n",
       " (10, 0): 0.0,\n",
       " (10, 1): 0.0,\n",
       " (11, 0): 297.0,\n",
       " (11, 1): 0.0,\n",
       " (12, 0): 0.0,\n",
       " (12, 1): 0.0,\n",
       " (13, 0): 0.0,\n",
       " (13, 1): 0.0,\n",
       " (14, 0): 365.0,\n",
       " (14, 1): 0.0}"
      ]
     },
     "execution_count": 26,
     "metadata": {},
     "output_type": "execute_result"
    }
   ],
   "source": [
    "# Get the optimal values of decision variables\n",
    "to_transshipment_values = model.getAttr('x', y)\n",
    "to_transshipment_values"
   ]
  },
  {
   "cell_type": "code",
   "execution_count": 27,
   "metadata": {},
   "outputs": [],
   "source": [
    "values_array = np.array(list(to_transshipment_values.values()))"
   ]
  },
  {
   "cell_type": "code",
   "execution_count": 28,
   "metadata": {},
   "outputs": [
    {
     "data": {
      "text/plain": [
       "92.33333333333333"
      ]
     },
     "execution_count": 28,
     "metadata": {},
     "output_type": "execute_result"
    }
   ],
   "source": [
    "# Calculate the mean\n",
    "mean_value = np.mean(values_array)\n",
    "mean_value"
   ]
  },
  {
   "cell_type": "code",
   "execution_count": 29,
   "metadata": {},
   "outputs": [
    {
     "data": {
      "text/plain": [
       "{(0, 0): 1317.0,\n",
       " (0, 1): 0.0,\n",
       " (0, 2): 0.0,\n",
       " (0, 3): 0.0,\n",
       " (0, 4): 0.0,\n",
       " (1, 0): 0.0,\n",
       " (1, 1): 971.0,\n",
       " (1, 2): 482.0,\n",
       " (1, 3): 0.0,\n",
       " (1, 4): 0.0}"
      ]
     },
     "execution_count": 29,
     "metadata": {},
     "output_type": "execute_result"
    }
   ],
   "source": [
    "# Get the optimal values of decision variables\n",
    "transshipment_values = model.getAttr('x', z)\n",
    "transshipment_values"
   ]
  },
  {
   "cell_type": "code",
   "execution_count": 30,
   "metadata": {},
   "outputs": [
    {
     "data": {
      "text/plain": [
       "2770.0"
      ]
     },
     "execution_count": 30,
     "metadata": {},
     "output_type": "execute_result"
    }
   ],
   "source": [
    "# Calculate the total amount of canola oil transshipped\n",
    "total_transshipped = sum(transshipment_values[i, j] for i in range(2) for j in range(5))\n",
    "total_transshipped"
   ]
  },
  {
   "cell_type": "code",
   "execution_count": 31,
   "metadata": {},
   "outputs": [
    {
     "data": {
      "text/plain": [
       "{(0, 0): 0.0,\n",
       " (0, 1): 0.0,\n",
       " (0, 2): 0.0,\n",
       " (0, 3): 462.0,\n",
       " (0, 4): 0.0,\n",
       " (1, 0): 0.0,\n",
       " (1, 1): 103.0,\n",
       " (1, 2): 0.0,\n",
       " (1, 3): 0.0,\n",
       " (1, 4): 0.0,\n",
       " (2, 0): 0.0,\n",
       " (2, 1): 0.0,\n",
       " (2, 2): 460.0,\n",
       " (2, 3): 0.0,\n",
       " (2, 4): 0.0,\n",
       " (3, 0): 0.0,\n",
       " (3, 1): 0.0,\n",
       " (3, 2): 0.0,\n",
       " (3, 3): 0.0,\n",
       " (3, 4): 0.0,\n",
       " (4, 0): 0.0,\n",
       " (4, 1): 0.0,\n",
       " (4, 2): 0.0,\n",
       " (4, 3): 86.0,\n",
       " (4, 4): 0.0,\n",
       " (5, 0): 0.0,\n",
       " (5, 1): 217.0,\n",
       " (5, 2): 0.0,\n",
       " (5, 3): 0.0,\n",
       " (5, 4): 0.0,\n",
       " (6, 0): 0.0,\n",
       " (6, 1): 0.0,\n",
       " (6, 2): 0.0,\n",
       " (6, 3): 0.0,\n",
       " (6, 4): 0.0,\n",
       " (7, 0): 0.0,\n",
       " (7, 1): 0.0,\n",
       " (7, 2): 0.0,\n",
       " (7, 3): 0.0,\n",
       " (7, 4): 521.0,\n",
       " (8, 0): 0.0,\n",
       " (8, 1): 0.0,\n",
       " (8, 2): 0.0,\n",
       " (8, 3): 0.0,\n",
       " (8, 4): 548.0,\n",
       " (9, 0): 0.0,\n",
       " (9, 1): 0.0,\n",
       " (9, 2): 0.0,\n",
       " (9, 3): 0.0,\n",
       " (9, 4): 0.0,\n",
       " (10, 0): 0.0,\n",
       " (10, 1): 0.0,\n",
       " (10, 2): 0.0,\n",
       " (10, 3): 0.0,\n",
       " (10, 4): 354.0,\n",
       " (11, 0): 7.0,\n",
       " (11, 1): 0.0,\n",
       " (11, 2): 404.0,\n",
       " (11, 3): 0.0,\n",
       " (11, 4): 0.0,\n",
       " (12, 0): 104.0,\n",
       " (12, 1): 0.0,\n",
       " (12, 2): 0.0,\n",
       " (12, 3): 0.0,\n",
       " (12, 4): 0.0,\n",
       " (13, 0): 0.0,\n",
       " (13, 1): 0.0,\n",
       " (13, 2): 0.0,\n",
       " (13, 3): 0.0,\n",
       " (13, 4): 155.0,\n",
       " (14, 0): 0.0,\n",
       " (14, 1): 0.0,\n",
       " (14, 2): 0.0,\n",
       " (14, 3): 285.0,\n",
       " (14, 4): 0.0,\n",
       " (15, 0): 109.0,\n",
       " (15, 1): 0.0,\n",
       " (15, 2): 0.0,\n",
       " (15, 3): 0.0,\n",
       " (15, 4): 0.0,\n",
       " (16, 0): 0.0,\n",
       " (16, 1): 0.0,\n",
       " (16, 2): 0.0,\n",
       " (16, 3): 0.0,\n",
       " (16, 4): 0.0,\n",
       " (17, 0): 0.0,\n",
       " (17, 1): 351.0,\n",
       " (17, 2): 0.0,\n",
       " (17, 3): 0.0,\n",
       " (17, 4): 87.0,\n",
       " (18, 0): 0.0,\n",
       " (18, 1): 0.0,\n",
       " (18, 2): 0.0,\n",
       " (18, 3): 501.0,\n",
       " (18, 4): 0.0,\n",
       " (19, 0): 0.0,\n",
       " (19, 1): 0.0,\n",
       " (19, 2): 0.0,\n",
       " (19, 3): 0.0,\n",
       " (19, 4): 0.0,\n",
       " (20, 0): 0.0,\n",
       " (20, 1): 0.0,\n",
       " (20, 2): 462.0,\n",
       " (20, 3): 0.0,\n",
       " (20, 4): 0.0,\n",
       " (21, 0): 0.0,\n",
       " (21, 1): 0.0,\n",
       " (21, 2): 0.0,\n",
       " (21, 3): 504.0,\n",
       " (21, 4): 0.0,\n",
       " (22, 0): 0.0,\n",
       " (22, 1): 106.0,\n",
       " (22, 2): 0.0,\n",
       " (22, 3): 0.0,\n",
       " (22, 4): 0.0,\n",
       " (23, 0): 0.0,\n",
       " (23, 1): 0.0,\n",
       " (23, 2): 132.0,\n",
       " (23, 3): 0.0,\n",
       " (23, 4): 0.0,\n",
       " (24, 0): 0.0,\n",
       " (24, 1): 0.0,\n",
       " (24, 2): 0.0,\n",
       " (24, 3): 0.0,\n",
       " (24, 4): 0.0}"
      ]
     },
     "execution_count": 31,
     "metadata": {},
     "output_type": "execute_result"
    }
   ],
   "source": [
    "# Get the optimal values of decision variables\n",
    "direct_shipping_values = model.getAttr('x', x)\n",
    "direct_shipping_values"
   ]
  },
  {
   "cell_type": "code",
   "execution_count": 32,
   "metadata": {},
   "outputs": [
    {
     "data": {
      "text/plain": [
       "5958.0"
      ]
     },
     "execution_count": 32,
     "metadata": {},
     "output_type": "execute_result"
    }
   ],
   "source": [
    "# Calculate the total amount of canola oil directly shipped\n",
    "direct_shipping = sum(direct_shipping_values[i, j] for i in range(25) for j in range(5))\n",
    "direct_shipping"
   ]
  },
  {
   "cell_type": "code",
   "execution_count": 33,
   "metadata": {},
   "outputs": [
    {
     "data": {
      "text/plain": [
       "3706.0"
      ]
     },
     "execution_count": 33,
     "metadata": {},
     "output_type": "execute_result"
    }
   ],
   "source": [
    "# Calculate the total amount of canola oil directly shipped for North America\n",
    "direct_shipping_for_f = sum(direct_shipping_values[i, j] for i in range(15) for j in range(5))\n",
    "direct_shipping_for_f"
   ]
  },
  {
   "cell_type": "markdown",
   "metadata": {},
   "source": [
    "The answer to b)"
   ]
  },
  {
   "cell_type": "code",
   "execution_count": 34,
   "metadata": {},
   "outputs": [
    {
     "data": {
      "text/plain": [
       "0.31736938588450964"
      ]
     },
     "execution_count": 34,
     "metadata": {},
     "output_type": "execute_result"
    }
   ],
   "source": [
    "# Calculate the proportion\n",
    "total_canola_oil = direct_shipping + total_transshipped\n",
    "proportion_transshipped = total_transshipped / total_canola_oil\n",
    "proportion_transshipped"
   ]
  },
  {
   "cell_type": "code",
   "execution_count": 35,
   "metadata": {},
   "outputs": [],
   "source": [
    "# Create the optimization model\n",
    "model_modified = gb.Model(\"Question 1: Canola Oil Objective Function Change\")"
   ]
  },
  {
   "cell_type": "code",
   "execution_count": 36,
   "metadata": {},
   "outputs": [],
   "source": [
    "# Create the a single class of decision variables where\n",
    "# From = {Ca,US,M,C,F} and To = {R1,R2,R3,R4,R5}.\n",
    "x = model_modified.addVars(25, 5, lb=0, vtype=GRB.CONTINUOUS, name=\"Direct Shipping\")\n",
    "# From = {I,U,G} and To = {Italy,Greece}.\n",
    "y = model_modified.addVars(15, 2, lb=0, vtype=GRB.CONTINUOUS, name=\"Ship to Transshipment\")\n",
    "# From = {Italy,Greece} and To = {R1,R2,R3,R4,R5}.\n",
    "z = model_modified.addVars(2, 5, lb=0, vtype=GRB.CONTINUOUS, name=\"Transshipment to Refinement\")"
   ]
  },
  {
   "cell_type": "code",
   "execution_count": 37,
   "metadata": {},
   "outputs": [
    {
     "data": {
      "text/plain": [
       "array([[4.25273277, 4.56772552, 4.69648446, 2.67874096, 4.27245069],\n",
       "       [2.95047222, 2.63661931, 2.85346871, 5.48002613, 3.03749539],\n",
       "       [4.02568313, 5.40779944, 3.38094894, 5.44123713, 4.40886217],\n",
       "       [3.46114107, 5.34694389, 4.99366311, 5.96818684, 4.83600407],\n",
       "       [5.94681429, 4.74917249, 3.72614981, 3.58915858, 4.93741459],\n",
       "       [3.46939366, 2.75501443, 5.60123055, 4.49910112, 4.22405746],\n",
       "       [4.7290315 , 4.30193766, 3.67740309, 4.15881121, 4.15956806],\n",
       "       [5.74380976, 5.57158666, 5.09534814, 5.34986497, 2.62562966],\n",
       "       [4.25622982, 5.56865574, 4.13714572, 4.90410382, 3.05688139],\n",
       "       [4.29664067, 5.75680178, 4.87474585, 4.10968275, 4.66040916],\n",
       "       [4.02164417, 5.38745866, 5.4089004 , 5.18510303, 3.47259321],\n",
       "       [3.28957805, 3.58831517, 3.62182771, 4.84919596, 4.89636402],\n",
       "       [2.9072415 , 4.15142098, 4.60651418, 5.22233913, 3.76568815],\n",
       "       [5.80493436, 3.58642269, 4.32677984, 5.63769746, 3.39212168],\n",
       "       [5.87454415, 3.572913  , 3.79897077, 2.91793106, 5.43496734],\n",
       "       [2.8220575 , 4.10130751, 4.95439918, 4.19164594, 3.1454322 ],\n",
       "       [5.02789698, 4.67095384, 5.12286983, 4.09337178, 5.62927336],\n",
       "       [3.02488242, 2.71410269, 3.5826889 , 3.10998883, 2.62833688],\n",
       "       [3.34709507, 5.83444497, 5.8110041 , 2.85704775, 4.56837714],\n",
       "       [4.81217859, 4.54078328, 4.504062  , 3.60485169, 5.95739562],\n",
       "       [5.87531792, 3.7604349 , 2.55688209, 5.07318525, 2.91307076],\n",
       "       [2.8957845 , 5.60692168, 3.27463703, 2.85475969, 5.25852458],\n",
       "       [4.71173486, 2.63791887, 4.28677306, 4.10198461, 5.79644057],\n",
       "       [5.63121907, 5.17582145, 3.21758562, 5.28542907, 5.0469302 ],\n",
       "       [4.38417588, 5.94344807, 4.99921981, 4.15483307, 5.07528003]])"
      ]
     },
     "execution_count": 37,
     "metadata": {},
     "output_type": "execute_result"
    }
   ],
   "source": [
    "direct_shipping_costs"
   ]
  },
  {
   "cell_type": "code",
   "execution_count": 38,
   "metadata": {},
   "outputs": [],
   "source": [
    "# The objective function\n",
    "direct_objective = gb.quicksum(direct_shipping_costs[i][j]*x[i,j] for i in range(25) for j in range(5))\n",
    "trans_objective = gb.quicksum(shipping_to_transsipment_costs[i][j]*y[i,j] for i in range(15) for j in range(2))\n",
    "trans_to_refinement_objective = gb.quicksum(transsipment_to_refinement_costs[i][j]*z[i,j] for i in range(2) for j in range(5))\n",
    "\n",
    "# Adding the modified objective to the model\n",
    "model_modified.setObjective((0.95*direct_objective) + (1.15*trans_objective) + trans_to_refinement_objective, GRB.MINIMIZE)"
   ]
  },
  {
   "cell_type": "code",
   "execution_count": 39,
   "metadata": {},
   "outputs": [
    {
     "name": "stderr",
     "output_type": "stream",
     "text": [
      "/var/folders/9w/090_7gb54d54ppm4sfqk8xgr0000gn/T/ipykernel_18542/444835003.py:3: DeprecationWarning: Conversion of an array with ndim > 0 to a scalar is deprecated, and will error in future. Ensure you extract a single element from your array before performing this operation. (Deprecated NumPy 1.25.)\n",
      "  model_modified.addConstr(gb.quicksum(x[i, j] for j in range(5)) <= direct_shipping_supply_capacity[i], name=f\"Direct Supply Constraint {i + 1}\")\n"
     ]
    }
   ],
   "source": [
    "# Add the supply constraints from source nodes for direct shipping\n",
    "for i in range(len(direct_shipping_supply_capacity)):\n",
    "    model_modified.addConstr(gb.quicksum(x[i, j] for j in range(5)) <= direct_shipping_supply_capacity[i], name=f\"Direct Supply Constraint {i + 1}\")"
   ]
  },
  {
   "cell_type": "code",
   "execution_count": 40,
   "metadata": {},
   "outputs": [
    {
     "name": "stderr",
     "output_type": "stream",
     "text": [
      "/var/folders/9w/090_7gb54d54ppm4sfqk8xgr0000gn/T/ipykernel_18542/334111189.py:3: DeprecationWarning: Conversion of an array with ndim > 0 to a scalar is deprecated, and will error in future. Ensure you extract a single element from your array before performing this operation. (Deprecated NumPy 1.25.)\n",
      "  model_modified.addConstr(gb.quicksum(y[i, j] for j in range(2)) <= shipping_to_transshipment_supply_capacity[i], name=f\"Transshipment Supply Constraint {i + 1}\")\n"
     ]
    }
   ],
   "source": [
    "# Add the supply constraints from source nodes for transshipment shipping\n",
    "for i in range(len(shipping_to_transshipment_supply_capacity)):\n",
    "    model_modified.addConstr(gb.quicksum(y[i, j] for j in range(2)) <= shipping_to_transshipment_supply_capacity[i], name=f\"Transshipment Supply Constraint {i + 1}\")"
   ]
  },
  {
   "cell_type": "code",
   "execution_count": 41,
   "metadata": {},
   "outputs": [
    {
     "name": "stderr",
     "output_type": "stream",
     "text": [
      "/var/folders/9w/090_7gb54d54ppm4sfqk8xgr0000gn/T/ipykernel_18542/1084066422.py:2: DeprecationWarning: Conversion of an array with ndim > 0 to a scalar is deprecated, and will error in future. Ensure you extract a single element from your array before performing this operation. (Deprecated NumPy 1.25.)\n",
      "  model_modified.addConstr(gb.quicksum(y[i,0] for i in range(15)) <= transshipment_supply_capacity[0], name=\"Transship Capacity 1\")\n",
      "/var/folders/9w/090_7gb54d54ppm4sfqk8xgr0000gn/T/ipykernel_18542/1084066422.py:3: DeprecationWarning: Conversion of an array with ndim > 0 to a scalar is deprecated, and will error in future. Ensure you extract a single element from your array before performing this operation. (Deprecated NumPy 1.25.)\n",
      "  model_modified.addConstr(gb.quicksum(y[i,1] for i in range(15)) <= transshipment_supply_capacity[1], name=\"Transship Capacity 2\")\n"
     ]
    },
    {
     "data": {
      "text/plain": [
       "<gurobi.Constr *Awaiting Model Update*>"
      ]
     },
     "execution_count": 41,
     "metadata": {},
     "output_type": "execute_result"
    }
   ],
   "source": [
    "# Add the supply constraints from transshipment nodes\n",
    "model_modified.addConstr(gb.quicksum(y[i,0] for i in range(15)) <= transshipment_supply_capacity[0], name=\"Transship Capacity 1\")\n",
    "model_modified.addConstr(gb.quicksum(y[i,1] for i in range(15)) <= transshipment_supply_capacity[1], name=\"Transship Capacity 2\")"
   ]
  },
  {
   "cell_type": "code",
   "execution_count": 42,
   "metadata": {},
   "outputs": [
    {
     "data": {
      "text/plain": [
       "<gurobi.Constr *Awaiting Model Update*>"
      ]
     },
     "execution_count": 42,
     "metadata": {},
     "output_type": "execute_result"
    }
   ],
   "source": [
    "# Add the flow balance constrainits\n",
    "model_modified.addConstr(gb.quicksum(y[i,0] for i in range(15)) == gb.quicksum(z[0,k] for k in range(5)), name=\"Flow Balance 1\")\n",
    "model_modified.addConstr(gb.quicksum(y[i,1] for i in range(15)) == gb.quicksum(z[1,k] for k in range(5)), name=\"Flow Balance 2\")"
   ]
  },
  {
   "cell_type": "code",
   "execution_count": 43,
   "metadata": {},
   "outputs": [
    {
     "name": "stderr",
     "output_type": "stream",
     "text": [
      "/var/folders/9w/090_7gb54d54ppm4sfqk8xgr0000gn/T/ipykernel_18542/1335377250.py:3: DeprecationWarning: Conversion of an array with ndim > 0 to a scalar is deprecated, and will error in future. Ensure you extract a single element from your array before performing this operation. (Deprecated NumPy 1.25.)\n",
      "  model_modified.addConstr(gb.quicksum(x[i, k] for i in range(25)) + gb.quicksum(z[j, k] for j in range(2)) == refinement_demand[k], name=f\"Refinement Demand Constraint {k + 1}\")\n"
     ]
    }
   ],
   "source": [
    "# Add the demand constraints\n",
    "for k in range(len(refinement_demand)):  # Iterate over refinement nodes R1 to R5\n",
    "    model_modified.addConstr(gb.quicksum(x[i, k] for i in range(25)) + gb.quicksum(z[j, k] for j in range(2)) == refinement_demand[k], name=f\"Refinement Demand Constraint {k + 1}\")"
   ]
  },
  {
   "cell_type": "code",
   "execution_count": 44,
   "metadata": {},
   "outputs": [
    {
     "name": "stdout",
     "output_type": "stream",
     "text": [
      "Gurobi Optimizer version 11.0.0 build v11.0.0rc2 (mac64[arm] - Darwin 23.3.0 23D60)\n",
      "\n",
      "CPU model: Apple M2\n",
      "Thread count: 8 physical cores, 8 logical processors, using up to 8 threads\n",
      "\n",
      "Optimize a model with 49 rows, 165 columns and 360 nonzeros\n",
      "Model fingerprint: 0x8c9b5881\n",
      "Coefficient statistics:\n",
      "  Matrix range     [1e+00, 1e+00]\n",
      "  Objective range  [6e-01, 6e+00]\n",
      "  Bounds range     [0e+00, 0e+00]\n",
      "  RHS range        [1e+02, 2e+03]\n",
      "Presolve time: 0.00s\n",
      "Presolved: 49 rows, 165 columns, 360 nonzeros\n",
      "\n",
      "Iteration    Objective       Primal Inf.    Dual Inf.      Time\n",
      "       0    1.6984407e+04   8.266000e+03   0.000000e+00      0s\n",
      "      35    2.3619036e+04   0.000000e+00   0.000000e+00      0s\n",
      "\n",
      "Solved in 35 iterations and 0.00 seconds (0.00 work units)\n",
      "Optimal objective  2.361903559e+04\n"
     ]
    }
   ],
   "source": [
    "# Optimally solve the problem\n",
    "model_modified.optimize()"
   ]
  },
  {
   "cell_type": "code",
   "execution_count": 45,
   "metadata": {},
   "outputs": [
    {
     "name": "stdout",
     "output_type": "stream",
     "text": [
      "Total Transportation cost:  23619.04\n"
     ]
    }
   ],
   "source": [
    "# Value of the objective function\n",
    "print(\"Total Transportation cost: \", round(model_modified.objVal, 2))"
   ]
  },
  {
   "cell_type": "code",
   "execution_count": 46,
   "metadata": {},
   "outputs": [
    {
     "data": {
      "text/plain": [
       "{(0, 0): 0.0,\n",
       " (0, 1): 374.0,\n",
       " (1, 0): 0.0,\n",
       " (1, 1): 0.0,\n",
       " (2, 0): 0.0,\n",
       " (2, 1): 395.0,\n",
       " (3, 0): 0.0,\n",
       " (3, 1): 245.0,\n",
       " (4, 0): 0.0,\n",
       " (4, 1): 0.0,\n",
       " (5, 0): 0.0,\n",
       " (5, 1): 0.0,\n",
       " (6, 0): 0.0,\n",
       " (6, 1): 0.0,\n",
       " (7, 0): 0.0,\n",
       " (7, 1): 24.0,\n",
       " (8, 0): 0.0,\n",
       " (8, 1): 415.0,\n",
       " (9, 0): 503.0,\n",
       " (9, 1): 0.0,\n",
       " (10, 0): 0.0,\n",
       " (10, 1): 0.0,\n",
       " (11, 0): 297.0,\n",
       " (11, 1): 0.0,\n",
       " (12, 0): 0.0,\n",
       " (12, 1): 0.0,\n",
       " (13, 0): 0.0,\n",
       " (13, 1): 0.0,\n",
       " (14, 0): 365.0,\n",
       " (14, 1): 0.0}"
      ]
     },
     "execution_count": 46,
     "metadata": {},
     "output_type": "execute_result"
    }
   ],
   "source": [
    "# Get the optimal values of decision variables\n",
    "transshipment_values_modified = model_modified.getAttr('x', y)\n",
    "transshipment_values_modified"
   ]
  },
  {
   "cell_type": "code",
   "execution_count": 47,
   "metadata": {},
   "outputs": [
    {
     "data": {
      "text/plain": [
       "2618.0"
      ]
     },
     "execution_count": 47,
     "metadata": {},
     "output_type": "execute_result"
    }
   ],
   "source": [
    "# Calculate the total amount of canola oil transshipped\n",
    "total_transshipped_modified = sum(transshipment_values_modified[i, j] for i in range(15) for j in range(2))\n",
    "total_transshipped_modified"
   ]
  },
  {
   "cell_type": "markdown",
   "metadata": {},
   "source": [
    "Part d)"
   ]
  },
  {
   "cell_type": "code",
   "execution_count": 48,
   "metadata": {},
   "outputs": [],
   "source": [
    "# Create the optimization model\n",
    "model_constraint = gb.Model(\"Question 1: Canola Oil Constraint Change\")"
   ]
  },
  {
   "cell_type": "code",
   "execution_count": 49,
   "metadata": {},
   "outputs": [],
   "source": [
    "# Create the a single class of decision variables where\n",
    "# From = {Ca,US,M,C,F} and To = {R1,R2,R3,R4,R5}.\n",
    "x = model_constraint.addVars(25, 5, lb=0, vtype=GRB.CONTINUOUS, name=\"Direct Shipping\")\n",
    "# From = {I,U,G} and To = {Italy,Greece}.\n",
    "y = model_constraint.addVars(15, 2, lb=0, vtype=GRB.CONTINUOUS, name=\"Ship to Transshipment\")\n",
    "# From = {Italy,Greece} and To = {R1,R2,R3,R4,R5}.\n",
    "z = model_constraint.addVars(2, 5, lb=0, vtype=GRB.CONTINUOUS, name=\"Transshipment to Refinement\")"
   ]
  },
  {
   "cell_type": "code",
   "execution_count": 50,
   "metadata": {},
   "outputs": [],
   "source": [
    "# The objective function\n",
    "direct_objective = gb.quicksum(direct_shipping_costs[i][j]*x[i,j] for i in range(25) for j in range(5))\n",
    "trans_objective = gb.quicksum(shipping_to_transsipment_costs[i][j]*y[i,j] for i in range(15) for j in range(2))\n",
    "trans_to_refinement_objective = gb.quicksum(transsipment_to_refinement_costs[i][j]*z[i,j] for i in range(2) for j in range(5))\n",
    "model_constraint.setObjective(direct_objective + trans_objective + trans_to_refinement_objective, GRB.MINIMIZE)"
   ]
  },
  {
   "cell_type": "code",
   "execution_count": 51,
   "metadata": {},
   "outputs": [
    {
     "name": "stderr",
     "output_type": "stream",
     "text": [
      "/var/folders/9w/090_7gb54d54ppm4sfqk8xgr0000gn/T/ipykernel_18542/1810285693.py:3: DeprecationWarning: Conversion of an array with ndim > 0 to a scalar is deprecated, and will error in future. Ensure you extract a single element from your array before performing this operation. (Deprecated NumPy 1.25.)\n",
      "  model_constraint.addConstr(gb.quicksum(x[i, j] for j in range(5)) <= direct_shipping_supply_capacity[i], name=f\"Direct Supply Constraint {i + 1}\")\n"
     ]
    }
   ],
   "source": [
    "# Add the supply constraints from source nodes for direct shipping\n",
    "for i in range(len(direct_shipping_supply_capacity)):\n",
    "    model_constraint.addConstr(gb.quicksum(x[i, j] for j in range(5)) <= direct_shipping_supply_capacity[i], name=f\"Direct Supply Constraint {i + 1}\")"
   ]
  },
  {
   "cell_type": "code",
   "execution_count": 52,
   "metadata": {},
   "outputs": [
    {
     "name": "stderr",
     "output_type": "stream",
     "text": [
      "/var/folders/9w/090_7gb54d54ppm4sfqk8xgr0000gn/T/ipykernel_18542/683186048.py:3: DeprecationWarning: Conversion of an array with ndim > 0 to a scalar is deprecated, and will error in future. Ensure you extract a single element from your array before performing this operation. (Deprecated NumPy 1.25.)\n",
      "  model_constraint.addConstr(gb.quicksum(y[i, j] for j in range(2)) <= shipping_to_transshipment_supply_capacity[i], name=f\"Transshipment Supply Constraint {i + 1}\")\n"
     ]
    }
   ],
   "source": [
    "# Add the supply constraints from source nodes for transshipment shipping\n",
    "for i in range(len(shipping_to_transshipment_supply_capacity)):\n",
    "    model_constraint.addConstr(gb.quicksum(y[i, j] for j in range(2)) <= shipping_to_transshipment_supply_capacity[i], name=f\"Transshipment Supply Constraint {i + 1}\")"
   ]
  },
  {
   "cell_type": "code",
   "execution_count": 53,
   "metadata": {},
   "outputs": [
    {
     "name": "stderr",
     "output_type": "stream",
     "text": [
      "/var/folders/9w/090_7gb54d54ppm4sfqk8xgr0000gn/T/ipykernel_18542/2032879190.py:2: DeprecationWarning: Conversion of an array with ndim > 0 to a scalar is deprecated, and will error in future. Ensure you extract a single element from your array before performing this operation. (Deprecated NumPy 1.25.)\n",
      "  model_constraint.addConstr(gb.quicksum(y[i,0] for i in range(15)) <= transshipment_supply_capacity[0], name=\"Transship Capacity 1\")\n",
      "/var/folders/9w/090_7gb54d54ppm4sfqk8xgr0000gn/T/ipykernel_18542/2032879190.py:3: DeprecationWarning: Conversion of an array with ndim > 0 to a scalar is deprecated, and will error in future. Ensure you extract a single element from your array before performing this operation. (Deprecated NumPy 1.25.)\n",
      "  model_constraint.addConstr(gb.quicksum(y[i,1] for i in range(15)) <= transshipment_supply_capacity[1], name=\"Transship Capacity 2\")\n"
     ]
    },
    {
     "data": {
      "text/plain": [
       "<gurobi.Constr *Awaiting Model Update*>"
      ]
     },
     "execution_count": 53,
     "metadata": {},
     "output_type": "execute_result"
    }
   ],
   "source": [
    "# Add the supply constraints from transshipment nodes\n",
    "model_constraint.addConstr(gb.quicksum(y[i,0] for i in range(15)) <= transshipment_supply_capacity[0], name=\"Transship Capacity 1\")\n",
    "model_constraint.addConstr(gb.quicksum(y[i,1] for i in range(15)) <= transshipment_supply_capacity[1], name=\"Transship Capacity 2\")"
   ]
  },
  {
   "cell_type": "code",
   "execution_count": 54,
   "metadata": {},
   "outputs": [
    {
     "data": {
      "text/plain": [
       "<gurobi.Constr *Awaiting Model Update*>"
      ]
     },
     "execution_count": 54,
     "metadata": {},
     "output_type": "execute_result"
    }
   ],
   "source": [
    "# Add the flow balance constrainits\n",
    "model_constraint.addConstr(gb.quicksum(y[i,0] for i in range(15)) == gb.quicksum(z[0,k] for k in range(5)), name=\"Flow Balance 1\")\n",
    "model_constraint.addConstr(gb.quicksum(y[i,1] for i in range(15)) == gb.quicksum(z[1,k] for k in range(5)), name=\"Flow Balance 2\")"
   ]
  },
  {
   "cell_type": "code",
   "execution_count": 55,
   "metadata": {},
   "outputs": [
    {
     "name": "stderr",
     "output_type": "stream",
     "text": [
      "/var/folders/9w/090_7gb54d54ppm4sfqk8xgr0000gn/T/ipykernel_18542/3499786536.py:3: DeprecationWarning: Conversion of an array with ndim > 0 to a scalar is deprecated, and will error in future. Ensure you extract a single element from your array before performing this operation. (Deprecated NumPy 1.25.)\n",
      "  model_constraint.addConstr(gb.quicksum(x[i, k] for i in range(25)) + gb.quicksum(z[j, k] for j in range(2)) == refinement_demand[k], name=f\"Refinement Demand Constraint {k + 1}\")\n"
     ]
    }
   ],
   "source": [
    "# Add the demand constraints\n",
    "for k in range(len(refinement_demand)):  # Iterate over refinement nodes R1 to R5\n",
    "    model_constraint.addConstr(gb.quicksum(x[i, k] for i in range(25)) + gb.quicksum(z[j, k] for j in range(2)) == refinement_demand[k], name=f\"Refinement Demand Constraint {k + 1}\")"
   ]
  },
  {
   "cell_type": "markdown",
   "metadata": {},
   "source": [
    "Added constraint"
   ]
  },
  {
   "cell_type": "code",
   "execution_count": 56,
   "metadata": {},
   "outputs": [
    {
     "data": {
      "text/plain": [
       "<gurobi.Constr *Awaiting Model Update*>"
      ]
     },
     "execution_count": 56,
     "metadata": {},
     "output_type": "execute_result"
    }
   ],
   "source": [
    "# Ratio constraint\n",
    "model_constraint.addConstr((0.25*(gb.quicksum(x[i,j] for i in range(25) for j in range(5)) + gb.quicksum(z[i,j] for i in range(2) for j in range(5)))) >= gb.quicksum(y[i,j] for i in range(15) for j in range(2)), name=\"Ratio constraint\")"
   ]
  },
  {
   "cell_type": "code",
   "execution_count": 57,
   "metadata": {},
   "outputs": [
    {
     "name": "stdout",
     "output_type": "stream",
     "text": [
      "Gurobi Optimizer version 11.0.0 build v11.0.0rc2 (mac64[arm] - Darwin 23.3.0 23D60)\n",
      "\n",
      "CPU model: Apple M2\n",
      "Thread count: 8 physical cores, 8 logical processors, using up to 8 threads\n",
      "\n",
      "Optimize a model with 50 rows, 165 columns and 525 nonzeros\n",
      "Model fingerprint: 0x5628116b\n",
      "Coefficient statistics:\n",
      "  Matrix range     [2e-01, 1e+00]\n",
      "  Objective range  [6e-01, 6e+00]\n",
      "  Bounds range     [0e+00, 0e+00]\n",
      "  RHS range        [1e+02, 2e+03]\n",
      "Presolve time: 0.00s\n",
      "Presolved: 50 rows, 165 columns, 525 nonzeros\n",
      "\n",
      "Iteration    Objective       Primal Inf.    Dual Inf.      Time\n",
      "       0    1.7230583e+04   8.266000e+03   0.000000e+00      0s\n",
      "      35    2.4720228e+04   0.000000e+00   0.000000e+00      0s\n",
      "\n",
      "Solved in 35 iterations and 0.00 seconds (0.00 work units)\n",
      "Optimal objective  2.472022754e+04\n"
     ]
    }
   ],
   "source": [
    "# Optimally solve the problem\n",
    "model_constraint.optimize()"
   ]
  },
  {
   "cell_type": "code",
   "execution_count": 58,
   "metadata": {},
   "outputs": [
    {
     "name": "stdout",
     "output_type": "stream",
     "text": [
      "Total Transportation cost:  24720.23\n"
     ]
    }
   ],
   "source": [
    "# Value of the objective function\n",
    "print(\"Total Transportation cost: \", round(model_constraint.objVal, 2))"
   ]
  },
  {
   "cell_type": "code",
   "execution_count": 59,
   "metadata": {},
   "outputs": [
    {
     "data": {
      "text/plain": [
       "{(0, 0): 1148.0,\n",
       " (0, 1): 0.0,\n",
       " (0, 2): 0.0,\n",
       " (0, 3): 0.0,\n",
       " (0, 4): 0.0,\n",
       " (1, 0): 0.0,\n",
       " (1, 1): 964.0,\n",
       " (1, 2): 70.0,\n",
       " (1, 3): 0.0,\n",
       " (1, 4): 0.0}"
      ]
     },
     "execution_count": 59,
     "metadata": {},
     "output_type": "execute_result"
    }
   ],
   "source": [
    "# Get the optimal values of decision variables\n",
    "transshipment_values = model_constraint.getAttr('x', z)\n",
    "transshipment_values"
   ]
  },
  {
   "cell_type": "code",
   "execution_count": 60,
   "metadata": {},
   "outputs": [
    {
     "data": {
      "text/plain": [
       "2182.0"
      ]
     },
     "execution_count": 60,
     "metadata": {},
     "output_type": "execute_result"
    }
   ],
   "source": [
    "# Calculate the total amount of canola oil transshipped\n",
    "total_transshipped = sum(transshipment_values[i, j] for i in range(2) for j in range(5))\n",
    "total_transshipped"
   ]
  },
  {
   "cell_type": "code",
   "execution_count": 61,
   "metadata": {},
   "outputs": [
    {
     "data": {
      "text/plain": [
       "{(0, 0): 0.0,\n",
       " (0, 1): 0.0,\n",
       " (0, 2): 0.0,\n",
       " (0, 3): 462.0,\n",
       " (0, 4): 0.0,\n",
       " (1, 0): 0.0,\n",
       " (1, 1): 103.0,\n",
       " (1, 2): 0.0,\n",
       " (1, 3): 0.0,\n",
       " (1, 4): 0.0,\n",
       " (2, 0): 0.0,\n",
       " (2, 1): 0.0,\n",
       " (2, 2): 460.0,\n",
       " (2, 3): 0.0,\n",
       " (2, 4): 0.0,\n",
       " (3, 0): 149.0,\n",
       " (3, 1): 0.0,\n",
       " (3, 2): 0.0,\n",
       " (3, 3): 0.0,\n",
       " (3, 4): 0.0,\n",
       " (4, 0): 0.0,\n",
       " (4, 1): 0.0,\n",
       " (4, 2): 227.0,\n",
       " (4, 3): 0.0,\n",
       " (4, 4): 0.0,\n",
       " (5, 0): 0.0,\n",
       " (5, 1): 217.0,\n",
       " (5, 2): 0.0,\n",
       " (5, 3): 0.0,\n",
       " (5, 4): 0.0,\n",
       " (6, 0): 0.0,\n",
       " (6, 1): 0.0,\n",
       " (6, 2): 205.0,\n",
       " (6, 3): 0.0,\n",
       " (6, 4): 0.0,\n",
       " (7, 0): 0.0,\n",
       " (7, 1): 0.0,\n",
       " (7, 2): 0.0,\n",
       " (7, 3): 0.0,\n",
       " (7, 4): 521.0,\n",
       " (8, 0): 0.0,\n",
       " (8, 1): 0.0,\n",
       " (8, 2): 0.0,\n",
       " (8, 3): 0.0,\n",
       " (8, 4): 548.0,\n",
       " (9, 0): 0.0,\n",
       " (9, 1): 0.0,\n",
       " (9, 2): 0.0,\n",
       " (9, 3): 0.0,\n",
       " (9, 4): 0.0,\n",
       " (10, 0): 0.0,\n",
       " (10, 1): 0.0,\n",
       " (10, 2): 0.0,\n",
       " (10, 3): 0.0,\n",
       " (10, 4): 361.0,\n",
       " (11, 0): 27.0,\n",
       " (11, 1): 0.0,\n",
       " (11, 2): 384.0,\n",
       " (11, 3): 0.0,\n",
       " (11, 4): 0.0,\n",
       " (12, 0): 104.0,\n",
       " (12, 1): 0.0,\n",
       " (12, 2): 0.0,\n",
       " (12, 3): 0.0,\n",
       " (12, 4): 0.0,\n",
       " (13, 0): 0.0,\n",
       " (13, 1): 0.0,\n",
       " (13, 2): 0.0,\n",
       " (13, 3): 0.0,\n",
       " (13, 4): 155.0,\n",
       " (14, 0): 0.0,\n",
       " (14, 1): 0.0,\n",
       " (14, 2): 0.0,\n",
       " (14, 3): 285.0,\n",
       " (14, 4): 0.0,\n",
       " (15, 0): 109.0,\n",
       " (15, 1): 0.0,\n",
       " (15, 2): 0.0,\n",
       " (15, 3): 0.0,\n",
       " (15, 4): 0.0,\n",
       " (16, 0): 0.0,\n",
       " (16, 1): 0.0,\n",
       " (16, 2): 0.0,\n",
       " (16, 3): 0.0,\n",
       " (16, 4): 0.0,\n",
       " (17, 0): 0.0,\n",
       " (17, 1): 358.0,\n",
       " (17, 2): 0.0,\n",
       " (17, 3): 0.0,\n",
       " (17, 4): 80.0,\n",
       " (18, 0): 0.0,\n",
       " (18, 1): 0.0,\n",
       " (18, 2): 0.0,\n",
       " (18, 3): 501.0,\n",
       " (18, 4): 0.0,\n",
       " (19, 0): 0.0,\n",
       " (19, 1): 0.0,\n",
       " (19, 2): 0.0,\n",
       " (19, 3): 86.0,\n",
       " (19, 4): 0.0,\n",
       " (20, 0): 0.0,\n",
       " (20, 1): 0.0,\n",
       " (20, 2): 462.0,\n",
       " (20, 3): 0.0,\n",
       " (20, 4): 0.0,\n",
       " (21, 0): 0.0,\n",
       " (21, 1): 0.0,\n",
       " (21, 2): 0.0,\n",
       " (21, 3): 504.0,\n",
       " (21, 4): 0.0,\n",
       " (22, 0): 0.0,\n",
       " (22, 1): 106.0,\n",
       " (22, 2): 0.0,\n",
       " (22, 3): 0.0,\n",
       " (22, 4): 0.0,\n",
       " (23, 0): 0.0,\n",
       " (23, 1): 0.0,\n",
       " (23, 2): 132.0,\n",
       " (23, 3): 0.0,\n",
       " (23, 4): 0.0,\n",
       " (24, 0): 0.0,\n",
       " (24, 1): 0.0,\n",
       " (24, 2): 0.0,\n",
       " (24, 3): 0.0,\n",
       " (24, 4): 0.0}"
      ]
     },
     "execution_count": 61,
     "metadata": {},
     "output_type": "execute_result"
    }
   ],
   "source": [
    "# Get the optimal values of decision variables\n",
    "direct_shipping_values = model_constraint.getAttr('x', x)\n",
    "direct_shipping_values"
   ]
  },
  {
   "cell_type": "code",
   "execution_count": 62,
   "metadata": {},
   "outputs": [
    {
     "data": {
      "text/plain": [
       "6546.0"
      ]
     },
     "execution_count": 62,
     "metadata": {},
     "output_type": "execute_result"
    }
   ],
   "source": [
    "# Calculate the total amount of canola oil directly shipped\n",
    "direct_shipping = sum(direct_shipping_values[i, j] for i in range(25) for j in range(5))\n",
    "direct_shipping"
   ]
  },
  {
   "cell_type": "code",
   "execution_count": 63,
   "metadata": {},
   "outputs": [
    {
     "data": {
      "text/plain": [
       "0.25"
      ]
     },
     "execution_count": 63,
     "metadata": {},
     "output_type": "execute_result"
    }
   ],
   "source": [
    "# Calculate the proportion\n",
    "total_canola_oil = direct_shipping + total_transshipped\n",
    "proportion_transshipped = total_transshipped / total_canola_oil\n",
    "proportion_transshipped"
   ]
  },
  {
   "cell_type": "markdown",
   "metadata": {},
   "source": [
    "e) Choose the constraint route for obvious reasons"
   ]
  },
  {
   "cell_type": "markdown",
   "metadata": {},
   "source": [
    "f)"
   ]
  },
  {
   "cell_type": "code",
   "execution_count": 64,
   "metadata": {},
   "outputs": [],
   "source": [
    "# Create the optimization model\n",
    "model_NA = gb.Model(\"Question 1: Canola Oil North America Change\")"
   ]
  },
  {
   "cell_type": "code",
   "execution_count": 65,
   "metadata": {},
   "outputs": [],
   "source": [
    "# Create the a single class of decision variables where\n",
    "# From = {Ca,US,M,C,F} and To = {R1,R2,R3,R4,R5}.\n",
    "x = model_NA.addVars(25, 5, lb=0, vtype=GRB.CONTINUOUS, name=\"Direct Shipping\")\n",
    "# From = {I,U,G} and To = {Italy,Greece}.\n",
    "y = model_NA.addVars(15, 2, lb=0, vtype=GRB.CONTINUOUS, name=\"Ship to Transshipment\")\n",
    "# From = {Italy,Greece} and To = {R1,R2,R3,R4,R5}.\n",
    "z = model_NA.addVars(2, 5, lb=0, vtype=GRB.CONTINUOUS, name=\"Transshipment to Refinement\")"
   ]
  },
  {
   "cell_type": "markdown",
   "metadata": {},
   "source": [
    "Apply Discount"
   ]
  },
  {
   "cell_type": "code",
   "execution_count": 66,
   "metadata": {},
   "outputs": [
    {
     "data": {
      "text/plain": [
       "array([[4.25273277, 4.56772552, 4.69648446, 2.67874096, 4.27245069],\n",
       "       [2.95047222, 2.63661931, 2.85346871, 5.48002613, 3.03749539],\n",
       "       [4.02568313, 5.40779944, 3.38094894, 5.44123713, 4.40886217],\n",
       "       [3.46114107, 5.34694389, 4.99366311, 5.96818684, 4.83600407],\n",
       "       [5.94681429, 4.74917249, 3.72614981, 3.58915858, 4.93741459],\n",
       "       [3.46939366, 2.75501443, 5.60123055, 4.49910112, 4.22405746],\n",
       "       [4.7290315 , 4.30193766, 3.67740309, 4.15881121, 4.15956806],\n",
       "       [5.74380976, 5.57158666, 5.09534814, 5.34986497, 2.62562966],\n",
       "       [4.25622982, 5.56865574, 4.13714572, 4.90410382, 3.05688139],\n",
       "       [4.29664067, 5.75680178, 4.87474585, 4.10968275, 4.66040916],\n",
       "       [4.02164417, 5.38745866, 5.4089004 , 5.18510303, 3.47259321],\n",
       "       [3.28957805, 3.58831517, 3.62182771, 4.84919596, 4.89636402],\n",
       "       [2.9072415 , 4.15142098, 4.60651418, 5.22233913, 3.76568815],\n",
       "       [5.80493436, 3.58642269, 4.32677984, 5.63769746, 3.39212168],\n",
       "       [5.87454415, 3.572913  , 3.79897077, 2.91793106, 5.43496734],\n",
       "       [2.8220575 , 4.10130751, 4.95439918, 4.19164594, 3.1454322 ],\n",
       "       [5.02789698, 4.67095384, 5.12286983, 4.09337178, 5.62927336],\n",
       "       [3.02488242, 2.71410269, 3.5826889 , 3.10998883, 2.62833688],\n",
       "       [3.34709507, 5.83444497, 5.8110041 , 2.85704775, 4.56837714],\n",
       "       [4.81217859, 4.54078328, 4.504062  , 3.60485169, 5.95739562],\n",
       "       [5.87531792, 3.7604349 , 2.55688209, 5.07318525, 2.91307076],\n",
       "       [2.8957845 , 5.60692168, 3.27463703, 2.85475969, 5.25852458],\n",
       "       [4.71173486, 2.63791887, 4.28677306, 4.10198461, 5.79644057],\n",
       "       [5.63121907, 5.17582145, 3.21758562, 5.28542907, 5.0469302 ],\n",
       "       [4.38417588, 5.94344807, 4.99921981, 4.15483307, 5.07528003]])"
      ]
     },
     "execution_count": 66,
     "metadata": {},
     "output_type": "execute_result"
    }
   ],
   "source": [
    "direct_shipping_costs"
   ]
  },
  {
   "cell_type": "code",
   "execution_count": 67,
   "metadata": {},
   "outputs": [],
   "source": [
    "for i in range(15):\n",
    "    for j in range(5):\n",
    "        direct_shipping_costs[i, j] *= 0.82"
   ]
  },
  {
   "cell_type": "code",
   "execution_count": 68,
   "metadata": {},
   "outputs": [
    {
     "data": {
      "text/plain": [
       "array([[3.48724087, 3.74553493, 3.85111726, 2.19656759, 3.50340957],\n",
       "       [2.41938722, 2.16202783, 2.33984434, 4.49362142, 2.49074622],\n",
       "       [3.30106017, 4.43439554, 2.77237813, 4.46181444, 3.61526698],\n",
       "       [2.83813568, 4.38449399, 4.09480375, 4.89391321, 3.96552334],\n",
       "       [4.87638772, 3.89432144, 3.05544285, 2.94311004, 4.04867996],\n",
       "       [2.8449028 , 2.25911183, 4.59300905, 3.68926292, 3.46372712],\n",
       "       [3.87780583, 3.52758888, 3.01547053, 3.41022519, 3.41084581],\n",
       "       [4.709924  , 4.56870106, 4.17818548, 4.38688928, 2.15301632],\n",
       "       [3.49010845, 4.5662977 , 3.39245949, 4.02136514, 2.50664274],\n",
       "       [3.52324535, 4.72057746, 3.9972916 , 3.36993986, 3.82153551],\n",
       "       [3.29774822, 4.4177161 , 4.43529833, 4.25178449, 2.84752643],\n",
       "       [2.697454  , 2.94241844, 2.96989873, 3.97634069, 4.0150185 ],\n",
       "       [2.38393803, 3.40416521, 3.77734163, 4.28231809, 3.08786428],\n",
       "       [4.76004618, 2.94086661, 3.54795947, 4.62291191, 2.78153978],\n",
       "       [4.81712621, 2.92978866, 3.11515603, 2.39270347, 4.45667322],\n",
       "       [2.8220575 , 4.10130751, 4.95439918, 4.19164594, 3.1454322 ],\n",
       "       [5.02789698, 4.67095384, 5.12286983, 4.09337178, 5.62927336],\n",
       "       [3.02488242, 2.71410269, 3.5826889 , 3.10998883, 2.62833688],\n",
       "       [3.34709507, 5.83444497, 5.8110041 , 2.85704775, 4.56837714],\n",
       "       [4.81217859, 4.54078328, 4.504062  , 3.60485169, 5.95739562],\n",
       "       [5.87531792, 3.7604349 , 2.55688209, 5.07318525, 2.91307076],\n",
       "       [2.8957845 , 5.60692168, 3.27463703, 2.85475969, 5.25852458],\n",
       "       [4.71173486, 2.63791887, 4.28677306, 4.10198461, 5.79644057],\n",
       "       [5.63121907, 5.17582145, 3.21758562, 5.28542907, 5.0469302 ],\n",
       "       [4.38417588, 5.94344807, 4.99921981, 4.15483307, 5.07528003]])"
      ]
     },
     "execution_count": 68,
     "metadata": {},
     "output_type": "execute_result"
    }
   ],
   "source": [
    "direct_shipping_costs"
   ]
  },
  {
   "cell_type": "code",
   "execution_count": 69,
   "metadata": {},
   "outputs": [],
   "source": [
    "# The objective function\n",
    "direct_objective = gb.quicksum(direct_shipping_costs[i][j]*x[i,j] for i in range(25) for j in range(5))\n",
    "trans_objective = gb.quicksum(shipping_to_transsipment_costs[i][j]*y[i,j] for i in range(15) for j in range(2))\n",
    "trans_to_refinement_objective = gb.quicksum(transsipment_to_refinement_costs[i][j]*z[i,j] for i in range(2) for j in range(5))\n",
    "model_NA.setObjective(direct_objective + trans_objective + trans_to_refinement_objective, GRB.MINIMIZE)"
   ]
  },
  {
   "cell_type": "code",
   "execution_count": 70,
   "metadata": {},
   "outputs": [
    {
     "name": "stderr",
     "output_type": "stream",
     "text": [
      "/var/folders/9w/090_7gb54d54ppm4sfqk8xgr0000gn/T/ipykernel_18542/2092599772.py:3: DeprecationWarning: Conversion of an array with ndim > 0 to a scalar is deprecated, and will error in future. Ensure you extract a single element from your array before performing this operation. (Deprecated NumPy 1.25.)\n",
      "  model_NA.addConstr(gb.quicksum(x[i, j] for j in range(5)) <= direct_shipping_supply_capacity[i], name=f\"Direct Supply Constraint {i + 1}\")\n"
     ]
    }
   ],
   "source": [
    "# Add the supply constraints from source nodes for direct shipping\n",
    "for i in range(len(direct_shipping_supply_capacity)):\n",
    "    model_NA.addConstr(gb.quicksum(x[i, j] for j in range(5)) <= direct_shipping_supply_capacity[i], name=f\"Direct Supply Constraint {i + 1}\")"
   ]
  },
  {
   "cell_type": "code",
   "execution_count": 71,
   "metadata": {},
   "outputs": [
    {
     "name": "stderr",
     "output_type": "stream",
     "text": [
      "/var/folders/9w/090_7gb54d54ppm4sfqk8xgr0000gn/T/ipykernel_18542/1085130033.py:3: DeprecationWarning: Conversion of an array with ndim > 0 to a scalar is deprecated, and will error in future. Ensure you extract a single element from your array before performing this operation. (Deprecated NumPy 1.25.)\n",
      "  model_NA.addConstr(gb.quicksum(y[i, j] for j in range(2)) <= shipping_to_transshipment_supply_capacity[i], name=f\"Transshipment Supply Constraint {i + 1}\")\n"
     ]
    }
   ],
   "source": [
    "# Add the supply constraints from source nodes for transshipment shipping\n",
    "for i in range(len(shipping_to_transshipment_supply_capacity)):\n",
    "    model_NA.addConstr(gb.quicksum(y[i, j] for j in range(2)) <= shipping_to_transshipment_supply_capacity[i], name=f\"Transshipment Supply Constraint {i + 1}\")"
   ]
  },
  {
   "cell_type": "code",
   "execution_count": 72,
   "metadata": {},
   "outputs": [
    {
     "name": "stderr",
     "output_type": "stream",
     "text": [
      "/var/folders/9w/090_7gb54d54ppm4sfqk8xgr0000gn/T/ipykernel_18542/375248322.py:2: DeprecationWarning: Conversion of an array with ndim > 0 to a scalar is deprecated, and will error in future. Ensure you extract a single element from your array before performing this operation. (Deprecated NumPy 1.25.)\n",
      "  model_NA.addConstr(gb.quicksum(y[i,0] for i in range(15)) <= transshipment_supply_capacity[0], name=\"Transship Capacity 1\")\n",
      "/var/folders/9w/090_7gb54d54ppm4sfqk8xgr0000gn/T/ipykernel_18542/375248322.py:3: DeprecationWarning: Conversion of an array with ndim > 0 to a scalar is deprecated, and will error in future. Ensure you extract a single element from your array before performing this operation. (Deprecated NumPy 1.25.)\n",
      "  model_NA.addConstr(gb.quicksum(y[i,1] for i in range(15)) <= transshipment_supply_capacity[1], name=\"Transship Capacity 2\")\n"
     ]
    },
    {
     "data": {
      "text/plain": [
       "<gurobi.Constr *Awaiting Model Update*>"
      ]
     },
     "execution_count": 72,
     "metadata": {},
     "output_type": "execute_result"
    }
   ],
   "source": [
    "# Add the supply constraints from transshipment nodes\n",
    "model_NA.addConstr(gb.quicksum(y[i,0] for i in range(15)) <= transshipment_supply_capacity[0], name=\"Transship Capacity 1\")\n",
    "model_NA.addConstr(gb.quicksum(y[i,1] for i in range(15)) <= transshipment_supply_capacity[1], name=\"Transship Capacity 2\")"
   ]
  },
  {
   "cell_type": "code",
   "execution_count": 73,
   "metadata": {},
   "outputs": [
    {
     "data": {
      "text/plain": [
       "<gurobi.Constr *Awaiting Model Update*>"
      ]
     },
     "execution_count": 73,
     "metadata": {},
     "output_type": "execute_result"
    }
   ],
   "source": [
    "# Add the flow balance constrainits\n",
    "model_NA.addConstr(gb.quicksum(y[i,0] for i in range(15)) == gb.quicksum(z[0,k] for k in range(5)), name=\"Flow Balance 1\")\n",
    "model_NA.addConstr(gb.quicksum(y[i,1] for i in range(15)) == gb.quicksum(z[1,k] for k in range(5)), name=\"Flow Balance 2\")"
   ]
  },
  {
   "cell_type": "code",
   "execution_count": 74,
   "metadata": {},
   "outputs": [
    {
     "name": "stderr",
     "output_type": "stream",
     "text": [
      "/var/folders/9w/090_7gb54d54ppm4sfqk8xgr0000gn/T/ipykernel_18542/3413968090.py:3: DeprecationWarning: Conversion of an array with ndim > 0 to a scalar is deprecated, and will error in future. Ensure you extract a single element from your array before performing this operation. (Deprecated NumPy 1.25.)\n",
      "  model_NA.addConstr(gb.quicksum(x[i, k] for i in range(25)) + gb.quicksum(z[j, k] for j in range(2)) == refinement_demand[k], name=f\"Refinement Demand Constraint {k + 1}\")\n"
     ]
    }
   ],
   "source": [
    "# Add the demand constraints\n",
    "for k in range(len(refinement_demand)):  # Iterate over refinement nodes R1 to R5\n",
    "    model_NA.addConstr(gb.quicksum(x[i, k] for i in range(25)) + gb.quicksum(z[j, k] for j in range(2)) == refinement_demand[k], name=f\"Refinement Demand Constraint {k + 1}\")"
   ]
  },
  {
   "cell_type": "code",
   "execution_count": 75,
   "metadata": {},
   "outputs": [
    {
     "name": "stdout",
     "output_type": "stream",
     "text": [
      "Gurobi Optimizer version 11.0.0 build v11.0.0rc2 (mac64[arm] - Darwin 23.3.0 23D60)\n",
      "\n",
      "CPU model: Apple M2\n",
      "Thread count: 8 physical cores, 8 logical processors, using up to 8 threads\n",
      "\n",
      "Optimize a model with 49 rows, 165 columns and 360 nonzeros\n",
      "Model fingerprint: 0x4654186c\n",
      "Coefficient statistics:\n",
      "  Matrix range     [1e+00, 1e+00]\n",
      "  Objective range  [6e-01, 6e+00]\n",
      "  Bounds range     [0e+00, 0e+00]\n",
      "  RHS range        [1e+02, 2e+03]\n",
      "Presolve time: 0.00s\n",
      "Presolved: 49 rows, 165 columns, 360 nonzeros\n",
      "\n",
      "Iteration    Objective       Primal Inf.    Dual Inf.      Time\n",
      "       0    1.6170503e+04   7.745000e+03   0.000000e+00      0s\n",
      "      31    2.2076176e+04   0.000000e+00   0.000000e+00      0s\n",
      "\n",
      "Solved in 31 iterations and 0.00 seconds (0.00 work units)\n",
      "Optimal objective  2.207617571e+04\n"
     ]
    }
   ],
   "source": [
    "# Optimally solve the problem\n",
    "model_NA.optimize()"
   ]
  },
  {
   "cell_type": "code",
   "execution_count": 76,
   "metadata": {},
   "outputs": [
    {
     "name": "stdout",
     "output_type": "stream",
     "text": [
      "Total Transportation cost:  22076.18\n"
     ]
    }
   ],
   "source": [
    "# Value of the objective function\n",
    "print(\"Total Transportation cost: \", round(model_NA.objVal, 2))"
   ]
  },
  {
   "cell_type": "code",
   "execution_count": 77,
   "metadata": {},
   "outputs": [
    {
     "data": {
      "text/plain": [
       "{(0, 0): 0.0,\n",
       " (0, 1): 0.0,\n",
       " (0, 2): 0.0,\n",
       " (0, 3): 462.0,\n",
       " (0, 4): 0.0,\n",
       " (1, 0): 0.0,\n",
       " (1, 1): 103.0,\n",
       " (1, 2): 0.0,\n",
       " (1, 3): 0.0,\n",
       " (1, 4): 0.0,\n",
       " (2, 0): 0.0,\n",
       " (2, 1): 0.0,\n",
       " (2, 2): 460.0,\n",
       " (2, 3): 0.0,\n",
       " (2, 4): 0.0,\n",
       " (3, 0): 0.0,\n",
       " (3, 1): 0.0,\n",
       " (3, 2): 0.0,\n",
       " (3, 3): 0.0,\n",
       " (3, 4): 0.0,\n",
       " (4, 0): 0.0,\n",
       " (4, 1): 0.0,\n",
       " (4, 2): 141.0,\n",
       " (4, 3): 86.0,\n",
       " (4, 4): 0.0,\n",
       " (5, 0): 0.0,\n",
       " (5, 1): 217.0,\n",
       " (5, 2): 0.0,\n",
       " (5, 3): 0.0,\n",
       " (5, 4): 0.0,\n",
       " (6, 0): 0.0,\n",
       " (6, 1): 0.0,\n",
       " (6, 2): 205.0,\n",
       " (6, 3): 0.0,\n",
       " (6, 4): 0.0,\n",
       " (7, 0): 0.0,\n",
       " (7, 1): 0.0,\n",
       " (7, 2): 0.0,\n",
       " (7, 3): 0.0,\n",
       " (7, 4): 521.0,\n",
       " (8, 0): 0.0,\n",
       " (8, 1): 0.0,\n",
       " (8, 2): 0.0,\n",
       " (8, 3): 0.0,\n",
       " (8, 4): 548.0,\n",
       " (9, 0): 0.0,\n",
       " (9, 1): 0.0,\n",
       " (9, 2): 0.0,\n",
       " (9, 3): 0.0,\n",
       " (9, 4): 0.0,\n",
       " (10, 0): 0.0,\n",
       " (10, 1): 0.0,\n",
       " (10, 2): 0.0,\n",
       " (10, 3): 0.0,\n",
       " (10, 4): 361.0,\n",
       " (11, 0): 228.0,\n",
       " (11, 1): 0.0,\n",
       " (11, 2): 183.0,\n",
       " (11, 3): 0.0,\n",
       " (11, 4): 0.0,\n",
       " (12, 0): 104.0,\n",
       " (12, 1): 0.0,\n",
       " (12, 2): 0.0,\n",
       " (12, 3): 0.0,\n",
       " (12, 4): 0.0,\n",
       " (13, 0): 0.0,\n",
       " (13, 1): 0.0,\n",
       " (13, 2): 0.0,\n",
       " (13, 3): 0.0,\n",
       " (13, 4): 155.0,\n",
       " (14, 0): 0.0,\n",
       " (14, 1): 0.0,\n",
       " (14, 2): 0.0,\n",
       " (14, 3): 285.0,\n",
       " (14, 4): 0.0,\n",
       " (15, 0): 40.0,\n",
       " (15, 1): 0.0,\n",
       " (15, 2): 0.0,\n",
       " (15, 3): 0.0,\n",
       " (15, 4): 0.0,\n",
       " (16, 0): 0.0,\n",
       " (16, 1): 0.0,\n",
       " (16, 2): 0.0,\n",
       " (16, 3): 0.0,\n",
       " (16, 4): 0.0,\n",
       " (17, 0): 0.0,\n",
       " (17, 1): 358.0,\n",
       " (17, 2): 0.0,\n",
       " (17, 3): 0.0,\n",
       " (17, 4): 80.0,\n",
       " (18, 0): 0.0,\n",
       " (18, 1): 0.0,\n",
       " (18, 2): 0.0,\n",
       " (18, 3): 501.0,\n",
       " (18, 4): 0.0,\n",
       " (19, 0): 0.0,\n",
       " (19, 1): 0.0,\n",
       " (19, 2): 0.0,\n",
       " (19, 3): 0.0,\n",
       " (19, 4): 0.0,\n",
       " (20, 0): 0.0,\n",
       " (20, 1): 0.0,\n",
       " (20, 2): 462.0,\n",
       " (20, 3): 0.0,\n",
       " (20, 4): 0.0,\n",
       " (21, 0): 0.0,\n",
       " (21, 1): 0.0,\n",
       " (21, 2): 0.0,\n",
       " (21, 3): 504.0,\n",
       " (21, 4): 0.0,\n",
       " (22, 0): 0.0,\n",
       " (22, 1): 106.0,\n",
       " (22, 2): 0.0,\n",
       " (22, 3): 0.0,\n",
       " (22, 4): 0.0,\n",
       " (23, 0): 0.0,\n",
       " (23, 1): 0.0,\n",
       " (23, 2): 0.0,\n",
       " (23, 3): 0.0,\n",
       " (23, 4): 0.0,\n",
       " (24, 0): 0.0,\n",
       " (24, 1): 0.0,\n",
       " (24, 2): 0.0,\n",
       " (24, 3): 0.0,\n",
       " (24, 4): 0.0}"
      ]
     },
     "execution_count": 77,
     "metadata": {},
     "output_type": "execute_result"
    }
   ],
   "source": [
    "# Get the optimal values of decision variables\n",
    "direct_shipping_values = model_NA.getAttr('x', x)\n",
    "direct_shipping_values"
   ]
  },
  {
   "cell_type": "code",
   "execution_count": 78,
   "metadata": {},
   "outputs": [
    {
     "data": {
      "text/plain": [
       "6110.0"
      ]
     },
     "execution_count": 78,
     "metadata": {},
     "output_type": "execute_result"
    }
   ],
   "source": [
    "# Calculate the total amount of canola oil directly shipped\n",
    "direct_shipping = sum(direct_shipping_values[i, j] for i in range(25) for j in range(5))\n",
    "direct_shipping"
   ]
  },
  {
   "cell_type": "code",
   "execution_count": 79,
   "metadata": {},
   "outputs": [
    {
     "data": {
      "text/plain": [
       "4059.0"
      ]
     },
     "execution_count": 79,
     "metadata": {},
     "output_type": "execute_result"
    }
   ],
   "source": [
    "# Calculate the total amount of canola oil directly shipped\n",
    "direct_shipping_for_f = sum(direct_shipping_values[i, j] for i in range(15) for j in range(5))\n",
    "direct_shipping_for_f"
   ]
  },
  {
   "cell_type": "markdown",
   "metadata": {},
   "source": [
    "# Question 2"
   ]
  },
  {
   "cell_type": "code",
   "execution_count": 80,
   "metadata": {},
   "outputs": [],
   "source": [
    "# Create the optimization model\n",
    "question_2_model = gb.Model(\"Question 2: Sunnyshore Bay\")"
   ]
  },
  {
   "cell_type": "code",
   "execution_count": 81,
   "metadata": {},
   "outputs": [],
   "source": [
    "# Create the three classes of decision variables where each Python\n",
    "# variable represents a different number of Gurobi decision variables\n",
    "B = question_2_model.addVars(6, lb=0, vtype=GRB.CONTINUOUS, name=\"Borrow\")\n",
    "w = question_2_model.addVars(4, lb=0, vtype=GRB.CONTINUOUS, name=\"Wealth\")"
   ]
  },
  {
   "cell_type": "code",
   "execution_count": 82,
   "metadata": {},
   "outputs": [],
   "source": [
    "# The objective function\n",
    "question_2_model.setObjective(w[3], GRB.MAXIMIZE)"
   ]
  },
  {
   "cell_type": "code",
   "execution_count": 83,
   "metadata": {},
   "outputs": [
    {
     "data": {
      "text/plain": [
       "<gurobi.Constr *Awaiting Model Update*>"
      ]
     },
     "execution_count": 83,
     "metadata": {},
     "output_type": "execute_result"
    }
   ],
   "source": [
    "# Add the balance constraints\n",
    "question_2_model.addConstr(w[0] == 140000 + 180000 - 300000 + B[0] + B[1] + B[2], \"May Balance Constraint\")\n",
    "question_2_model.addConstr(w[1] == w[0] + 260000 - 400000 + B[3] + B[4] - 1.0175*B[2], \"June Balance Constraint\")\n",
    "question_2_model.addConstr(w[2] == w[1] + 420000 - 350000 + B[5] - 1.0225*B[1] - 1.0175*B[4], \"July Balance Constraint\")\n",
    "question_2_model.addConstr(w[3] == w[2] + 580000 - 200000 - 1.0275*B[0] - 1.0225*B[3] - 1.0175*B[5], \"August Balance Constraint\")"
   ]
  },
  {
   "cell_type": "code",
   "execution_count": 84,
   "metadata": {},
   "outputs": [],
   "source": [
    "# Add the cash flow constraints\n",
    "May_Cash_Flow_Constraint = question_2_model.addConstr(w[0] >= 25000, \"May Cash Flow Constraint\")\n",
    "June_Cash_Flow_Constraint = question_2_model.addConstr(w[1] >= 20000, \"June Cash Flow Constraint\")\n",
    "July_Cash_Flow_Constraint = question_2_model.addConstr(w[2] >= 35000, \"July Cash Flow Constraint\")\n",
    "August_Cash_Flow_Constraint = question_2_model.addConstr(w[3] >= 18000, \"August Cash Flow Constraint\")"
   ]
  },
  {
   "cell_type": "code",
   "execution_count": 85,
   "metadata": {},
   "outputs": [
    {
     "data": {
      "text/plain": [
       "<gurobi.Constr *Awaiting Model Update*>"
      ]
     },
     "execution_count": 85,
     "metadata": {},
     "output_type": "execute_result"
    }
   ],
   "source": [
    "# Add the borrowing constraints\n",
    "question_2_model.addConstr((B[0] + B[1] + B[2]) <= 250000, \"May Borrowing Constraint\")\n",
    "question_2_model.addConstr((B[3] + B[4]) <= 150000, \"June Borrowing Constraint\")\n",
    "question_2_model.addConstr(B[5] <= 350000, \"July Borrowing Constraint\")"
   ]
  },
  {
   "cell_type": "code",
   "execution_count": 86,
   "metadata": {},
   "outputs": [
    {
     "data": {
      "text/plain": [
       "<gurobi.Constr *Awaiting Model Update*>"
      ]
     },
     "execution_count": 86,
     "metadata": {},
     "output_type": "execute_result"
    }
   ],
   "source": [
    "# Ratio constraint\n",
    "question_2_model.addConstr((0.65*(w[0] + w[1])) <= w[2], name=\"Ratio constraint\")"
   ]
  },
  {
   "cell_type": "code",
   "execution_count": 87,
   "metadata": {},
   "outputs": [
    {
     "name": "stdout",
     "output_type": "stream",
     "text": [
      "Gurobi Optimizer version 11.0.0 build v11.0.0rc2 (mac64[arm] - Darwin 23.3.0 23D60)\n",
      "\n",
      "CPU model: Apple M2\n",
      "Thread count: 8 physical cores, 8 logical processors, using up to 8 threads\n",
      "\n",
      "Optimize a model with 12 rows, 10 columns and 32 nonzeros\n",
      "Model fingerprint: 0xcc017ff0\n",
      "Coefficient statistics:\n",
      "  Matrix range     [7e-01, 1e+00]\n",
      "  Objective range  [1e+00, 1e+00]\n",
      "  Bounds range     [0e+00, 0e+00]\n",
      "  RHS range        [2e+04, 4e+05]\n",
      "Presolve removed 5 rows and 0 columns\n",
      "Presolve time: 0.00s\n",
      "Presolved: 7 rows, 10 columns, 27 nonzeros\n",
      "\n",
      "Iteration    Objective       Primal Inf.    Dual Inf.      Time\n",
      "       0    8.0000000e+30   1.000000e+30   8.000000e+00      0s\n",
      "       6    3.2709527e+05   0.000000e+00   0.000000e+00      0s\n",
      "\n",
      "Solved in 6 iterations and 0.00 seconds (0.00 work units)\n",
      "Optimal objective  3.270952703e+05\n"
     ]
    }
   ],
   "source": [
    "# Optimally solve the problem\n",
    "question_2_model.optimize()"
   ]
  },
  {
   "cell_type": "code",
   "execution_count": 88,
   "metadata": {},
   "outputs": [
    {
     "name": "stdout",
     "output_type": "stream",
     "text": [
      "Model Status:  2\n"
     ]
    }
   ],
   "source": [
    "# The status of the model (Optimization Status Codes)\n",
    "print(\"Model Status: \", question_2_model.status)"
   ]
  },
  {
   "cell_type": "code",
   "execution_count": 89,
   "metadata": {},
   "outputs": [
    {
     "name": "stdout",
     "output_type": "stream",
     "text": [
      "Number of Decision Variables:  10\n"
     ]
    }
   ],
   "source": [
    "# Number of variables in the model\n",
    "print(\"Number of Decision Variables: \", question_2_model.numVars)"
   ]
  },
  {
   "cell_type": "code",
   "execution_count": 90,
   "metadata": {},
   "outputs": [
    {
     "name": "stdout",
     "output_type": "stream",
     "text": [
      "Total Amount of Money:  327095.27\n"
     ]
    }
   ],
   "source": [
    "# Value of the objective function\n",
    "print(\"Total Amount of Money: \", round(question_2_model.objVal, 2))"
   ]
  },
  {
   "cell_type": "code",
   "execution_count": 91,
   "metadata": {},
   "outputs": [
    {
     "name": "stdout",
     "output_type": "stream",
     "text": [
      "\n",
      "    Variable            X \n",
      "-------------------------\n",
      "   Borrow[0]         5000 \n",
      "   Borrow[3]      80945.9 \n",
      "   Borrow[4]      54054.1 \n",
      "   Wealth[0]        25000 \n",
      "   Wealth[1]        20000 \n",
      "   Wealth[2]        35000 \n",
      "   Wealth[3]       327095 \n",
      "None\n"
     ]
    }
   ],
   "source": [
    "# Print the decision variables\n",
    "print(question_2_model.printAttr('X'))"
   ]
  },
  {
   "cell_type": "markdown",
   "metadata": {},
   "source": [
    "a) The answer is 6"
   ]
  },
  {
   "cell_type": "markdown",
   "metadata": {},
   "source": [
    "b) June cash balance >= $20,000"
   ]
  },
  {
   "cell_type": "markdown",
   "metadata": {},
   "source": [
    "c) The formula: w[2] / (w[0] + w[1]) <= 0.65 or 65%\n",
    "Written out, July cash balance / (May cash balance + June cash balance) <= 0.65 or 65%\n",
    "\n",
    "To make it linear: 0.65*(w[0] + w[1]) <= w[2]\n",
    "Written out, 0.65*(May cash balance + June cash balance) <= July cash balance"
   ]
  },
  {
   "cell_type": "markdown",
   "metadata": {},
   "source": [
    "d)"
   ]
  },
  {
   "cell_type": "code",
   "execution_count": 92,
   "metadata": {},
   "outputs": [
    {
     "name": "stdout",
     "output_type": "stream",
     "text": [
      "Optimal Borrowing Values:\n",
      "Borrow[0] = 5000.0\n",
      "Borrow[1] = 0.0\n",
      "Borrow[2] = 0.0\n",
      "Borrow[3] = 80945.94594594595\n",
      "Borrow[4] = 54054.05405405405\n",
      "Borrow[5] = 0.0\n",
      "\n",
      "Total Borrowing Amount: 140000.0\n",
      "\n",
      "Total Repayment Amount: 142904.72972972973\n"
     ]
    }
   ],
   "source": [
    "# Get the optimal values of decision variables\n",
    "borrowing_money = question_2_model.getAttr('x', B)\n",
    "\n",
    "# Display the optimal values\n",
    "print(\"Optimal Borrowing Values:\")\n",
    "for i in range(len(borrowing_money)):\n",
    "    print(f\"Borrow[{i}] = {borrowing_money[i]}\")\n",
    "\n",
    "# Calculate the total amount borrowed\n",
    "total_borrowing_amount = borrowing_money[0] + borrowing_money[1] + borrowing_money[2] + borrowing_money[3] + borrowing_money[4] + borrowing_money[5]\n",
    "print(\"\\nTotal Borrowing Amount:\", total_borrowing_amount)\n",
    "total_repay_amount = 1.0275*borrowing_money[0] + 1.0225*borrowing_money[1] + 1.0175*borrowing_money[2] + 1.0225*borrowing_money[3] + 1.0175*borrowing_money[4] + 1.0175*borrowing_money[5]\n",
    "print(\"\\nTotal Repayment Amount:\", total_repay_amount)\n"
   ]
  },
  {
   "cell_type": "markdown",
   "metadata": {},
   "source": [
    "e) Looking above, the answer is $5,000"
   ]
  },
  {
   "cell_type": "markdown",
   "metadata": {},
   "source": [
    "f) $327,095.27"
   ]
  },
  {
   "cell_type": "markdown",
   "metadata": {},
   "source": [
    "g)"
   ]
  },
  {
   "cell_type": "code",
   "execution_count": 93,
   "metadata": {},
   "outputs": [
    {
     "name": "stdout",
     "output_type": "stream",
     "text": [
      "\n",
      "Sensitivity Information for June Cash Flow Constraint -0.02:\n",
      "(LHS, RHS, Slack):  (20000.0, 20000.0, 0.0)\n",
      "Shadow Price:  -0.01758599508599512\n",
      "Range of Feasibility:  (28846.153846153844, -0.0)\n"
     ]
    }
   ],
   "source": [
    "# Print sensitivity information\n",
    "print(\"\")\n",
    "print(f\"Sensitivity Information for June Cash Flow Constraint {June_Cash_Flow_Constraint.pi:.2f}:\")\n",
    "print(\"(LHS, RHS, Slack): \", (question_2_model.getRow(June_Cash_Flow_Constraint).getValue(), June_Cash_Flow_Constraint.RHS, June_Cash_Flow_Constraint.slack))\n",
    "print(\"Shadow Price: \", June_Cash_Flow_Constraint.pi)\n",
    "print(\"Range of Feasibility: \", (June_Cash_Flow_Constraint.SARHSUp, June_Cash_Flow_Constraint.SARHSLow))\n"
   ]
  },
  {
   "cell_type": "code",
   "execution_count": 94,
   "metadata": {},
   "outputs": [
    {
     "name": "stdout",
     "output_type": "stream",
     "text": [
      "Optimal Amount Sold:\n",
      "1 = (5000.0, 0.0, 0.0050000000000001155, -2.4570024569836973e-05)\n",
      "2 = (0.0, -2.4570024569836973e-05, 2.4570024569836973e-05, -inf)\n",
      "3 = (0.0, -0.012893749999999957, 0.012893749999999957, -inf)\n",
      "4 = (80945.94594594595, 0.0, 2.444987775042457e-05, -0.0050000000000001155)\n",
      "5 = (54054.05405405405, 0.0, 0.012806250000000146, -2.444987775042457e-05)\n",
      "6 = (0.0, -0.012585995085995227, 0.012585995085995227, -inf)\n"
     ]
    }
   ],
   "source": [
    "# Check if the optimization was successful\n",
    "if question_2_model.status == gb.GRB.OPTIMAL:\n",
    "    # Print the sensitivity analysis for the amount sold\n",
    "    print(\"Optimal Amount Sold:\")\n",
    "    print(f\"{'1'} = {B[0].x, B[0].RC, B[0].SAObjUp, B[0].SAObjLow}\")\n",
    "    print(f\"{'2'} = {B[1].x, B[1].RC, B[1].SAObjUp, B[1].SAObjLow}\")\n",
    "    print(f\"{'3'} = {B[2].x, B[2].RC, B[2].SAObjUp, B[2].SAObjLow}\")\n",
    "    print(f\"{'4'} = {B[3].x, B[3].RC, B[3].SAObjUp, B[3].SAObjLow}\")\n",
    "    print(f\"{'5'} = {B[4].x, B[4].RC, B[4].SAObjUp, B[4].SAObjLow}\")\n",
    "    print(f\"{'6'} = {B[5].x, B[5].RC, B[5].SAObjUp, B[5].SAObjLow}\")\n",
    "else:\n",
    "    print(\"Optimization was not successful.\")"
   ]
  },
  {
   "cell_type": "code",
   "execution_count": 95,
   "metadata": {},
   "outputs": [
    {
     "name": "stdout",
     "output_type": "stream",
     "text": [
      "Change in Objective Function Value: -131.8949631449634\n",
      "Additional Money Needed to be Borrowed: 131.8949631449634\n"
     ]
    }
   ],
   "source": [
    "# Change in Objective Function Value\n",
    "change_in_ofv = June_Cash_Flow_Constraint.pi * (27500 - June_Cash_Flow_Constraint.RHS)\n",
    "\n",
    "# Additional money needed to be borrowed\n",
    "additional_borrowing = -change_in_ofv  # Note: Multiply by -1 to make it positive\n",
    "\n",
    "print(\"Change in Objective Function Value:\", change_in_ofv)\n",
    "print(\"Additional Money Needed to be Borrowed:\", additional_borrowing)"
   ]
  },
  {
   "cell_type": "code",
   "execution_count": 96,
   "metadata": {},
   "outputs": [
    {
     "name": "stdout",
     "output_type": "stream",
     "text": [
      "Gurobi Optimizer version 11.0.0 build v11.0.0rc2 (mac64[arm] - Darwin 23.3.0 23D60)\n",
      "\n",
      "CPU model: Apple M2\n",
      "Thread count: 8 physical cores, 8 logical processors, using up to 8 threads\n",
      "\n",
      "Optimize a model with 12 rows, 10 columns and 32 nonzeros\n",
      "Model fingerprint: 0x502c54de\n",
      "Coefficient statistics:\n",
      "  Matrix range     [7e-01, 1e+00]\n",
      "  Objective range  [1e+00, 1e+00]\n",
      "  Bounds range     [0e+00, 0e+00]\n",
      "  RHS range        [2e+04, 4e+05]\n",
      "Presolve removed 5 rows and 0 columns\n",
      "Presolve time: 0.00s\n",
      "Presolved: 7 rows, 10 columns, 27 nonzeros\n",
      "\n",
      "Iteration    Objective       Primal Inf.    Dual Inf.      Time\n",
      "       0    8.0000000e+30   1.000000e+30   8.000000e+00      0s\n",
      "       6    3.2696338e+05   0.000000e+00   0.000000e+00      0s\n",
      "\n",
      "Solved in 6 iterations and 0.00 seconds (0.00 work units)\n",
      "Optimal objective  3.269633753e+05\n",
      "Total Amount of Money:  326963.38\n"
     ]
    }
   ],
   "source": [
    "# Create the optimization model\n",
    "question_2_model2 = gb.Model(\"Question 2: Sunnyshore Bay\")\n",
    "\n",
    "# Create the three classes of decision variables where each Python\n",
    "# variable represents a different number of Gurobi decision variables\n",
    "B = question_2_model2.addVars(6, lb=0, vtype=GRB.CONTINUOUS, name=\"Borrow\")\n",
    "w = question_2_model2.addVars(4, lb=0, vtype=GRB.CONTINUOUS, name=\"Wealth\")\n",
    "\n",
    "# The objective function\n",
    "question_2_model2.setObjective(w[3], GRB.MAXIMIZE)\n",
    "\n",
    "# Add the balance constraints\n",
    "question_2_model2.addConstr(w[0] == 140000 + 180000 - 300000 + B[0] + B[1] + B[2], \"May Balance Constraint\")\n",
    "question_2_model2.addConstr(w[1] == w[0] + 260000 - 400000 + B[3] + B[4] - 1.0175*B[2], \"June Balance Constraint\")\n",
    "question_2_model2.addConstr(w[2] == w[1] + 420000 - 350000 + B[5] - 1.0225*B[1] - 1.0175*B[4], \"July Balance Constraint\")\n",
    "question_2_model2.addConstr(w[3] == w[2] + 580000 - 200000 - 1.0275*B[0] - 1.0225*B[3] - 1.0175*B[5], \"August Balance Constraint\")\n",
    "\n",
    "# Add the cash flow constraints\n",
    "May_Cash_Flow_Constraint = question_2_model2.addConstr(w[0] >= 25000, \"May Cash Flow Constraint\")\n",
    "June_Cash_Flow_Constraint = question_2_model2.addConstr(w[1] >= 27500, \"June Cash Flow Constraint\")\n",
    "July_Cash_Flow_Constraint = question_2_model2.addConstr(w[2] >= 35000, \"July Cash Flow Constraint\")\n",
    "August_Cash_Flow_Constraint = question_2_model2.addConstr(w[3] >= 18000, \"August Cash Flow Constraint\")\n",
    "\n",
    "# Add the borrowing constraints\n",
    "question_2_model2.addConstr((B[0] + B[1] + B[2]) <= 250000, \"May Borrowing Constraint\")\n",
    "question_2_model2.addConstr((B[3] + B[4]) <= 150000, \"June Borrowing Constraint\")\n",
    "question_2_model2.addConstr(B[5] <= 350000, \"July Borrowing Constraint\")\n",
    "\n",
    "# Ratio constraint\n",
    "question_2_model2.addConstr((0.65*(w[0] + w[1])) <= w[2], name=\"Ratio constraint\")\n",
    "\n",
    "# Optimally solve the problem\n",
    "question_2_model2.optimize()\n",
    "\n",
    "# Value of the objective function\n",
    "print(\"Total Amount of Money: \", round(question_2_model2.objVal, 2))\n"
   ]
  },
  {
   "cell_type": "code",
   "execution_count": 97,
   "metadata": {},
   "outputs": [
    {
     "name": "stdout",
     "output_type": "stream",
     "text": [
      "Optimal Borrowing Values:\n",
      "Borrow[0] = 5000.0\n",
      "Borrow[1] = 0.0\n",
      "Borrow[2] = 0.0\n",
      "Borrow[3] = 81074.93857493858\n",
      "Borrow[4] = 61425.06142506142\n",
      "Borrow[5] = 0.0\n",
      "\n",
      "Total Borrowing Amount: 147500.0\n",
      "\n",
      "Total Repayment Amount: 150536.6246928747\n"
     ]
    }
   ],
   "source": [
    "# Get the optimal values of decision variables\n",
    "borrowing_money = question_2_model2.getAttr('x', B)\n",
    "\n",
    "# Display the optimal values\n",
    "print(\"Optimal Borrowing Values:\")\n",
    "for i in range(len(borrowing_money)):\n",
    "    print(f\"Borrow[{i}] = {borrowing_money[i]}\")\n",
    "\n",
    "# Calculate the total amount borrowed\n",
    "total_borrowing_amount = borrowing_money[0] + borrowing_money[1] + borrowing_money[2] + borrowing_money[3] + borrowing_money[4] + borrowing_money[5]\n",
    "print(\"\\nTotal Borrowing Amount:\", total_borrowing_amount)\n",
    "total_repay_amount = 1.0275*borrowing_money[0] + 1.0225*borrowing_money[1] + 1.0175*borrowing_money[2] + 1.0225*borrowing_money[3] + 1.0175*borrowing_money[4] + 1.0175*borrowing_money[5]\n",
    "print(\"\\nTotal Repayment Amount:\", total_repay_amount)"
   ]
  },
  {
   "cell_type": "markdown",
   "metadata": {},
   "source": [
    "h)"
   ]
  },
  {
   "cell_type": "code",
   "execution_count": 98,
   "metadata": {},
   "outputs": [
    {
     "name": "stdout",
     "output_type": "stream",
     "text": [
      "Gurobi Optimizer version 11.0.0 build v11.0.0rc2 (mac64[arm] - Darwin 23.3.0 23D60)\n",
      "\n",
      "CPU model: Apple M2\n",
      "Thread count: 8 physical cores, 8 logical processors, using up to 8 threads\n",
      "\n",
      "Optimize a model with 12 rows, 12 columns and 12 nonzeros\n",
      "Model fingerprint: 0xc51e8bfc\n",
      "Coefficient statistics:\n",
      "  Matrix range     [1e+00, 1e+00]\n",
      "  Objective range  [7e-01, 4e+05]\n",
      "  Bounds range     [0e+00, 0e+00]\n",
      "  RHS range        [7e-01, 1e+00]\n",
      "Presolve removed 12 rows and 12 columns\n",
      "Presolve time: 0.00s\n",
      "Presolve: All rows and columns removed\n",
      "Iteration    Objective       Primal Inf.    Dual Inf.      Time\n",
      "       0    1.3113750e+00   0.000000e+00   0.000000e+00      0s\n",
      "\n",
      "Solved in 0 iterations and 0.00 seconds (0.00 work units)\n",
      "Optimal objective  1.311375000e+00\n",
      "Dual Model Status:  2\n",
      "Number of Dual Variables:  12\n",
      "Dual Objective Value:  1.31\n",
      "\n",
      "    Variable            X \n",
      "-------------------------\n",
      "May_Balance_Dual            1 \n",
      "June_Balance_Dual       1.0175 \n",
      "July_Balance_Dual       1.0225 \n",
      "August_Balance_Dual       1.0275 \n",
      "Ratio_Constraint_Dual         0.65 \n",
      "None\n"
     ]
    }
   ],
   "source": [
    "# Create the optimization model for the dual problem\n",
    "dual_model = gb.Model(\"Dual of Question 2: Sunnyshore Bay\")\n",
    "\n",
    "# Create dual variables for each constraint in the primal model\n",
    "y_may_balance = dual_model.addVar(lb=0, vtype=GRB.CONTINUOUS, name=\"May_Balance_Dual\")\n",
    "y_june_balance = dual_model.addVar(lb=0, vtype=GRB.CONTINUOUS, name=\"June_Balance_Dual\")\n",
    "y_july_balance = dual_model.addVar(lb=0, vtype=GRB.CONTINUOUS, name=\"July_Balance_Dual\")\n",
    "y_august_balance = dual_model.addVar(lb=0, vtype=GRB.CONTINUOUS, name=\"August_Balance_Dual\")\n",
    "y_may_cash_flow = dual_model.addVar(lb=0, vtype=GRB.CONTINUOUS, name=\"May_Cash_Flow_Dual\")\n",
    "y_june_cash_flow = dual_model.addVar(lb=0, vtype=GRB.CONTINUOUS, name=\"June_Cash_Flow_Dual\")\n",
    "y_july_cash_flow = dual_model.addVar(lb=0, vtype=GRB.CONTINUOUS, name=\"July_Cash_Flow_Dual\")\n",
    "y_august_cash_flow = dual_model.addVar(lb=0, vtype=GRB.CONTINUOUS, name=\"August_Cash_Flow_Dual\")\n",
    "y_may_borrowing = dual_model.addVar(lb=0, vtype=GRB.CONTINUOUS, name=\"May_Borrowing_Dual\")\n",
    "y_june_borrowing = dual_model.addVar(lb=0, vtype=GRB.CONTINUOUS, name=\"June_Borrowing_Dual\")\n",
    "y_july_borrowing = dual_model.addVar(lb=0, vtype=GRB.CONTINUOUS, name=\"July_Borrowing_Dual\")\n",
    "y_ratio_constraint = dual_model.addVar(lb=0, vtype=GRB.CONTINUOUS, name=\"Ratio_Constraint_Dual\")\n",
    "\n",
    "# Set the objective function for the dual problem (minimize)\n",
    "dual_model.setObjective(25000*y_may_cash_flow + 20000*y_june_cash_flow + 35000*y_july_cash_flow + 18000*y_august_cash_flow\n",
    "                        + 250000*y_may_borrowing + 150000*y_june_borrowing + 350000*y_july_borrowing\n",
    "                        + (0.65 * (y_may_balance + y_june_balance)), GRB.MINIMIZE)\n",
    "\n",
    "# Add dual constraints for each primal variable\n",
    "dual_model.addConstr(y_may_balance >= 1, \"May_Balance_Dual_Constraint\")\n",
    "dual_model.addConstr(y_june_balance >= 1.0175, \"June_Balance_Dual_Constraint\")\n",
    "dual_model.addConstr(y_july_balance >= 1.0225, \"July_Balance_Dual_Constraint\")\n",
    "dual_model.addConstr(y_august_balance >= 1.0275, \"August_Balance_Dual_Constraint\")\n",
    "\n",
    "dual_model.addConstr(y_may_cash_flow >= 0, \"May_Cash_Flow_Dual_Constraint\")\n",
    "dual_model.addConstr(y_june_cash_flow >= 0, \"June_Cash_Flow_Dual_Constraint\")\n",
    "dual_model.addConstr(y_july_cash_flow >= 0, \"July_Cash_Flow_Dual_Constraint\")\n",
    "dual_model.addConstr(y_august_cash_flow >= 0, \"August_Cash_Flow_Dual_Constraint\")\n",
    "\n",
    "dual_model.addConstr(y_may_borrowing >= 0, \"May_Borrowing_Dual_Constraint\")\n",
    "dual_model.addConstr(y_june_borrowing >= 0, \"June_Borrowing_Dual_Constraint\")\n",
    "dual_model.addConstr(y_july_borrowing >= 0, \"July_Borrowing_Dual_Constraint\")\n",
    "\n",
    "dual_model.addConstr(y_ratio_constraint >= 0.65, \"Ratio_Constraint_Dual_Constraint\")\n",
    "\n",
    "# Optimally solve the dual problem\n",
    "dual_model.optimize()\n",
    "\n",
    "# The status of the model (Optimization Status Codes)\n",
    "print(\"Dual Model Status: \", dual_model.status)\n",
    "\n",
    "# Number of variables in the model\n",
    "print(\"Number of Dual Variables: \", dual_model.numVars)\n",
    "\n",
    "# Value of the objective function\n",
    "print(\"Dual Objective Value: \", round(dual_model.objVal, 2))\n",
    "\n",
    "# Print the dual variables\n",
    "print(dual_model.printAttr('X'))"
   ]
  },
  {
   "cell_type": "code",
   "execution_count": 99,
   "metadata": {},
   "outputs": [
    {
     "name": "stdout",
     "output_type": "stream",
     "text": [
      "Gurobi Optimizer version 11.0.0 build v11.0.0rc2 (mac64[arm] - Darwin 23.3.0 23D60)\n",
      "\n",
      "CPU model: Apple M2\n",
      "Thread count: 8 physical cores, 8 logical processors, using up to 8 threads\n",
      "\n",
      "Optimize a model with 12 rows, 12 columns and 12 nonzeros\n",
      "Model fingerprint: 0x1e460044\n",
      "Coefficient statistics:\n",
      "  Matrix range     [1e+00, 1e+00]\n",
      "  Objective range  [7e-01, 6e+05]\n",
      "  Bounds range     [0e+00, 0e+00]\n",
      "  RHS range        [7e-01, 1e+00]\n",
      "Presolve removed 12 rows and 12 columns\n",
      "Presolve time: 0.00s\n",
      "Presolve: All rows and columns removed\n",
      "Iteration    Objective       Primal Inf.    Dual Inf.      Time\n",
      "       0    1.4299504e+06   0.000000e+00   0.000000e+00      0s\n",
      "\n",
      "Solved in 0 iterations and 0.00 seconds (0.00 work units)\n",
      "Optimal objective  1.429950423e+06\n",
      "Dual Model Status:  2\n",
      "Number of Dual Variables:  12\n",
      "Dual Objective Value:  1429950.42\n"
     ]
    }
   ],
   "source": [
    "# Create the optimization model for the dual problem\n",
    "dual_model = gb.Model(\"Dual of Question 2: Sunnyshore Bay\")\n",
    "\n",
    "# Create dual variables for each constraint in the primal model\n",
    "y_may_balance = dual_model.addVar(lb=0, vtype=GRB.CONTINUOUS, name=\"May_Balance_Dual\")\n",
    "y_june_balance = dual_model.addVar(lb=0, vtype=GRB.CONTINUOUS, name=\"June_Balance_Dual\")\n",
    "y_july_balance = dual_model.addVar(lb=0, vtype=GRB.CONTINUOUS, name=\"July_Balance_Dual\")\n",
    "y_august_balance = dual_model.addVar(lb=0, vtype=GRB.CONTINUOUS, name=\"August_Balance_Dual\")\n",
    "y_may_cash_flow = dual_model.addVar(lb=0, vtype=GRB.CONTINUOUS, name=\"May_Cash_Flow_Dual\")\n",
    "y_june_cash_flow = dual_model.addVar(lb=0, vtype=GRB.CONTINUOUS, name=\"June_Cash_Flow_Dual\")\n",
    "y_july_cash_flow = dual_model.addVar(lb=0, vtype=GRB.CONTINUOUS, name=\"July_Cash_Flow_Dual\")\n",
    "y_august_cash_flow = dual_model.addVar(lb=0, vtype=GRB.CONTINUOUS, name=\"August_Cash_Flow_Dual\")\n",
    "y_may_borrowing = dual_model.addVar(lb=0, vtype=GRB.CONTINUOUS, name=\"May_Borrowing_Dual\")\n",
    "y_june_borrowing = dual_model.addVar(lb=0, vtype=GRB.CONTINUOUS, name=\"June_Borrowing_Dual\")\n",
    "y_july_borrowing = dual_model.addVar(lb=0, vtype=GRB.CONTINUOUS, name=\"July_Borrowing_Dual\")\n",
    "y_ratio_constraint = dual_model.addVar(lb=0, vtype=GRB.CONTINUOUS, name=\"Ratio_Constraint_Dual\")\n",
    "\n",
    "# Set the objective function for the dual problem (minimize)\n",
    "dual_model.setObjective(\n",
    "    140000*y_may_balance + 260000*y_june_balance + 420000*y_july_balance + 580000*y_august_balance\n",
    "    + 25000*y_may_cash_flow + 20000*y_june_cash_flow + 35000*y_july_cash_flow + 18000*y_august_cash_flow\n",
    "    + 250000*y_may_borrowing + 150000*y_june_borrowing + 350000*y_july_borrowing\n",
    "    + 0.65*y_ratio_constraint, GRB.MINIMIZE\n",
    ")\n",
    "\n",
    "# Add dual constraints for each primal variable\n",
    "dual_model.addConstr(y_may_balance >= 1, \"May_Balance_Dual_Constraint\")\n",
    "dual_model.addConstr(y_june_balance >= 1.0175, \"June_Balance_Dual_Constraint\")\n",
    "dual_model.addConstr(y_july_balance >= 1.0225, \"July_Balance_Dual_Constraint\")\n",
    "dual_model.addConstr(y_august_balance >= 1.0275, \"August_Balance_Dual_Constraint\")\n",
    "\n",
    "dual_model.addConstr(y_may_cash_flow >= 0, \"May_Cash_Flow_Dual_Constraint\")\n",
    "dual_model.addConstr(y_june_cash_flow >= 0, \"June_Cash_Flow_Dual_Constraint\")\n",
    "dual_model.addConstr(y_july_cash_flow >= 0, \"July_Cash_Flow_Dual_Constraint\")\n",
    "dual_model.addConstr(y_august_cash_flow >= 0, \"August_Cash_Flow_Dual_Constraint\")\n",
    "\n",
    "dual_model.addConstr(y_may_borrowing >= 0, \"May_Borrowing_Dual_Constraint\")\n",
    "dual_model.addConstr(y_june_borrowing >= 0, \"June_Borrowing_Dual_Constraint\")\n",
    "dual_model.addConstr(y_july_borrowing >= 0, \"July_Borrowing_Dual_Constraint\")\n",
    "\n",
    "dual_model.addConstr(y_ratio_constraint >= 0.65, \"Ratio_Constraint_Dual_Constraint\")\n",
    "\n",
    "# Optimally solve the dual problem\n",
    "dual_model.optimize()\n",
    "\n",
    "# The status of the model (Optimization Status Codes)\n",
    "print(\"Dual Model Status: \", dual_model.status)\n",
    "\n",
    "# Number of variables in the model\n",
    "print(\"Number of Dual Variables: \", dual_model.numVars)\n",
    "\n",
    "# Value of the objective function\n",
    "print(\"Dual Objective Value: \", round(dual_model.objVal, 2))\n",
    "\n",
    "# Print the dual variables"
   ]
  },
  {
   "cell_type": "code",
   "execution_count": null,
   "metadata": {},
   "outputs": [],
   "source": []
  }
 ],
 "metadata": {
  "kernelspec": {
   "display_name": "Python 3",
   "language": "python",
   "name": "python3"
  },
  "language_info": {
   "codemirror_mode": {
    "name": "ipython",
    "version": 3
   },
   "file_extension": ".py",
   "mimetype": "text/x-python",
   "name": "python",
   "nbconvert_exporter": "python",
   "pygments_lexer": "ipython3",
   "version": "3.12.1"
  }
 },
 "nbformat": 4,
 "nbformat_minor": 2
}
