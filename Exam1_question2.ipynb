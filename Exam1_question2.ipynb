{
 "cells": [
  {
   "cell_type": "code",
   "execution_count": 136,
   "metadata": {},
   "outputs": [],
   "source": [
    "from gurobipy import GRB\n",
    "import gurobipy as gb\n",
    "import pandas as pd\n",
    "import numpy as np"
   ]
  },
  {
   "cell_type": "code",
   "execution_count": 137,
   "metadata": {},
   "outputs": [],
   "source": [
    "# Create the optimization model\n",
    "model = gb.Model(\"Question 2: S&P500\")"
   ]
  },
  {
   "cell_type": "code",
   "execution_count": 138,
   "metadata": {},
   "outputs": [],
   "source": [
    "investment_df = pd.read_csv(r\"C:\\Users\\gabri\\Downloads\\sp500_data.csv\")"
   ]
  },
  {
   "cell_type": "code",
   "execution_count": 139,
   "metadata": {},
   "outputs": [
    {
     "data": {
      "text/html": [
       "<div>\n",
       "<style scoped>\n",
       "    .dataframe tbody tr th:only-of-type {\n",
       "        vertical-align: middle;\n",
       "    }\n",
       "\n",
       "    .dataframe tbody tr th {\n",
       "        vertical-align: top;\n",
       "    }\n",
       "\n",
       "    .dataframe thead th {\n",
       "        text-align: right;\n",
       "    }\n",
       "</style>\n",
       "<table border=\"1\" class=\"dataframe\">\n",
       "  <thead>\n",
       "    <tr style=\"text-align: right;\">\n",
       "      <th></th>\n",
       "      <th>Ticker symbol</th>\n",
       "      <th>Company</th>\n",
       "      <th>GICS Sector</th>\n",
       "      <th>Location of Headquarters</th>\n",
       "      <th>Price</th>\n",
       "      <th>PercentReturn</th>\n",
       "    </tr>\n",
       "  </thead>\n",
       "  <tbody>\n",
       "    <tr>\n",
       "      <th>0</th>\n",
       "      <td>AEE</td>\n",
       "      <td>Ameren Corp</td>\n",
       "      <td>Utilities</td>\n",
       "      <td>St. Louis, Missouri</td>\n",
       "      <td>31.26</td>\n",
       "      <td>4.83</td>\n",
       "    </tr>\n",
       "    <tr>\n",
       "      <th>1</th>\n",
       "      <td>AXP</td>\n",
       "      <td>American Express Co</td>\n",
       "      <td>Financials</td>\n",
       "      <td>New York, New York</td>\n",
       "      <td>49.23</td>\n",
       "      <td>1.53</td>\n",
       "    </tr>\n",
       "    <tr>\n",
       "      <th>2</th>\n",
       "      <td>T</td>\n",
       "      <td>AT&amp;T Inc</td>\n",
       "      <td>Telecommunications Services</td>\n",
       "      <td>Dallas, Texas</td>\n",
       "      <td>30.09</td>\n",
       "      <td>5.82</td>\n",
       "    </tr>\n",
       "    <tr>\n",
       "      <th>3</th>\n",
       "      <td>AVP</td>\n",
       "      <td>Avon Products</td>\n",
       "      <td>Consumer Staples</td>\n",
       "      <td>New York, New York</td>\n",
       "      <td>18.31</td>\n",
       "      <td>5.26</td>\n",
       "    </tr>\n",
       "    <tr>\n",
       "      <th>4</th>\n",
       "      <td>BFB</td>\n",
       "      <td>Brown-Forman Corporation</td>\n",
       "      <td>Consumer Staples</td>\n",
       "      <td>Louisville, Kentucky</td>\n",
       "      <td>82.28</td>\n",
       "      <td>1.74</td>\n",
       "    </tr>\n",
       "  </tbody>\n",
       "</table>\n",
       "</div>"
      ],
      "text/plain": [
       "  Ticker symbol                   Company                  GICS Sector   \n",
       "0           AEE               Ameren Corp                    Utilities  \\\n",
       "1           AXP       American Express Co                   Financials   \n",
       "2             T                  AT&T Inc  Telecommunications Services   \n",
       "3           AVP             Avon Products             Consumer Staples   \n",
       "4           BFB  Brown-Forman Corporation             Consumer Staples   \n",
       "\n",
       "  Location of Headquarters  Price  PercentReturn  \n",
       "0      St. Louis, Missouri  31.26           4.83  \n",
       "1       New York, New York  49.23           1.53  \n",
       "2            Dallas, Texas  30.09           5.82  \n",
       "3       New York, New York  18.31           5.26  \n",
       "4     Louisville, Kentucky  82.28           1.74  "
      ]
     },
     "execution_count": 139,
     "metadata": {},
     "output_type": "execute_result"
    }
   ],
   "source": [
    "investment_df.head()"
   ]
  },
  {
   "cell_type": "code",
   "execution_count": 140,
   "metadata": {},
   "outputs": [
    {
     "name": "stdout",
     "output_type": "stream",
     "text": [
      "<class 'pandas.core.frame.DataFrame'>\n",
      "RangeIndex: 67 entries, 0 to 66\n",
      "Data columns (total 6 columns):\n",
      " #   Column                    Non-Null Count  Dtype  \n",
      "---  ------                    --------------  -----  \n",
      " 0   Ticker symbol             67 non-null     object \n",
      " 1   Company                   67 non-null     object \n",
      " 2   GICS Sector               67 non-null     object \n",
      " 3   Location of Headquarters  67 non-null     object \n",
      " 4   Price                     67 non-null     float64\n",
      " 5   PercentReturn             67 non-null     float64\n",
      "dtypes: float64(2), object(4)\n",
      "memory usage: 3.3+ KB\n"
     ]
    }
   ],
   "source": [
    "investment_df.info()"
   ]
  },
  {
   "cell_type": "code",
   "execution_count": 141,
   "metadata": {},
   "outputs": [
    {
     "data": {
      "text/plain": [
       "Index(['Ticker symbol', 'Company', 'GICS Sector', 'Location of Headquarters',\n",
       "       'Price', 'PercentReturn'],\n",
       "      dtype='object')"
      ]
     },
     "execution_count": 141,
     "metadata": {},
     "output_type": "execute_result"
    }
   ],
   "source": [
    "investment_df.columns"
   ]
  },
  {
   "cell_type": "code",
   "execution_count": 142,
   "metadata": {},
   "outputs": [],
   "source": [
    "rate_of_return = investment_df['PercentReturn'].values"
   ]
  },
  {
   "cell_type": "code",
   "execution_count": 143,
   "metadata": {},
   "outputs": [
    {
     "data": {
      "text/plain": [
       "array([ 4.83,  1.53,  5.82,  5.26,  1.74,  1.89,  4.22,  3.49,  1.47,\n",
       "        2.69,  2.02,  3.62,  2.14,  0.9 ,  1.67,  3.71,  7.21,  2.17,\n",
       "        4.32,  4.55,  0.15,  2.22,  1.86, 14.56,  2.39,  3.79,  1.29,\n",
       "        4.63,  3.55,  1.86,  2.44,  3.48,  3.01,  1.56,  4.68,  3.67,\n",
       "        0.16,  2.79,  1.03,  4.46,  3.8 ,  3.08,  2.33,  2.58,  0.94,\n",
       "        4.9 ,  5.32,  3.1 ,  1.4 ,  4.42,  4.36,  4.59,  3.15,  0.27,\n",
       "        1.57,  2.88,  1.48,  4.49,  2.23,  2.77,  1.75,  2.84,  0.76,\n",
       "        2.63,  4.99,  2.44,  4.21])"
      ]
     },
     "execution_count": 143,
     "metadata": {},
     "output_type": "execute_result"
    }
   ],
   "source": [
    "rate_of_return"
   ]
  },
  {
   "cell_type": "code",
   "execution_count": 144,
   "metadata": {},
   "outputs": [],
   "source": [
    "x = model.addVars(67, lb=0, vtype=GRB.CONTINUOUS, name=\"Money Invested\")"
   ]
  },
  {
   "cell_type": "code",
   "execution_count": 145,
   "metadata": {},
   "outputs": [],
   "source": [
    "# Define the objective function\n",
    "objective = gb.quicksum((rate_of_return[i] / 100) * x[i] for i in range(67))\n",
    "\n",
    "# Set the objective function in the model\n",
    "model.setObjective(objective, GRB.MAXIMIZE)"
   ]
  },
  {
   "cell_type": "code",
   "execution_count": 146,
   "metadata": {},
   "outputs": [],
   "source": [
    "money_invested = 10000000"
   ]
  },
  {
   "cell_type": "code",
   "execution_count": 147,
   "metadata": {},
   "outputs": [],
   "source": [
    "total_invested = model.addConstr(gb.quicksum(x[j] for j in range(67)) == money_invested, name=\"Investment constraint\")"
   ]
  },
  {
   "cell_type": "code",
   "execution_count": 148,
   "metadata": {},
   "outputs": [],
   "source": [
    "for j in range(67):\n",
    "    model.addConstr(x[j] <= 600000, f\"Diversification Constraint_{j}\")"
   ]
  },
  {
   "cell_type": "code",
   "execution_count": 149,
   "metadata": {},
   "outputs": [
    {
     "data": {
      "text/plain": [
       "array(['Utilities', 'Financials', 'Telecommunications Services',\n",
       "       'Consumer Staples', 'Industrials', 'Consumer Discretionary',\n",
       "       'Energy', 'Information Technology', 'Health Care', 'Materials'],\n",
       "      dtype=object)"
      ]
     },
     "execution_count": 149,
     "metadata": {},
     "output_type": "execute_result"
    }
   ],
   "source": [
    "investment_df['GICS Sector'].unique()"
   ]
  },
  {
   "cell_type": "code",
   "execution_count": 150,
   "metadata": {},
   "outputs": [
    {
     "data": {
      "text/plain": [
       "array(['Utilities', 'Financials', 'Telecommunications Services',\n",
       "       'Consumer Staples', 'Consumer Staples', 'Industrials',\n",
       "       'Consumer Discretionary', 'Consumer Staples',\n",
       "       'Consumer Discretionary', 'Consumer Staples', 'Consumer Staples',\n",
       "       'Energy', 'Industrials', 'Energy', 'Financials', 'Utilities',\n",
       "       'Industrials', 'Industrials', 'Utilities', 'Utilities', 'Energy',\n",
       "       'Energy', 'Consumer Discretionary', 'Telecommunications Services',\n",
       "       'Consumer Discretionary', 'Industrials', 'Consumer Discretionary',\n",
       "       'Financials', 'Consumer Staples', 'Information Technology',\n",
       "       'Financials', 'Health Care', 'Financials', 'Financials',\n",
       "       'Financials', 'Financials', 'Information Technology',\n",
       "       'Consumer Discretionary', 'Health Care', 'Health Care',\n",
       "       'Information Technology', 'Information Technology', 'Materials',\n",
       "       'Utilities', 'Information Technology', 'Financials', 'Utilities',\n",
       "       'Consumer Staples', 'Health Care', 'Utilities', 'Utilities',\n",
       "       'Financials', 'Consumer Staples', 'Utilities',\n",
       "       'Information Technology', 'Consumer Discretionary',\n",
       "       'Consumer Discretionary', 'Utilities', 'Consumer Staples',\n",
       "       'Financials', 'Consumer Discretionary', 'Industrials', 'Materials',\n",
       "       'Industrials', 'Telecommunications Services', 'Consumer Staples',\n",
       "       'Consumer Discretionary'], dtype=object)"
      ]
     },
     "execution_count": 150,
     "metadata": {},
     "output_type": "execute_result"
    }
   ],
   "source": [
    "sectors = investment_df['GICS Sector'].values\n",
    "sectors"
   ]
  },
  {
   "cell_type": "code",
   "execution_count": 151,
   "metadata": {},
   "outputs": [],
   "source": [
    "telecommunications_indices = []\n",
    "for tele in sectors:\n",
    "    if tele in ['Telecommunications Services']:\n",
    "        telecommunications_indices.append(1)\n",
    "    else:\n",
    "        telecommunications_indices.append(0)"
   ]
  },
  {
   "cell_type": "code",
   "execution_count": 152,
   "metadata": {},
   "outputs": [
    {
     "data": {
      "text/plain": [
       "[0,\n",
       " 0,\n",
       " 1,\n",
       " 0,\n",
       " 0,\n",
       " 0,\n",
       " 0,\n",
       " 0,\n",
       " 0,\n",
       " 0,\n",
       " 0,\n",
       " 0,\n",
       " 0,\n",
       " 0,\n",
       " 0,\n",
       " 0,\n",
       " 0,\n",
       " 0,\n",
       " 0,\n",
       " 0,\n",
       " 0,\n",
       " 0,\n",
       " 0,\n",
       " 1,\n",
       " 0,\n",
       " 0,\n",
       " 0,\n",
       " 0,\n",
       " 0,\n",
       " 0,\n",
       " 0,\n",
       " 0,\n",
       " 0,\n",
       " 0,\n",
       " 0,\n",
       " 0,\n",
       " 0,\n",
       " 0,\n",
       " 0,\n",
       " 0,\n",
       " 0,\n",
       " 0,\n",
       " 0,\n",
       " 0,\n",
       " 0,\n",
       " 0,\n",
       " 0,\n",
       " 0,\n",
       " 0,\n",
       " 0,\n",
       " 0,\n",
       " 0,\n",
       " 0,\n",
       " 0,\n",
       " 0,\n",
       " 0,\n",
       " 0,\n",
       " 0,\n",
       " 0,\n",
       " 0,\n",
       " 0,\n",
       " 0,\n",
       " 0,\n",
       " 0,\n",
       " 1,\n",
       " 0,\n",
       " 0]"
      ]
     },
     "execution_count": 152,
     "metadata": {},
     "output_type": "execute_result"
    }
   ],
   "source": [
    "telecommunications_indices"
   ]
  },
  {
   "cell_type": "code",
   "execution_count": 153,
   "metadata": {},
   "outputs": [
    {
     "data": {
      "text/plain": [
       "<gurobi.Constr *Awaiting Model Update*>"
      ]
     },
     "execution_count": 153,
     "metadata": {},
     "output_type": "execute_result"
    }
   ],
   "source": [
    "model.addConstr((gb.quicksum(telecommunications_indices[i]*x[i] for i in range(67))) <= 500000, \"Telecommunications Constraint\")"
   ]
  },
  {
   "cell_type": "code",
   "execution_count": 154,
   "metadata": {},
   "outputs": [],
   "source": [
    "IT_indices = []\n",
    "for job in sectors:\n",
    "    if job in ['Information Technology']:\n",
    "        IT_indices.append(1)\n",
    "    else:\n",
    "        IT_indices.append(0)"
   ]
  },
  {
   "cell_type": "code",
   "execution_count": 155,
   "metadata": {},
   "outputs": [
    {
     "data": {
      "text/plain": [
       "[0,\n",
       " 0,\n",
       " 0,\n",
       " 0,\n",
       " 0,\n",
       " 0,\n",
       " 0,\n",
       " 0,\n",
       " 0,\n",
       " 0,\n",
       " 0,\n",
       " 0,\n",
       " 0,\n",
       " 0,\n",
       " 0,\n",
       " 0,\n",
       " 0,\n",
       " 0,\n",
       " 0,\n",
       " 0,\n",
       " 0,\n",
       " 0,\n",
       " 0,\n",
       " 0,\n",
       " 0,\n",
       " 0,\n",
       " 0,\n",
       " 0,\n",
       " 0,\n",
       " 1,\n",
       " 0,\n",
       " 0,\n",
       " 0,\n",
       " 0,\n",
       " 0,\n",
       " 0,\n",
       " 1,\n",
       " 0,\n",
       " 0,\n",
       " 0,\n",
       " 1,\n",
       " 1,\n",
       " 0,\n",
       " 0,\n",
       " 1,\n",
       " 0,\n",
       " 0,\n",
       " 0,\n",
       " 0,\n",
       " 0,\n",
       " 0,\n",
       " 0,\n",
       " 0,\n",
       " 0,\n",
       " 1,\n",
       " 0,\n",
       " 0,\n",
       " 0,\n",
       " 0,\n",
       " 0,\n",
       " 0,\n",
       " 0,\n",
       " 0,\n",
       " 0,\n",
       " 0,\n",
       " 0,\n",
       " 0]"
      ]
     },
     "execution_count": 155,
     "metadata": {},
     "output_type": "execute_result"
    }
   ],
   "source": [
    "IT_indices"
   ]
  },
  {
   "cell_type": "code",
   "execution_count": 156,
   "metadata": {},
   "outputs": [
    {
     "data": {
      "text/plain": [
       "<gurobi.Constr *Awaiting Model Update*>"
      ]
     },
     "execution_count": 156,
     "metadata": {},
     "output_type": "execute_result"
    }
   ],
   "source": [
    "model.addConstr((gb.quicksum(IT_indices[i]*x[i] for i in range(67))) >= 0.75*(gb.quicksum(telecommunications_indices[i]*x[i] for i in range(67))), \"IT Constraint\")"
   ]
  },
  {
   "cell_type": "code",
   "execution_count": 157,
   "metadata": {},
   "outputs": [
    {
     "data": {
      "text/plain": [
       "array(['Utilities', 'Financials', 'Telecommunications Services',\n",
       "       'Consumer Staples', 'Industrials', 'Consumer Discretionary',\n",
       "       'Energy', 'Information Technology', 'Health Care', 'Materials'],\n",
       "      dtype=object)"
      ]
     },
     "execution_count": 157,
     "metadata": {},
     "output_type": "execute_result"
    }
   ],
   "source": [
    "investment_df['GICS Sector'].unique()"
   ]
  },
  {
   "cell_type": "code",
   "execution_count": 158,
   "metadata": {},
   "outputs": [
    {
     "data": {
      "text/plain": [
       "[0,\n",
       " 0,\n",
       " 0,\n",
       " 0,\n",
       " 0,\n",
       " 0,\n",
       " 1,\n",
       " 0,\n",
       " 1,\n",
       " 0,\n",
       " 0,\n",
       " 0,\n",
       " 0,\n",
       " 0,\n",
       " 0,\n",
       " 0,\n",
       " 0,\n",
       " 0,\n",
       " 0,\n",
       " 0,\n",
       " 0,\n",
       " 0,\n",
       " 1,\n",
       " 0,\n",
       " 1,\n",
       " 0,\n",
       " 1,\n",
       " 0,\n",
       " 0,\n",
       " 0,\n",
       " 0,\n",
       " 0,\n",
       " 0,\n",
       " 0,\n",
       " 0,\n",
       " 0,\n",
       " 0,\n",
       " 1,\n",
       " 0,\n",
       " 0,\n",
       " 0,\n",
       " 0,\n",
       " 0,\n",
       " 0,\n",
       " 0,\n",
       " 0,\n",
       " 0,\n",
       " 0,\n",
       " 0,\n",
       " 0,\n",
       " 0,\n",
       " 0,\n",
       " 0,\n",
       " 0,\n",
       " 0,\n",
       " 1,\n",
       " 1,\n",
       " 0,\n",
       " 0,\n",
       " 0,\n",
       " 1,\n",
       " 0,\n",
       " 0,\n",
       " 0,\n",
       " 0,\n",
       " 0,\n",
       " 1]"
      ]
     },
     "execution_count": 158,
     "metadata": {},
     "output_type": "execute_result"
    }
   ],
   "source": [
    "CD_indices = []\n",
    "for job in sectors:\n",
    "    if job in ['Consumer Discretionary']:\n",
    "        CD_indices.append(1)\n",
    "    else:\n",
    "        CD_indices.append(0)\n",
    "\n",
    "CD_indices"
   ]
  },
  {
   "cell_type": "code",
   "execution_count": 159,
   "metadata": {},
   "outputs": [
    {
     "data": {
      "text/plain": [
       "[0,\n",
       " 0,\n",
       " 0,\n",
       " 1,\n",
       " 1,\n",
       " 0,\n",
       " 0,\n",
       " 1,\n",
       " 0,\n",
       " 1,\n",
       " 1,\n",
       " 0,\n",
       " 0,\n",
       " 0,\n",
       " 0,\n",
       " 0,\n",
       " 0,\n",
       " 0,\n",
       " 0,\n",
       " 0,\n",
       " 0,\n",
       " 0,\n",
       " 0,\n",
       " 0,\n",
       " 0,\n",
       " 0,\n",
       " 0,\n",
       " 0,\n",
       " 1,\n",
       " 0,\n",
       " 0,\n",
       " 0,\n",
       " 0,\n",
       " 0,\n",
       " 0,\n",
       " 0,\n",
       " 0,\n",
       " 0,\n",
       " 0,\n",
       " 0,\n",
       " 0,\n",
       " 0,\n",
       " 0,\n",
       " 0,\n",
       " 0,\n",
       " 0,\n",
       " 0,\n",
       " 1,\n",
       " 0,\n",
       " 0,\n",
       " 0,\n",
       " 0,\n",
       " 1,\n",
       " 0,\n",
       " 0,\n",
       " 0,\n",
       " 0,\n",
       " 0,\n",
       " 1,\n",
       " 0,\n",
       " 0,\n",
       " 0,\n",
       " 0,\n",
       " 0,\n",
       " 0,\n",
       " 1,\n",
       " 0]"
      ]
     },
     "execution_count": 159,
     "metadata": {},
     "output_type": "execute_result"
    }
   ],
   "source": [
    "CS_indices = []\n",
    "for job in sectors:\n",
    "    if job in ['Consumer Staples']:\n",
    "        CS_indices.append(1)\n",
    "    else:\n",
    "        CS_indices.append(0)\n",
    "\n",
    "CS_indices"
   ]
  },
  {
   "cell_type": "code",
   "execution_count": 160,
   "metadata": {},
   "outputs": [
    {
     "data": {
      "text/plain": [
       "<gurobi.Constr *Awaiting Model Update*>"
      ]
     },
     "execution_count": 160,
     "metadata": {},
     "output_type": "execute_result"
    }
   ],
   "source": [
    "model.addConstr(gb.quicksum(CD_indices[j] * x[j] for j in range(67)) - gb.quicksum(CS_indices[j] * x[j] for j in range(67)) <= 200000, name=\"Absolute Value constraint\")\n",
    "model.addConstr(gb.quicksum(CS_indices[j] * x[j] for j in range(67)) - gb.quicksum(CD_indices[j] * x[j] for j in range(67)) <= 200000, name=\"Absolute Value constraint negative\")"
   ]
  },
  {
   "cell_type": "code",
   "execution_count": 161,
   "metadata": {},
   "outputs": [
    {
     "data": {
      "text/plain": [
       "[0,\n",
       " 0,\n",
       " 0,\n",
       " 0,\n",
       " 0,\n",
       " 0,\n",
       " 0,\n",
       " 0,\n",
       " 0,\n",
       " 0,\n",
       " 0,\n",
       " 1,\n",
       " 0,\n",
       " 1,\n",
       " 0,\n",
       " 0,\n",
       " 0,\n",
       " 0,\n",
       " 0,\n",
       " 0,\n",
       " 1,\n",
       " 1,\n",
       " 0,\n",
       " 0,\n",
       " 0,\n",
       " 0,\n",
       " 0,\n",
       " 0,\n",
       " 0,\n",
       " 0,\n",
       " 0,\n",
       " 0,\n",
       " 0,\n",
       " 0,\n",
       " 0,\n",
       " 0,\n",
       " 0,\n",
       " 0,\n",
       " 0,\n",
       " 0,\n",
       " 0,\n",
       " 0,\n",
       " 0,\n",
       " 0,\n",
       " 0,\n",
       " 0,\n",
       " 0,\n",
       " 0,\n",
       " 0,\n",
       " 0,\n",
       " 0,\n",
       " 0,\n",
       " 0,\n",
       " 0,\n",
       " 0,\n",
       " 0,\n",
       " 0,\n",
       " 0,\n",
       " 0,\n",
       " 0,\n",
       " 0,\n",
       " 0,\n",
       " 0,\n",
       " 0,\n",
       " 0,\n",
       " 0,\n",
       " 0]"
      ]
     },
     "execution_count": 161,
     "metadata": {},
     "output_type": "execute_result"
    }
   ],
   "source": [
    "energy_indices = []\n",
    "for job in sectors:\n",
    "    if job in ['Energy']:\n",
    "        energy_indices.append(1)\n",
    "    else:\n",
    "        energy_indices.append(0)\n",
    "\n",
    "energy_indices"
   ]
  },
  {
   "cell_type": "code",
   "execution_count": 162,
   "metadata": {},
   "outputs": [],
   "source": [
    "energy = model.addConstr((gb.quicksum(energy_indices[i]*x[i] for i in range(67))) >= 1000000, \"Energy Constraint\")"
   ]
  },
  {
   "cell_type": "code",
   "execution_count": 163,
   "metadata": {},
   "outputs": [
    {
     "data": {
      "text/html": [
       "<div>\n",
       "<style scoped>\n",
       "    .dataframe tbody tr th:only-of-type {\n",
       "        vertical-align: middle;\n",
       "    }\n",
       "\n",
       "    .dataframe tbody tr th {\n",
       "        vertical-align: top;\n",
       "    }\n",
       "\n",
       "    .dataframe thead th {\n",
       "        text-align: right;\n",
       "    }\n",
       "</style>\n",
       "<table border=\"1\" class=\"dataframe\">\n",
       "  <thead>\n",
       "    <tr style=\"text-align: right;\">\n",
       "      <th></th>\n",
       "      <th>Ticker symbol</th>\n",
       "      <th>Company</th>\n",
       "      <th>GICS Sector</th>\n",
       "      <th>Location of Headquarters</th>\n",
       "      <th>Price</th>\n",
       "      <th>PercentReturn</th>\n",
       "    </tr>\n",
       "  </thead>\n",
       "  <tbody>\n",
       "    <tr>\n",
       "      <th>0</th>\n",
       "      <td>AEE</td>\n",
       "      <td>Ameren Corp</td>\n",
       "      <td>Utilities</td>\n",
       "      <td>St. Louis, Missouri</td>\n",
       "      <td>31.26</td>\n",
       "      <td>4.83</td>\n",
       "    </tr>\n",
       "    <tr>\n",
       "      <th>1</th>\n",
       "      <td>AXP</td>\n",
       "      <td>American Express Co</td>\n",
       "      <td>Financials</td>\n",
       "      <td>New York, New York</td>\n",
       "      <td>49.23</td>\n",
       "      <td>1.53</td>\n",
       "    </tr>\n",
       "    <tr>\n",
       "      <th>2</th>\n",
       "      <td>T</td>\n",
       "      <td>AT&amp;T Inc</td>\n",
       "      <td>Telecommunications Services</td>\n",
       "      <td>Dallas, Texas</td>\n",
       "      <td>30.09</td>\n",
       "      <td>5.82</td>\n",
       "    </tr>\n",
       "    <tr>\n",
       "      <th>3</th>\n",
       "      <td>AVP</td>\n",
       "      <td>Avon Products</td>\n",
       "      <td>Consumer Staples</td>\n",
       "      <td>New York, New York</td>\n",
       "      <td>18.31</td>\n",
       "      <td>5.26</td>\n",
       "    </tr>\n",
       "    <tr>\n",
       "      <th>4</th>\n",
       "      <td>BFB</td>\n",
       "      <td>Brown-Forman Corporation</td>\n",
       "      <td>Consumer Staples</td>\n",
       "      <td>Louisville, Kentucky</td>\n",
       "      <td>82.28</td>\n",
       "      <td>1.74</td>\n",
       "    </tr>\n",
       "    <tr>\n",
       "      <th>...</th>\n",
       "      <td>...</td>\n",
       "      <td>...</td>\n",
       "      <td>...</td>\n",
       "      <td>...</td>\n",
       "      <td>...</td>\n",
       "      <td>...</td>\n",
       "    </tr>\n",
       "    <tr>\n",
       "      <th>62</th>\n",
       "      <td>X</td>\n",
       "      <td>United States Steel Corp.</td>\n",
       "      <td>Materials</td>\n",
       "      <td>Pittsburgh, Pennsylvania</td>\n",
       "      <td>28.96</td>\n",
       "      <td>0.76</td>\n",
       "    </tr>\n",
       "    <tr>\n",
       "      <th>63</th>\n",
       "      <td>UTX</td>\n",
       "      <td>United Technologies</td>\n",
       "      <td>Industrials</td>\n",
       "      <td>Hartford, Connecticut</td>\n",
       "      <td>77.78</td>\n",
       "      <td>2.63</td>\n",
       "    </tr>\n",
       "    <tr>\n",
       "      <th>64</th>\n",
       "      <td>VZ</td>\n",
       "      <td>Verizon Communications</td>\n",
       "      <td>Telecommunications Services</td>\n",
       "      <td>New York, New York</td>\n",
       "      <td>37.79</td>\n",
       "      <td>4.99</td>\n",
       "    </tr>\n",
       "    <tr>\n",
       "      <th>65</th>\n",
       "      <td>WMT</td>\n",
       "      <td>Wal-Mart Stores</td>\n",
       "      <td>Consumer Staples</td>\n",
       "      <td>Bentonville, Arkansas</td>\n",
       "      <td>61.39</td>\n",
       "      <td>2.44</td>\n",
       "    </tr>\n",
       "    <tr>\n",
       "      <th>66</th>\n",
       "      <td>WHR</td>\n",
       "      <td>Whirlpool Corp.</td>\n",
       "      <td>Consumer Discretionary</td>\n",
       "      <td>Benton Charter Township, Michigan</td>\n",
       "      <td>54.36</td>\n",
       "      <td>4.21</td>\n",
       "    </tr>\n",
       "  </tbody>\n",
       "</table>\n",
       "<p>67 rows × 6 columns</p>\n",
       "</div>"
      ],
      "text/plain": [
       "   Ticker symbol                    Company                  GICS Sector   \n",
       "0            AEE                Ameren Corp                    Utilities  \\\n",
       "1            AXP        American Express Co                   Financials   \n",
       "2              T                   AT&T Inc  Telecommunications Services   \n",
       "3            AVP              Avon Products             Consumer Staples   \n",
       "4            BFB   Brown-Forman Corporation             Consumer Staples   \n",
       "..           ...                        ...                          ...   \n",
       "62             X  United States Steel Corp.                    Materials   \n",
       "63           UTX        United Technologies                  Industrials   \n",
       "64            VZ     Verizon Communications  Telecommunications Services   \n",
       "65           WMT            Wal-Mart Stores             Consumer Staples   \n",
       "66           WHR            Whirlpool Corp.       Consumer Discretionary   \n",
       "\n",
       "             Location of Headquarters  Price  PercentReturn  \n",
       "0                 St. Louis, Missouri  31.26           4.83  \n",
       "1                  New York, New York  49.23           1.53  \n",
       "2                       Dallas, Texas  30.09           5.82  \n",
       "3                  New York, New York  18.31           5.26  \n",
       "4                Louisville, Kentucky  82.28           1.74  \n",
       "..                                ...    ...            ...  \n",
       "62           Pittsburgh, Pennsylvania  28.96           0.76  \n",
       "63              Hartford, Connecticut  77.78           2.63  \n",
       "64                 New York, New York  37.79           4.99  \n",
       "65              Bentonville, Arkansas  61.39           2.44  \n",
       "66  Benton Charter Township, Michigan  54.36           4.21  \n",
       "\n",
       "[67 rows x 6 columns]"
      ]
     },
     "execution_count": 163,
     "metadata": {},
     "output_type": "execute_result"
    }
   ],
   "source": [
    "investment_df"
   ]
  },
  {
   "cell_type": "code",
   "execution_count": 164,
   "metadata": {},
   "outputs": [
    {
     "data": {
      "text/plain": [
       "array(['St. Louis, Missouri', 'New York, New York', 'Dallas, Texas',\n",
       "       'Louisville, Kentucky', 'Eden Prairie, Minnesota',\n",
       "       'Bethpage, New York', 'Camden, New Jersey', 'Atlanta, Georgia',\n",
       "       'Houston, Texas', 'Riverwoods, Illinois', 'Richmond, Virginia',\n",
       "       'Chicago, Illinois', 'Downers Grove, Illinois',\n",
       "       'Detroit, Michigan', 'Charlotte, North Carolina', 'Irving, Texas',\n",
       "       'Dearborn, Michigan', 'Stamford, Connecticut', 'McLean, Virginia',\n",
       "       'Fairfield, Connecticut', 'Milwaukee, Wisconsin',\n",
       "       'Long Beach, California', 'Pittsburgh, Pennsylvania',\n",
       "       'Palo Alto, California', 'New Brunswick, New Jersey',\n",
       "       'Cleveland, Ohio', 'New Hyde Park, New York', 'Buffalo, New York',\n",
       "       'Harrison, New York', 'Oak Brook, Illinois',\n",
       "       'San Francisco, California', 'Whitehouse Station, New Jersey',\n",
       "       'Chandler, Arizona', 'Redmond, Washington', 'Denver, Colorado',\n",
       "       'Tulsa, Oklahoma', 'Redwood Shores, California',\n",
       "       'Bridgeport, Connecticut', 'Washington D.C', 'Purchase, New York',\n",
       "       'Waltham, Massachusetts', 'Phoenix, Arizona',\n",
       "       'Seattle, Washington', 'Cincinnati, Ohio', 'San Diego, California',\n",
       "       'Framingham, Massachusetts', 'Tampa, Florida',\n",
       "       'Hershey, Pennsylvania', 'St. Paul, Minnesota',\n",
       "       'Sandy Springs, Georgia', 'Hartford, Connecticut',\n",
       "       'Bentonville, Arkansas', 'Benton Charter Township, Michigan'],\n",
       "      dtype=object)"
      ]
     },
     "execution_count": 164,
     "metadata": {},
     "output_type": "execute_result"
    }
   ],
   "source": [
    "investment_df['Location of Headquarters'].unique()"
   ]
  },
  {
   "cell_type": "code",
   "execution_count": 165,
   "metadata": {},
   "outputs": [
    {
     "data": {
      "text/plain": [
       "array(['St. Louis, Missouri', 'New York, New York', 'Dallas, Texas',\n",
       "       'New York, New York', 'Louisville, Kentucky',\n",
       "       'Eden Prairie, Minnesota', 'Bethpage, New York',\n",
       "       'Camden, New Jersey', 'New York, New York', 'Atlanta, Georgia',\n",
       "       'Atlanta, Georgia', 'Houston, Texas', 'Houston, Texas',\n",
       "       'Houston, Texas', 'Riverwoods, Illinois', 'Richmond, Virginia',\n",
       "       'Chicago, Illinois', 'Downers Grove, Illinois',\n",
       "       'Detroit, Michigan', 'Charlotte, North Carolina', 'Houston, Texas',\n",
       "       'Irving, Texas', 'Dearborn, Michigan', 'Stamford, Connecticut',\n",
       "       'McLean, Virginia', 'Fairfield, Connecticut',\n",
       "       'Milwaukee, Wisconsin', 'Long Beach, California',\n",
       "       'Pittsburgh, Pennsylvania', 'Palo Alto, California',\n",
       "       'Atlanta, Georgia', 'New Brunswick, New Jersey',\n",
       "       'New York, New York', 'Cleveland, Ohio', 'New Hyde Park, New York',\n",
       "       'Buffalo, New York', 'Harrison, New York', 'Oak Brook, Illinois',\n",
       "       'San Francisco, California', 'Whitehouse Station, New Jersey',\n",
       "       'Chandler, Arizona', 'Redmond, Washington', 'Denver, Colorado',\n",
       "       'Tulsa, Oklahoma', 'Redwood Shores, California',\n",
       "       'Bridgeport, Connecticut', 'Washington D.C', 'Purchase, New York',\n",
       "       'Waltham, Massachusetts', 'San Francisco, California',\n",
       "       'Phoenix, Arizona', 'Seattle, Washington', 'Cincinnati, Ohio',\n",
       "       'Denver, Colorado', 'San Diego, California',\n",
       "       'Framingham, Massachusetts', 'Seattle, Washington',\n",
       "       'Tampa, Florida', 'Hershey, Pennsylvania', 'St. Paul, Minnesota',\n",
       "       'New York, New York', 'Sandy Springs, Georgia',\n",
       "       'Pittsburgh, Pennsylvania', 'Hartford, Connecticut',\n",
       "       'New York, New York', 'Bentonville, Arkansas',\n",
       "       'Benton Charter Township, Michigan'], dtype=object)"
      ]
     },
     "execution_count": 165,
     "metadata": {},
     "output_type": "execute_result"
    }
   ],
   "source": [
    "location = investment_df['Location of Headquarters'].values\n",
    "location"
   ]
  },
  {
   "cell_type": "code",
   "execution_count": 166,
   "metadata": {},
   "outputs": [
    {
     "data": {
      "text/plain": [
       "[0,\n",
       " 1,\n",
       " 0,\n",
       " 1,\n",
       " 0,\n",
       " 0,\n",
       " 0,\n",
       " 0,\n",
       " 1,\n",
       " 0,\n",
       " 0,\n",
       " 0,\n",
       " 0,\n",
       " 0,\n",
       " 0,\n",
       " 0,\n",
       " 0,\n",
       " 0,\n",
       " 0,\n",
       " 0,\n",
       " 0,\n",
       " 0,\n",
       " 0,\n",
       " 0,\n",
       " 0,\n",
       " 0,\n",
       " 0,\n",
       " 0,\n",
       " 0,\n",
       " 0,\n",
       " 0,\n",
       " 0,\n",
       " 1,\n",
       " 0,\n",
       " 0,\n",
       " 0,\n",
       " 0,\n",
       " 0,\n",
       " 0,\n",
       " 0,\n",
       " 0,\n",
       " 0,\n",
       " 0,\n",
       " 0,\n",
       " 0,\n",
       " 0,\n",
       " 0,\n",
       " 0,\n",
       " 0,\n",
       " 0,\n",
       " 0,\n",
       " 0,\n",
       " 0,\n",
       " 0,\n",
       " 0,\n",
       " 0,\n",
       " 0,\n",
       " 0,\n",
       " 0,\n",
       " 0,\n",
       " 1,\n",
       " 0,\n",
       " 0,\n",
       " 0,\n",
       " 1,\n",
       " 0,\n",
       " 0]"
      ]
     },
     "execution_count": 166,
     "metadata": {},
     "output_type": "execute_result"
    }
   ],
   "source": [
    "new_york_indices = []\n",
    "for place in location:\n",
    "    if place in ['New York, New York']:\n",
    "        new_york_indices.append(1)\n",
    "    else:\n",
    "        new_york_indices.append(0)\n",
    "\n",
    "new_york_indices"
   ]
  },
  {
   "cell_type": "code",
   "execution_count": 167,
   "metadata": {},
   "outputs": [],
   "source": [
    "NY = model.addConstr((gb.quicksum(new_york_indices[i]*x[i] for i in range(67))) >= 300000, \"Location Constraint\")"
   ]
  },
  {
   "cell_type": "code",
   "execution_count": 168,
   "metadata": {},
   "outputs": [
    {
     "name": "stdout",
     "output_type": "stream",
     "text": [
      "Gurobi Optimizer version 11.0.0 build v11.0.0rc2 (win64 - Windows 11+.0 (22631.2))\n",
      "\n",
      "CPU model: Intel(R) Core(TM) i7-8750H CPU @ 2.20GHz, instruction set [SSE2|AVX|AVX2]\n",
      "Thread count: 6 physical cores, 12 logical processors, using up to 12 threads\n",
      "\n",
      "Optimize a model with 74 rows, 67 columns and 196 nonzeros\n",
      "Model fingerprint: 0x4b090aa3\n",
      "Coefficient statistics:\n",
      "  Matrix range     [8e-01, 1e+00]\n",
      "  Objective range  [2e-03, 1e-01]\n",
      "  Bounds range     [0e+00, 0e+00]\n",
      "  RHS range        [2e+05, 1e+07]\n",
      "Presolve removed 68 rows and 16 columns\n",
      "Presolve time: 0.00s\n",
      "Presolved: 6 rows, 52 columns, 92 nonzeros\n",
      "\n",
      "Iteration    Objective       Primal Inf.    Dual Inf.      Time\n",
      "       0    1.4560000e+06   3.474937e+06   0.000000e+00      0s\n",
      "       6    5.1346000e+05   0.000000e+00   0.000000e+00      0s\n",
      "\n",
      "Solved in 6 iterations and 0.01 seconds (0.00 work units)\n",
      "Optimal objective  5.134600000e+05\n"
     ]
    }
   ],
   "source": [
    "# Optimally solve the problem\n",
    "model.optimize()"
   ]
  },
  {
   "cell_type": "code",
   "execution_count": 169,
   "metadata": {},
   "outputs": [
    {
     "name": "stdout",
     "output_type": "stream",
     "text": [
      "\n",
      "    Variable            X \n",
      "-------------------------\n",
      "Money Invested[0]       600000 \n",
      "Money Invested[3]       600000 \n",
      "Money Invested[6]       400000 \n",
      "Money Invested[11]       600000 \n",
      "Money Invested[16]       600000 \n",
      "Money Invested[19]       600000 \n",
      "Money Invested[21]       400000 \n",
      "Money Invested[23]       500000 \n",
      "Money Invested[27]       600000 \n",
      "Money Invested[34]       600000 \n",
      "Money Invested[39]       600000 \n",
      "Money Invested[40]       375000 \n",
      "Money Invested[45]       600000 \n",
      "Money Invested[46]       600000 \n",
      "Money Invested[49]       600000 \n",
      "Money Invested[50]       525000 \n",
      "Money Invested[51]       600000 \n",
      "Money Invested[57]       600000 \n",
      "None\n"
     ]
    }
   ],
   "source": [
    "# Print the decision variables\n",
    "print(model.printAttr('X'))"
   ]
  },
  {
   "cell_type": "code",
   "execution_count": 170,
   "metadata": {},
   "outputs": [
    {
     "name": "stdout",
     "output_type": "stream",
     "text": [
      "Expected 1-year Return:  513460.0\n"
     ]
    }
   ],
   "source": [
    "# Value of the objective function\n",
    "print(\"Expected 1-year Return: \", round(model.objVal, 2))"
   ]
  },
  {
   "cell_type": "code",
   "execution_count": 171,
   "metadata": {},
   "outputs": [
    {
     "data": {
      "text/plain": [
       "6"
      ]
     },
     "execution_count": 171,
     "metadata": {},
     "output_type": "execute_result"
    }
   ],
   "source": [
    "total = sum(new_york_indices)\n",
    "total"
   ]
  },
  {
   "cell_type": "markdown",
   "metadata": {},
   "source": [
    "a) 6\n",
    "\n",
    "b) 67\n",
    "\n",
    "c) A decision variable represents the amount of money to be invested in a company. It is i = 1 through 67. Constraint: for i = 1, x_i <= 600000"
   ]
  },
  {
   "cell_type": "code",
   "execution_count": 172,
   "metadata": {},
   "outputs": [
    {
     "data": {
      "text/plain": [
       "{0: 600000.0,\n",
       " 1: 0.0,\n",
       " 2: 0.0,\n",
       " 3: 600000.0,\n",
       " 4: 0.0,\n",
       " 5: 0.0,\n",
       " 6: 400000.0,\n",
       " 7: 0.0,\n",
       " 8: 0.0,\n",
       " 9: 0.0,\n",
       " 10: 0.0,\n",
       " 11: 600000.0,\n",
       " 12: 0.0,\n",
       " 13: 0.0,\n",
       " 14: 0.0,\n",
       " 15: 0.0,\n",
       " 16: 600000.0,\n",
       " 17: 0.0,\n",
       " 18: 0.0,\n",
       " 19: 600000.0,\n",
       " 20: 0.0,\n",
       " 21: 400000.0,\n",
       " 22: 0.0,\n",
       " 23: 500000.0,\n",
       " 24: 0.0,\n",
       " 25: 0.0,\n",
       " 26: 0.0,\n",
       " 27: 600000.0,\n",
       " 28: 0.0,\n",
       " 29: 0.0,\n",
       " 30: 0.0,\n",
       " 31: 0.0,\n",
       " 32: 0.0,\n",
       " 33: 0.0,\n",
       " 34: 600000.0,\n",
       " 35: 0.0,\n",
       " 36: 0.0,\n",
       " 37: 0.0,\n",
       " 38: 0.0,\n",
       " 39: 600000.0,\n",
       " 40: 375000.0,\n",
       " 41: 0.0,\n",
       " 42: 0.0,\n",
       " 43: 0.0,\n",
       " 44: 0.0,\n",
       " 45: 600000.0,\n",
       " 46: 600000.0,\n",
       " 47: 0.0,\n",
       " 48: 0.0,\n",
       " 49: 600000.0,\n",
       " 50: 525000.0,\n",
       " 51: 600000.0,\n",
       " 52: 0.0,\n",
       " 53: 0.0,\n",
       " 54: 0.0,\n",
       " 55: 0.0,\n",
       " 56: 0.0,\n",
       " 57: 600000.0,\n",
       " 58: 0.0,\n",
       " 59: 0.0,\n",
       " 60: 0.0,\n",
       " 61: 0.0,\n",
       " 62: 0.0,\n",
       " 63: 0.0,\n",
       " 64: 0.0,\n",
       " 65: 0.0,\n",
       " 66: 0.0}"
      ]
     },
     "execution_count": 172,
     "metadata": {},
     "output_type": "execute_result"
    }
   ],
   "source": [
    "invested_money = model.getAttr('X', x)\n",
    "invested_money"
   ]
  },
  {
   "cell_type": "code",
   "execution_count": 173,
   "metadata": {},
   "outputs": [
    {
     "data": {
      "text/plain": [
       "[0.0,\n",
       " 0.0,\n",
       " 0.0,\n",
       " 600000.0,\n",
       " 0.0,\n",
       " 0.0,\n",
       " 0.0,\n",
       " 0.0,\n",
       " 0.0,\n",
       " 0.0,\n",
       " 0.0,\n",
       " 0.0,\n",
       " 0.0,\n",
       " 0.0,\n",
       " 0.0,\n",
       " 0.0,\n",
       " 0.0,\n",
       " 0.0,\n",
       " 0.0,\n",
       " 0.0,\n",
       " 0.0,\n",
       " 0.0,\n",
       " 0.0,\n",
       " 0.0,\n",
       " 0.0,\n",
       " 0.0,\n",
       " 0.0,\n",
       " 0.0,\n",
       " 0.0,\n",
       " 0.0,\n",
       " 0.0,\n",
       " 0.0,\n",
       " 0.0,\n",
       " 0.0,\n",
       " 0.0,\n",
       " 0.0,\n",
       " 0.0,\n",
       " 0.0,\n",
       " 0.0,\n",
       " 0.0,\n",
       " 0.0,\n",
       " 0.0,\n",
       " 0.0,\n",
       " 0.0,\n",
       " 0.0,\n",
       " 0.0,\n",
       " 0.0,\n",
       " 0.0,\n",
       " 0.0,\n",
       " 0.0,\n",
       " 0.0,\n",
       " 0.0,\n",
       " 0.0,\n",
       " 0.0,\n",
       " 0.0,\n",
       " 0.0,\n",
       " 0.0,\n",
       " 0.0,\n",
       " 0.0,\n",
       " 0.0,\n",
       " 0.0,\n",
       " 0.0,\n",
       " 0.0,\n",
       " 0.0,\n",
       " 0.0,\n",
       " 0.0,\n",
       " 0.0]"
      ]
     },
     "execution_count": 173,
     "metadata": {},
     "output_type": "execute_result"
    }
   ],
   "source": [
    "new_york_investment = [new_york_indices[i] * invested_money[i] for i in range(67)]\n",
    "new_york_investment"
   ]
  },
  {
   "cell_type": "code",
   "execution_count": 174,
   "metadata": {},
   "outputs": [
    {
     "data": {
      "text/plain": [
       "600000.0"
      ]
     },
     "execution_count": 174,
     "metadata": {},
     "output_type": "execute_result"
    }
   ],
   "source": [
    "total_NY_investment = sum(new_york_investment)\n",
    "total_NY_investment"
   ]
  },
  {
   "cell_type": "markdown",
   "metadata": {},
   "source": [
    "d) $600,000 invested in NYC companies.\n",
    "\n",
    "e) OFV = $513460"
   ]
  },
  {
   "cell_type": "code",
   "execution_count": 175,
   "metadata": {},
   "outputs": [
    {
     "name": "stdout",
     "output_type": "stream",
     "text": [
      "\n",
      "Sensitivity Information for Land Capacity Constraint -0.02:\n",
      "(LHS, RHS, Slack):  (1000000.0, 1000000.0, 0.0)\n",
      "Shadow Price:  -0.0214\n",
      "Range of Feasibility:  (1200000.0, 925000.0)\n"
     ]
    }
   ],
   "source": [
    "print(\"\")\n",
    "print(f\"Sensitivity Information for Land Capacity Constraint {energy.pi:.2f}:\")\n",
    "print(\"(LHS, RHS, Slack): \", (model.getRow(energy).getValue(), energy.RHS, energy.slack))\n",
    "print(\"Shadow Price: \", energy.pi)\n",
    "print(\"Range of Feasibility: \", (energy.SARHSUp, energy.SARHSLow))"
   ]
  },
  {
   "cell_type": "code",
   "execution_count": 176,
   "metadata": {},
   "outputs": [
    {
     "name": "stdout",
     "output_type": "stream",
     "text": [
      "\n",
      "Sensitivity Information for Land Capacity Constraint 0.00:\n",
      "(LHS, RHS, Slack):  (600000.0, 300000.0, -300000.0)\n",
      "Shadow Price:  0.0\n",
      "Range of Feasibility:  (600000.0, -inf)\n"
     ]
    }
   ],
   "source": [
    "print(\"\")\n",
    "print(f\"Sensitivity Information for Land Capacity Constraint {NY.pi:.2f}:\")\n",
    "print(\"(LHS, RHS, Slack): \", (model.getRow(NY).getValue(), NY.RHS, NY.slack))\n",
    "print(\"Shadow Price: \", NY.pi)\n",
    "print(\"Range of Feasibility: \", (NY.SARHSUp, NY.SARHSLow))"
   ]
  },
  {
   "cell_type": "code",
   "execution_count": 177,
   "metadata": {},
   "outputs": [
    {
     "name": "stdout",
     "output_type": "stream",
     "text": [
      "\n",
      "Sensitivity Information for Land Capacity Constraint 0.04:\n",
      "(LHS, RHS, Slack):  (10000000.0, 10000000.0, 0.0)\n",
      "Shadow Price:  0.0436\n",
      "Range of Feasibility:  (10075000.0, 9475000.0)\n"
     ]
    }
   ],
   "source": [
    "print(\"\")\n",
    "print(f\"Sensitivity Information for Land Capacity Constraint {total_invested.pi:.2f}:\")\n",
    "print(\"(LHS, RHS, Slack): \", (model.getRow(total_invested).getValue(), total_invested.RHS, total_invested.slack))\n",
    "print(\"Shadow Price: \", total_invested.pi)\n",
    "print(\"Range of Feasibility: \", (total_invested.SARHSUp, total_invested.SARHSLow))"
   ]
  },
  {
   "cell_type": "markdown",
   "metadata": {},
   "source": [
    "f) I guess relative to what is being solved the shadow price is a percentage. Since it is negative, provided the lowering is in the range of feasibility to ensure the shadow price can properly account for it, lowering the number invested increases the OFV, so do it."
   ]
  },
  {
   "cell_type": "code",
   "execution_count": 178,
   "metadata": {},
   "outputs": [
    {
     "data": {
      "text/html": [
       "<div>\n",
       "<style scoped>\n",
       "    .dataframe tbody tr th:only-of-type {\n",
       "        vertical-align: middle;\n",
       "    }\n",
       "\n",
       "    .dataframe tbody tr th {\n",
       "        vertical-align: top;\n",
       "    }\n",
       "\n",
       "    .dataframe thead th {\n",
       "        text-align: right;\n",
       "    }\n",
       "</style>\n",
       "<table border=\"1\" class=\"dataframe\">\n",
       "  <thead>\n",
       "    <tr style=\"text-align: right;\">\n",
       "      <th></th>\n",
       "      <th>Ticker symbol</th>\n",
       "      <th>Company</th>\n",
       "      <th>GICS Sector</th>\n",
       "      <th>Location of Headquarters</th>\n",
       "      <th>Price</th>\n",
       "      <th>PercentReturn</th>\n",
       "    </tr>\n",
       "  </thead>\n",
       "  <tbody>\n",
       "    <tr>\n",
       "      <th>0</th>\n",
       "      <td>AEE</td>\n",
       "      <td>Ameren Corp</td>\n",
       "      <td>Utilities</td>\n",
       "      <td>St. Louis, Missouri</td>\n",
       "      <td>31.26</td>\n",
       "      <td>4.83</td>\n",
       "    </tr>\n",
       "    <tr>\n",
       "      <th>1</th>\n",
       "      <td>AXP</td>\n",
       "      <td>American Express Co</td>\n",
       "      <td>Financials</td>\n",
       "      <td>New York, New York</td>\n",
       "      <td>49.23</td>\n",
       "      <td>1.53</td>\n",
       "    </tr>\n",
       "    <tr>\n",
       "      <th>2</th>\n",
       "      <td>T</td>\n",
       "      <td>AT&amp;T Inc</td>\n",
       "      <td>Telecommunications Services</td>\n",
       "      <td>Dallas, Texas</td>\n",
       "      <td>30.09</td>\n",
       "      <td>5.82</td>\n",
       "    </tr>\n",
       "    <tr>\n",
       "      <th>3</th>\n",
       "      <td>AVP</td>\n",
       "      <td>Avon Products</td>\n",
       "      <td>Consumer Staples</td>\n",
       "      <td>New York, New York</td>\n",
       "      <td>18.31</td>\n",
       "      <td>5.26</td>\n",
       "    </tr>\n",
       "    <tr>\n",
       "      <th>4</th>\n",
       "      <td>BFB</td>\n",
       "      <td>Brown-Forman Corporation</td>\n",
       "      <td>Consumer Staples</td>\n",
       "      <td>Louisville, Kentucky</td>\n",
       "      <td>82.28</td>\n",
       "      <td>1.74</td>\n",
       "    </tr>\n",
       "    <tr>\n",
       "      <th>5</th>\n",
       "      <td>CHRW</td>\n",
       "      <td>C. H. Robinson Worldwide</td>\n",
       "      <td>Industrials</td>\n",
       "      <td>Eden Prairie, Minnesota</td>\n",
       "      <td>67.63</td>\n",
       "      <td>1.89</td>\n",
       "    </tr>\n",
       "    <tr>\n",
       "      <th>6</th>\n",
       "      <td>CVC</td>\n",
       "      <td>Cablevision Systems Corp.</td>\n",
       "      <td>Consumer Discretionary</td>\n",
       "      <td>Bethpage, New York</td>\n",
       "      <td>14.16</td>\n",
       "      <td>4.22</td>\n",
       "    </tr>\n",
       "    <tr>\n",
       "      <th>7</th>\n",
       "      <td>CPB</td>\n",
       "      <td>Campbell Soup</td>\n",
       "      <td>Consumer Staples</td>\n",
       "      <td>Camden, New Jersey</td>\n",
       "      <td>31.61</td>\n",
       "      <td>3.49</td>\n",
       "    </tr>\n",
       "    <tr>\n",
       "      <th>8</th>\n",
       "      <td>CBS</td>\n",
       "      <td>CBS Corp.</td>\n",
       "      <td>Consumer Discretionary</td>\n",
       "      <td>New York, New York</td>\n",
       "      <td>28.64</td>\n",
       "      <td>1.47</td>\n",
       "    </tr>\n",
       "    <tr>\n",
       "      <th>9</th>\n",
       "      <td>KO</td>\n",
       "      <td>Coca Cola Co.</td>\n",
       "      <td>Consumer Staples</td>\n",
       "      <td>Atlanta, Georgia</td>\n",
       "      <td>67.90</td>\n",
       "      <td>2.69</td>\n",
       "    </tr>\n",
       "  </tbody>\n",
       "</table>\n",
       "</div>"
      ],
      "text/plain": [
       "  Ticker symbol                    Company                  GICS Sector   \n",
       "0           AEE                Ameren Corp                    Utilities  \\\n",
       "1           AXP        American Express Co                   Financials   \n",
       "2             T                   AT&T Inc  Telecommunications Services   \n",
       "3           AVP              Avon Products             Consumer Staples   \n",
       "4           BFB   Brown-Forman Corporation             Consumer Staples   \n",
       "5          CHRW   C. H. Robinson Worldwide                  Industrials   \n",
       "6           CVC  Cablevision Systems Corp.       Consumer Discretionary   \n",
       "7           CPB              Campbell Soup             Consumer Staples   \n",
       "8           CBS                  CBS Corp.       Consumer Discretionary   \n",
       "9            KO              Coca Cola Co.             Consumer Staples   \n",
       "\n",
       "  Location of Headquarters  Price  PercentReturn  \n",
       "0      St. Louis, Missouri  31.26           4.83  \n",
       "1       New York, New York  49.23           1.53  \n",
       "2            Dallas, Texas  30.09           5.82  \n",
       "3       New York, New York  18.31           5.26  \n",
       "4     Louisville, Kentucky  82.28           1.74  \n",
       "5  Eden Prairie, Minnesota  67.63           1.89  \n",
       "6       Bethpage, New York  14.16           4.22  \n",
       "7       Camden, New Jersey  31.61           3.49  \n",
       "8       New York, New York  28.64           1.47  \n",
       "9         Atlanta, Georgia  67.90           2.69  "
      ]
     },
     "execution_count": 178,
     "metadata": {},
     "output_type": "execute_result"
    }
   ],
   "source": [
    "investment_df.head(10)"
   ]
  },
  {
   "cell_type": "code",
   "execution_count": 179,
   "metadata": {},
   "outputs": [
    {
     "data": {
      "text/html": [
       "<div>\n",
       "<style scoped>\n",
       "    .dataframe tbody tr th:only-of-type {\n",
       "        vertical-align: middle;\n",
       "    }\n",
       "\n",
       "    .dataframe tbody tr th {\n",
       "        vertical-align: top;\n",
       "    }\n",
       "\n",
       "    .dataframe thead th {\n",
       "        text-align: right;\n",
       "    }\n",
       "</style>\n",
       "<table border=\"1\" class=\"dataframe\">\n",
       "  <thead>\n",
       "    <tr style=\"text-align: right;\">\n",
       "      <th></th>\n",
       "      <th>Ticker symbol</th>\n",
       "      <th>Company</th>\n",
       "      <th>GICS Sector</th>\n",
       "      <th>Location of Headquarters</th>\n",
       "      <th>Price</th>\n",
       "      <th>PercentReturn</th>\n",
       "    </tr>\n",
       "  </thead>\n",
       "  <tbody>\n",
       "    <tr>\n",
       "      <th>10</th>\n",
       "      <td>CCE</td>\n",
       "      <td>Coca-Cola Enterprises</td>\n",
       "      <td>Consumer Staples</td>\n",
       "      <td>Atlanta, Georgia</td>\n",
       "      <td>26.59</td>\n",
       "      <td>2.02</td>\n",
       "    </tr>\n",
       "    <tr>\n",
       "      <th>11</th>\n",
       "      <td>COP</td>\n",
       "      <td>ConocoPhillips</td>\n",
       "      <td>Energy</td>\n",
       "      <td>Houston, Texas</td>\n",
       "      <td>70.61</td>\n",
       "      <td>3.62</td>\n",
       "    </tr>\n",
       "    <tr>\n",
       "      <th>12</th>\n",
       "      <td>CBE</td>\n",
       "      <td>Cooper Industries</td>\n",
       "      <td>Industrials</td>\n",
       "      <td>Houston, Texas</td>\n",
       "      <td>60.16</td>\n",
       "      <td>2.14</td>\n",
       "    </tr>\n",
       "    <tr>\n",
       "      <th>13</th>\n",
       "      <td>DO</td>\n",
       "      <td>Diamond Offshore Drilling</td>\n",
       "      <td>Energy</td>\n",
       "      <td>Houston, Texas</td>\n",
       "      <td>61.31</td>\n",
       "      <td>0.90</td>\n",
       "    </tr>\n",
       "    <tr>\n",
       "      <th>14</th>\n",
       "      <td>DFS</td>\n",
       "      <td>Discover Financial Services</td>\n",
       "      <td>Financials</td>\n",
       "      <td>Riverwoods, Illinois</td>\n",
       "      <td>27.83</td>\n",
       "      <td>1.67</td>\n",
       "    </tr>\n",
       "    <tr>\n",
       "      <th>15</th>\n",
       "      <td>D</td>\n",
       "      <td>Dominion Resources</td>\n",
       "      <td>Utilities</td>\n",
       "      <td>Richmond, Virginia</td>\n",
       "      <td>50.31</td>\n",
       "      <td>3.71</td>\n",
       "    </tr>\n",
       "    <tr>\n",
       "      <th>16</th>\n",
       "      <td>RRD</td>\n",
       "      <td>Donnelley (R.R.) &amp; Sons</td>\n",
       "      <td>Industrials</td>\n",
       "      <td>Chicago, Illinois</td>\n",
       "      <td>12.20</td>\n",
       "      <td>7.21</td>\n",
       "    </tr>\n",
       "    <tr>\n",
       "      <th>17</th>\n",
       "      <td>DOV</td>\n",
       "      <td>Dover Corp.</td>\n",
       "      <td>Industrials</td>\n",
       "      <td>Downers Grove, Illinois</td>\n",
       "      <td>60.47</td>\n",
       "      <td>2.17</td>\n",
       "    </tr>\n",
       "    <tr>\n",
       "      <th>18</th>\n",
       "      <td>DTE</td>\n",
       "      <td>DTE Energy Co.</td>\n",
       "      <td>Utilities</td>\n",
       "      <td>Detroit, Michigan</td>\n",
       "      <td>52.96</td>\n",
       "      <td>4.32</td>\n",
       "    </tr>\n",
       "    <tr>\n",
       "      <th>19</th>\n",
       "      <td>DUK</td>\n",
       "      <td>Duke Energy</td>\n",
       "      <td>Utilities</td>\n",
       "      <td>Charlotte, North Carolina</td>\n",
       "      <td>21.14</td>\n",
       "      <td>4.55</td>\n",
       "    </tr>\n",
       "    <tr>\n",
       "      <th>20</th>\n",
       "      <td>EP</td>\n",
       "      <td>El Paso Corp.</td>\n",
       "      <td>Energy</td>\n",
       "      <td>Houston, Texas</td>\n",
       "      <td>26.75</td>\n",
       "      <td>0.15</td>\n",
       "    </tr>\n",
       "  </tbody>\n",
       "</table>\n",
       "</div>"
      ],
      "text/plain": [
       "   Ticker symbol                      Company       GICS Sector   \n",
       "10           CCE        Coca-Cola Enterprises  Consumer Staples  \\\n",
       "11           COP               ConocoPhillips            Energy   \n",
       "12           CBE            Cooper Industries       Industrials   \n",
       "13            DO    Diamond Offshore Drilling            Energy   \n",
       "14           DFS  Discover Financial Services        Financials   \n",
       "15             D           Dominion Resources         Utilities   \n",
       "16           RRD      Donnelley (R.R.) & Sons       Industrials   \n",
       "17           DOV                  Dover Corp.       Industrials   \n",
       "18           DTE               DTE Energy Co.         Utilities   \n",
       "19           DUK                  Duke Energy         Utilities   \n",
       "20            EP                El Paso Corp.            Energy   \n",
       "\n",
       "     Location of Headquarters  Price  PercentReturn  \n",
       "10           Atlanta, Georgia  26.59           2.02  \n",
       "11             Houston, Texas  70.61           3.62  \n",
       "12             Houston, Texas  60.16           2.14  \n",
       "13             Houston, Texas  61.31           0.90  \n",
       "14       Riverwoods, Illinois  27.83           1.67  \n",
       "15         Richmond, Virginia  50.31           3.71  \n",
       "16          Chicago, Illinois  12.20           7.21  \n",
       "17    Downers Grove, Illinois  60.47           2.17  \n",
       "18          Detroit, Michigan  52.96           4.32  \n",
       "19  Charlotte, North Carolina  21.14           4.55  \n",
       "20             Houston, Texas  26.75           0.15  "
      ]
     },
     "execution_count": 179,
     "metadata": {},
     "output_type": "execute_result"
    }
   ],
   "source": [
    "investment_df.iloc[10:21]"
   ]
  },
  {
   "cell_type": "markdown",
   "metadata": {},
   "source": [
    "g) No because it is 3-2.02, which is 0.98, which is within the allowable increase. This means that the optimal portfolio does not change.\n",
    "\n",
    "h) Since the shadow price is positive, an increase in the RHS value outside of the allowable increase results in the optimal funds changing, so do it.\n",
    "\n",
    "i) Since it is outside the allowable increase, using the equation 4.32% × 50000 − 1.5% × 50000 will result in a positive number which is the increase in profit, do it.\n",
    "\n",
    "j) 6 - (1*0 + 1*4.36 - 1*2.14) will be positive, so do it."
   ]
  },
  {
   "cell_type": "code",
   "execution_count": null,
   "metadata": {},
   "outputs": [],
   "source": []
  }
 ],
 "metadata": {
  "kernelspec": {
   "display_name": "Python 3",
   "language": "python",
   "name": "python3"
  },
  "language_info": {
   "codemirror_mode": {
    "name": "ipython",
    "version": 3
   },
   "file_extension": ".py",
   "mimetype": "text/x-python",
   "name": "python",
   "nbconvert_exporter": "python",
   "pygments_lexer": "ipython3",
   "version": "3.11.3"
  }
 },
 "nbformat": 4,
 "nbformat_minor": 2
}
